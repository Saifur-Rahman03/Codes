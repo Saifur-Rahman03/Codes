{
 "cells": [
  {
   "cell_type": "code",
   "execution_count": 1,
   "id": "aca30d32",
   "metadata": {},
   "outputs": [],
   "source": [
    "import pandas as pd\n",
    "import numpy as np\n",
    "import random"
   ]
  },
  {
   "cell_type": "code",
   "execution_count": 2,
   "id": "ae2a899c",
   "metadata": {},
   "outputs": [
    {
     "name": "stdout",
     "output_type": "stream",
     "text": [
      "[0, 0, 1, 0, 1, 1, 0, 1, 1, 1, 0, 0, 0, 0, 0, 0, 0, 0, 0, 1, 0, 1, 0, 0, 1, 1, 0, 0, 0, 1, 1, 1, 0, 0, 1, 1, 0, 1, 1, 1, 0, 0, 1, 1, 0, 1, 0, 0, 1, 1, 1, 0, 1, 0, 1, 1, 0, 0, 0, 0, 0, 1, 1, 1, 0, 1, 0, 0, 0, 0, 0, 1, 0, 0, 0, 0, 0, 0, 1, 0, 1, 1, 1, 1, 0, 0, 1, 1, 0, 1, 1, 0, 1, 1, 1, 1, 1, 1, 1, 0]\n"
     ]
    }
   ],
   "source": [
    "# Label Length\n",
    "l = 100\n",
    "\n",
    "# Original Label\n",
    "X = []\n",
    "for i in range(l):\n",
    "    X.append(random.randint(0, 1))\n",
    "print(X)"
   ]
  },
  {
   "cell_type": "code",
   "execution_count": 3,
   "id": "67f7f0d0",
   "metadata": {},
   "outputs": [
    {
     "name": "stdout",
     "output_type": "stream",
     "text": [
      "[1, 0, 0, 0, 1, 1, 1, 0, 1, 0, 1, 1, 1, 1, 1, 1, 0, 0, 1, 0, 1, 1, 1, 0, 0, 1, 1, 1, 0, 0, 0, 1, 1, 1, 0, 0, 0, 0, 1, 0, 0, 1, 1, 0, 0, 1, 1, 1, 0, 0, 1, 0, 1, 0, 1, 0, 0, 0, 1, 0, 0, 1, 1, 1, 1, 1, 0, 1, 0, 0, 0, 0, 0, 0, 1, 1, 0, 1, 0, 0, 1, 0, 1, 1, 1, 1, 0, 1, 1, 1, 0, 1, 1, 0, 1, 0, 1, 0, 0, 0]\n"
     ]
    }
   ],
   "source": [
    "# Predicted Label\n",
    "Y = []\n",
    "for i in range(l):\n",
    "    Y.append(random.randint(0,1))\n",
    "print(Y)"
   ]
  },
  {
   "cell_type": "code",
   "execution_count": 4,
   "id": "71298499",
   "metadata": {},
   "outputs": [],
   "source": [
    "# Confusion Matrix\n",
    "def confusion_matrix(X, Y, l):\n",
    "    tp = 0 # true positive\n",
    "    fp = 0 # false positive\n",
    "    tn = 0 # true negative\n",
    "    fn = 0 # false negative\n",
    "\n",
    "    for i in range(l):\n",
    "        if X[i] == 1 and Y[i] == 1:\n",
    "            tp += 1\n",
    "        elif X[i] == 0 and Y[i] == 1:\n",
    "            fp += 1\n",
    "        elif X[i] == 1 and Y[i] == 0:\n",
    "            fn += 1\n",
    "        else:\n",
    "            tn += 1\n",
    "\n",
    "    print(\"True Positive \", tp)\n",
    "    print(\"False Positive \", fp)\n",
    "    print(\"False Negative \", fn)\n",
    "    print(\"True Negative \", tn)\n",
    "    print('\\n')\n",
    "    confusion_matrix = [[tp, fp], \n",
    "                        [fn, tn]]\n",
    "    print('Confusion Matrix: ')\n",
    "    print(np.matrix(confusion_matrix))\n",
    "    \n",
    "    return confusion_matrix"
   ]
  },
  {
   "cell_type": "code",
   "execution_count": 5,
   "id": "604ac66b",
   "metadata": {},
   "outputs": [],
   "source": [
    "# Metric\n",
    "w"
   ]
  },
  {
   "cell_type": "code",
   "execution_count": 6,
   "id": "e5875520",
   "metadata": {},
   "outputs": [],
   "source": [
    "from sklearn.tree import DecisionTreeClassifier\n",
    "from sklearn.model_selection import train_test_split"
   ]
  },
  {
   "cell_type": "code",
   "execution_count": 7,
   "id": "e7b2da7b",
   "metadata": {},
   "outputs": [],
   "source": [
    "data = pd.read_csv('glass1.csv')"
   ]
  },
  {
   "cell_type": "code",
   "execution_count": 8,
   "id": "8d7832ae",
   "metadata": {},
   "outputs": [
    {
     "data": {
      "text/html": [
       "<div>\n",
       "<style scoped>\n",
       "    .dataframe tbody tr th:only-of-type {\n",
       "        vertical-align: middle;\n",
       "    }\n",
       "\n",
       "    .dataframe tbody tr th {\n",
       "        vertical-align: top;\n",
       "    }\n",
       "\n",
       "    .dataframe thead th {\n",
       "        text-align: right;\n",
       "    }\n",
       "</style>\n",
       "<table border=\"1\" class=\"dataframe\">\n",
       "  <thead>\n",
       "    <tr style=\"text-align: right;\">\n",
       "      <th></th>\n",
       "      <th>A</th>\n",
       "      <th>B</th>\n",
       "      <th>C</th>\n",
       "      <th>D</th>\n",
       "      <th>E</th>\n",
       "      <th>F</th>\n",
       "      <th>G</th>\n",
       "      <th>H</th>\n",
       "      <th>I</th>\n",
       "      <th>Class</th>\n",
       "    </tr>\n",
       "  </thead>\n",
       "  <tbody>\n",
       "    <tr>\n",
       "      <th>0</th>\n",
       "      <td>1.515888</td>\n",
       "      <td>12.87795</td>\n",
       "      <td>3.43036</td>\n",
       "      <td>1.40066</td>\n",
       "      <td>73.2820</td>\n",
       "      <td>0.68931</td>\n",
       "      <td>8.04468</td>\n",
       "      <td>0.0</td>\n",
       "      <td>0.1224</td>\n",
       "      <td>0</td>\n",
       "    </tr>\n",
       "    <tr>\n",
       "      <th>1</th>\n",
       "      <td>1.517642</td>\n",
       "      <td>12.97770</td>\n",
       "      <td>3.53812</td>\n",
       "      <td>1.21127</td>\n",
       "      <td>73.0020</td>\n",
       "      <td>0.65205</td>\n",
       "      <td>8.52888</td>\n",
       "      <td>0.0</td>\n",
       "      <td>0.0000</td>\n",
       "      <td>0</td>\n",
       "    </tr>\n",
       "    <tr>\n",
       "      <th>2</th>\n",
       "      <td>1.522130</td>\n",
       "      <td>14.20795</td>\n",
       "      <td>3.82099</td>\n",
       "      <td>0.46976</td>\n",
       "      <td>71.7700</td>\n",
       "      <td>0.11178</td>\n",
       "      <td>9.57260</td>\n",
       "      <td>0.0</td>\n",
       "      <td>0.0000</td>\n",
       "      <td>0</td>\n",
       "    </tr>\n",
       "    <tr>\n",
       "      <th>3</th>\n",
       "      <td>1.522221</td>\n",
       "      <td>13.21045</td>\n",
       "      <td>3.77160</td>\n",
       "      <td>0.79076</td>\n",
       "      <td>71.9884</td>\n",
       "      <td>0.13041</td>\n",
       "      <td>10.24520</td>\n",
       "      <td>0.0</td>\n",
       "      <td>0.0000</td>\n",
       "      <td>0</td>\n",
       "    </tr>\n",
       "    <tr>\n",
       "      <th>4</th>\n",
       "      <td>1.517551</td>\n",
       "      <td>13.39000</td>\n",
       "      <td>3.65935</td>\n",
       "      <td>1.18880</td>\n",
       "      <td>72.7892</td>\n",
       "      <td>0.57132</td>\n",
       "      <td>8.27064</td>\n",
       "      <td>0.0</td>\n",
       "      <td>0.0561</td>\n",
       "      <td>0</td>\n",
       "    </tr>\n",
       "  </tbody>\n",
       "</table>\n",
       "</div>"
      ],
      "text/plain": [
       "          A         B        C        D        E        F         G    H  \\\n",
       "0  1.515888  12.87795  3.43036  1.40066  73.2820  0.68931   8.04468  0.0   \n",
       "1  1.517642  12.97770  3.53812  1.21127  73.0020  0.65205   8.52888  0.0   \n",
       "2  1.522130  14.20795  3.82099  0.46976  71.7700  0.11178   9.57260  0.0   \n",
       "3  1.522221  13.21045  3.77160  0.79076  71.9884  0.13041  10.24520  0.0   \n",
       "4  1.517551  13.39000  3.65935  1.18880  72.7892  0.57132   8.27064  0.0   \n",
       "\n",
       "        I  Class  \n",
       "0  0.1224      0  \n",
       "1  0.0000      0  \n",
       "2  0.0000      0  \n",
       "3  0.0000      0  \n",
       "4  0.0561      0  "
      ]
     },
     "execution_count": 8,
     "metadata": {},
     "output_type": "execute_result"
    }
   ],
   "source": [
    "data.head()"
   ]
  },
  {
   "cell_type": "code",
   "execution_count": 9,
   "id": "86aad449",
   "metadata": {},
   "outputs": [
    {
     "data": {
      "text/plain": [
       "0    138\n",
       "1     76\n",
       "Name: Class, dtype: int64"
      ]
     },
     "execution_count": 9,
     "metadata": {},
     "output_type": "execute_result"
    }
   ],
   "source": [
    "data['Class'].value_counts()"
   ]
  },
  {
   "cell_type": "code",
   "execution_count": 10,
   "id": "1e7d9516",
   "metadata": {},
   "outputs": [
    {
     "data": {
      "text/plain": [
       "A        float64\n",
       "B        float64\n",
       "C        float64\n",
       "D        float64\n",
       "E        float64\n",
       "F        float64\n",
       "G        float64\n",
       "H        float64\n",
       "I        float64\n",
       "Class      int64\n",
       "dtype: object"
      ]
     },
     "execution_count": 10,
     "metadata": {},
     "output_type": "execute_result"
    }
   ],
   "source": [
    "data.dtypes"
   ]
  },
  {
   "cell_type": "code",
   "execution_count": 11,
   "id": "0e91a78b",
   "metadata": {},
   "outputs": [],
   "source": [
    "#d = {'negative': 0, 'positive': 1}\n",
    "#data['Class'] = data['Class'].map(d)"
   ]
  },
  {
   "cell_type": "code",
   "execution_count": 12,
   "id": "8d18136a",
   "metadata": {},
   "outputs": [],
   "source": [
    "#data.head()"
   ]
  },
  {
   "cell_type": "code",
   "execution_count": 13,
   "id": "cd3a0fbe",
   "metadata": {},
   "outputs": [
    {
     "name": "stdout",
     "output_type": "stream",
     "text": [
      "            A         B        C        D        E        F         G  \\\n",
      "0    1.515888  12.87795  3.43036  1.40066  73.2820  0.68931   8.04468   \n",
      "1    1.517642  12.97770  3.53812  1.21127  73.0020  0.65205   8.52888   \n",
      "2    1.522130  14.20795  3.82099  0.46976  71.7700  0.11178   9.57260   \n",
      "3    1.522221  13.21045  3.77160  0.79076  71.9884  0.13041  10.24520   \n",
      "4    1.517551  13.39000  3.65935  1.18880  72.7892  0.57132   8.27064   \n",
      "..        ...       ...      ...      ...      ...      ...       ...   \n",
      "209  1.517278  14.70005  0.00000  2.34119  73.2820  0.00000   8.94852   \n",
      "210  1.516230  14.14145  0.00000  2.88047  72.6100  0.08073   9.18524   \n",
      "211  1.518371  14.32100  3.25974  2.21921  71.2492  1.45935   5.78508   \n",
      "212  1.516572  14.79980  0.00000  1.99130  73.1084  0.00000   8.28140   \n",
      "213  1.517323  14.95275  0.00000  1.79870  72.9908  0.00000   8.61496   \n",
      "\n",
      "           H       I  \n",
      "0    0.00000  0.1224  \n",
      "1    0.00000  0.0000  \n",
      "2    0.00000  0.0000  \n",
      "3    0.00000  0.0000  \n",
      "4    0.00000  0.0561  \n",
      "..       ...     ...  \n",
      "209  0.66150  0.0000  \n",
      "210  1.06155  0.0000  \n",
      "211  1.62855  0.0000  \n",
      "212  1.71045  0.0000  \n",
      "213  1.54980  0.0000  \n",
      "\n",
      "[214 rows x 9 columns]\n",
      "0      0\n",
      "1      0\n",
      "2      0\n",
      "3      0\n",
      "4      0\n",
      "      ..\n",
      "209    0\n",
      "210    0\n",
      "211    0\n",
      "212    0\n",
      "213    0\n",
      "Name: Class, Length: 214, dtype: int64\n"
     ]
    }
   ],
   "source": [
    "X = data[['A', 'B', 'C', 'D', 'E', 'F', 'G', 'H', 'I']]\n",
    "Y = data['Class']\n",
    "print(X)\n",
    "print(Y)"
   ]
  },
  {
   "cell_type": "code",
   "execution_count": 14,
   "id": "e60ddfef",
   "metadata": {},
   "outputs": [],
   "source": [
    "l = data.shape[0] #length"
   ]
  },
  {
   "cell_type": "code",
   "execution_count": 15,
   "id": "188bf4b5",
   "metadata": {},
   "outputs": [],
   "source": [
    "X_train, X_test, Y_train, Y_test = train_test_split(X, Y, test_size=0.2, random_state=0)"
   ]
  },
  {
   "cell_type": "code",
   "execution_count": 16,
   "id": "a05a72aa",
   "metadata": {},
   "outputs": [],
   "source": [
    "dt = DecisionTreeClassifier()"
   ]
  },
  {
   "cell_type": "code",
   "execution_count": 17,
   "id": "7c2e4ce4",
   "metadata": {},
   "outputs": [
    {
     "data": {
      "text/plain": [
       "DecisionTreeClassifier()"
      ]
     },
     "execution_count": 17,
     "metadata": {},
     "output_type": "execute_result"
    }
   ],
   "source": [
    "dt.fit(X_train, Y_train)"
   ]
  },
  {
   "cell_type": "code",
   "execution_count": 18,
   "id": "8fe4f821",
   "metadata": {},
   "outputs": [],
   "source": [
    "Y_pred = dt.predict(X_test)"
   ]
  },
  {
   "cell_type": "code",
   "execution_count": 19,
   "id": "e182b5bc",
   "metadata": {},
   "outputs": [
    {
     "name": "stdout",
     "output_type": "stream",
     "text": [
      "[0, 0, 1, 0, 1, 1, 1, 1, 0, 0, 0, 1, 0, 1, 1, 0, 0, 1, 0, 0, 0, 1, 0, 0, 1, 1, 0, 0, 1, 0, 0, 1, 0, 1, 1, 0, 0, 0, 1, 0, 1, 0, 1]\n",
      "[0, 0, 1, 0, 0, 1, 1, 1, 0, 1, 0, 1, 0, 1, 1, 0, 1, 0, 0, 0, 0, 1, 0, 0, 1, 0, 0, 0, 1, 1, 0, 0, 1, 1, 1, 0, 0, 0, 1, 0, 1, 0, 1]\n"
     ]
    }
   ],
   "source": [
    "yp = Y_pred.tolist() # convert it to list\n",
    "yt = Y_test.tolist()\n",
    "print(yp)\n",
    "print(yt)"
   ]
  },
  {
   "cell_type": "code",
   "execution_count": 20,
   "id": "e4c4c59e",
   "metadata": {},
   "outputs": [
    {
     "name": "stdout",
     "output_type": "stream",
     "text": [
      "True Positive  15\n",
      "False Positive  4\n",
      "False Negative  4\n",
      "True Negative  20\n",
      "\n",
      "\n",
      "Confusion Matrix: \n",
      "[[15  4]\n",
      " [ 4 20]]\n"
     ]
    }
   ],
   "source": [
    " # Confusion Matrix\n",
    "l = len(yt)\n",
    "cm = confusion_matrix(yt, yp, l)"
   ]
  },
  {
   "cell_type": "code",
   "execution_count": 22,
   "id": "e1d7ec8d",
   "metadata": {},
   "outputs": [
    {
     "name": "stdout",
     "output_type": "stream",
     "text": [
      "[[15  4]\n",
      " [ 4 20]]\n",
      "True Positive  15\n",
      "False Positive  4\n",
      "False Negative  4\n",
      "True Negative  20\n",
      "\n",
      "\n",
      "Accuracy:  81.40 %\n",
      "Precision:  78.95 %\n",
      "Recall:  78.95 %\n",
      "F1 Score:  78.95 %\n"
     ]
    }
   ],
   "source": [
    "print(np.matrix(cm))\n",
    "tp = cm[0][0]\n",
    "fp = cm[0][1]\n",
    "fn = cm[1][0]\n",
    "tn = cm[1][1]\n",
    "\n",
    "'''for i in range(len(cm)):\n",
    "    for j in range(len(cm[i])):\n",
    "        print(cm[i][j])\n",
    "'''     \n",
    "\n",
    "print(\"True Positive \", tp)\n",
    "print(\"False Positive \", fp)\n",
    "print(\"False Negative \", fn)\n",
    "print(\"True Negative \", tn)\n",
    "print('\\n')\n",
    "\n",
    "metric(tp, tn, fn, fp)"
   ]
  },
  {
   "cell_type": "code",
   "execution_count": null,
   "id": "080c6a49",
   "metadata": {},
   "outputs": [],
   "source": []
  }
 ],
 "metadata": {
  "kernelspec": {
   "display_name": "Python 3 (ipykernel)",
   "language": "python",
   "name": "python3"
  },
  "language_info": {
   "codemirror_mode": {
    "name": "ipython",
    "version": 3
   },
   "file_extension": ".py",
   "mimetype": "text/x-python",
   "name": "python",
   "nbconvert_exporter": "python",
   "pygments_lexer": "ipython3",
   "version": "3.9.7"
  }
 },
 "nbformat": 4,
 "nbformat_minor": 5
}
