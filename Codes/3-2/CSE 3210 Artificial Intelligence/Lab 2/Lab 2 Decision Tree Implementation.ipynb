{
 "cells": [
  {
   "cell_type": "code",
   "execution_count": 2,
   "id": "9a79e25c",
   "metadata": {},
   "outputs": [],
   "source": [
    "import pandas as pd\n",
    "import numpy as np\n",
    "from numpy import log2 as log\n",
    "error_handler = np.finfo(float).eps"
   ]
  },
  {
   "cell_type": "code",
   "execution_count": 3,
   "id": "cc1ac36e",
   "metadata": {},
   "outputs": [],
   "source": [
    "data = pd.read_csv('Decision tree dataset.csv')"
   ]
  },
  {
   "cell_type": "code",
   "execution_count": 4,
   "id": "85ca5d57",
   "metadata": {},
   "outputs": [
    {
     "data": {
      "text/html": [
       "<div>\n",
       "<style scoped>\n",
       "    .dataframe tbody tr th:only-of-type {\n",
       "        vertical-align: middle;\n",
       "    }\n",
       "\n",
       "    .dataframe tbody tr th {\n",
       "        vertical-align: top;\n",
       "    }\n",
       "\n",
       "    .dataframe thead th {\n",
       "        text-align: right;\n",
       "    }\n",
       "</style>\n",
       "<table border=\"1\" class=\"dataframe\">\n",
       "  <thead>\n",
       "    <tr style=\"text-align: right;\">\n",
       "      <th></th>\n",
       "      <th>Age</th>\n",
       "      <th>Education</th>\n",
       "      <th>Income</th>\n",
       "      <th>Marital Status</th>\n",
       "      <th>Buy Computer</th>\n",
       "    </tr>\n",
       "  </thead>\n",
       "  <tbody>\n",
       "    <tr>\n",
       "      <th>0</th>\n",
       "      <td>36-55</td>\n",
       "      <td>Master's</td>\n",
       "      <td>High</td>\n",
       "      <td>Single</td>\n",
       "      <td>Yes</td>\n",
       "    </tr>\n",
       "    <tr>\n",
       "      <th>1</th>\n",
       "      <td>18-35</td>\n",
       "      <td>High School</td>\n",
       "      <td>Low</td>\n",
       "      <td>Single</td>\n",
       "      <td>No</td>\n",
       "    </tr>\n",
       "    <tr>\n",
       "      <th>2</th>\n",
       "      <td>36-55</td>\n",
       "      <td>Master's</td>\n",
       "      <td>Low</td>\n",
       "      <td>Single</td>\n",
       "      <td>Yes</td>\n",
       "    </tr>\n",
       "    <tr>\n",
       "      <th>3</th>\n",
       "      <td>18-35</td>\n",
       "      <td>Bachelor's</td>\n",
       "      <td>High</td>\n",
       "      <td>Single</td>\n",
       "      <td>No</td>\n",
       "    </tr>\n",
       "    <tr>\n",
       "      <th>4</th>\n",
       "      <td>&lt;18</td>\n",
       "      <td>High School</td>\n",
       "      <td>Low</td>\n",
       "      <td>Single</td>\n",
       "      <td>Yes</td>\n",
       "    </tr>\n",
       "    <tr>\n",
       "      <th>5</th>\n",
       "      <td>18-35</td>\n",
       "      <td>Bachelor's</td>\n",
       "      <td>High</td>\n",
       "      <td>Married</td>\n",
       "      <td>No</td>\n",
       "    </tr>\n",
       "    <tr>\n",
       "      <th>6</th>\n",
       "      <td>36-55</td>\n",
       "      <td>Bachelor's</td>\n",
       "      <td>Low</td>\n",
       "      <td>Married</td>\n",
       "      <td>No</td>\n",
       "    </tr>\n",
       "    <tr>\n",
       "      <th>7</th>\n",
       "      <td>&gt;55</td>\n",
       "      <td>Bachelor's</td>\n",
       "      <td>High</td>\n",
       "      <td>Single</td>\n",
       "      <td>Yes</td>\n",
       "    </tr>\n",
       "    <tr>\n",
       "      <th>8</th>\n",
       "      <td>36-55</td>\n",
       "      <td>Master's</td>\n",
       "      <td>Low</td>\n",
       "      <td>Married</td>\n",
       "      <td>No</td>\n",
       "    </tr>\n",
       "    <tr>\n",
       "      <th>9</th>\n",
       "      <td>&gt;55</td>\n",
       "      <td>Master's</td>\n",
       "      <td>Low</td>\n",
       "      <td>Married</td>\n",
       "      <td>Yes</td>\n",
       "    </tr>\n",
       "    <tr>\n",
       "      <th>10</th>\n",
       "      <td>36-55</td>\n",
       "      <td>Master's</td>\n",
       "      <td>High</td>\n",
       "      <td>Single</td>\n",
       "      <td>Yes</td>\n",
       "    </tr>\n",
       "    <tr>\n",
       "      <th>11</th>\n",
       "      <td>&gt;55</td>\n",
       "      <td>Master's</td>\n",
       "      <td>High</td>\n",
       "      <td>Single</td>\n",
       "      <td>Yes</td>\n",
       "    </tr>\n",
       "    <tr>\n",
       "      <th>12</th>\n",
       "      <td>&lt;18</td>\n",
       "      <td>High School</td>\n",
       "      <td>High</td>\n",
       "      <td>Single</td>\n",
       "      <td>No</td>\n",
       "    </tr>\n",
       "    <tr>\n",
       "      <th>13</th>\n",
       "      <td>36-55</td>\n",
       "      <td>Master's</td>\n",
       "      <td>Low</td>\n",
       "      <td>Single</td>\n",
       "      <td>Yes</td>\n",
       "    </tr>\n",
       "    <tr>\n",
       "      <th>14</th>\n",
       "      <td>36-55</td>\n",
       "      <td>High School</td>\n",
       "      <td>Low</td>\n",
       "      <td>Single</td>\n",
       "      <td>Yes</td>\n",
       "    </tr>\n",
       "    <tr>\n",
       "      <th>15</th>\n",
       "      <td>&lt;18</td>\n",
       "      <td>High School</td>\n",
       "      <td>Low</td>\n",
       "      <td>Married</td>\n",
       "      <td>Yes</td>\n",
       "    </tr>\n",
       "    <tr>\n",
       "      <th>16</th>\n",
       "      <td>18-35</td>\n",
       "      <td>Bachelor's</td>\n",
       "      <td>High</td>\n",
       "      <td>Married</td>\n",
       "      <td>No</td>\n",
       "    </tr>\n",
       "    <tr>\n",
       "      <th>17</th>\n",
       "      <td>&gt;55</td>\n",
       "      <td>High School</td>\n",
       "      <td>High</td>\n",
       "      <td>Married</td>\n",
       "      <td>Yes</td>\n",
       "    </tr>\n",
       "    <tr>\n",
       "      <th>18</th>\n",
       "      <td>&gt;55</td>\n",
       "      <td>Bachelor's</td>\n",
       "      <td>Low</td>\n",
       "      <td>Single</td>\n",
       "      <td>Yes</td>\n",
       "    </tr>\n",
       "    <tr>\n",
       "      <th>19</th>\n",
       "      <td>36-55</td>\n",
       "      <td>High School</td>\n",
       "      <td>High</td>\n",
       "      <td>Married</td>\n",
       "      <td>No</td>\n",
       "    </tr>\n",
       "  </tbody>\n",
       "</table>\n",
       "</div>"
      ],
      "text/plain": [
       "      Age    Education Income Marital Status Buy Computer\n",
       "0   36-55     Master's   High         Single          Yes\n",
       "1   18-35  High School    Low         Single           No\n",
       "2   36-55     Master's    Low         Single          Yes\n",
       "3   18-35   Bachelor's   High         Single           No\n",
       "4     <18  High School    Low         Single          Yes\n",
       "5   18-35   Bachelor's   High        Married           No\n",
       "6   36-55   Bachelor's    Low        Married           No\n",
       "7     >55   Bachelor's   High         Single          Yes\n",
       "8   36-55     Master's    Low        Married           No\n",
       "9     >55     Master's    Low        Married          Yes\n",
       "10  36-55     Master's   High         Single          Yes\n",
       "11    >55     Master's   High         Single          Yes\n",
       "12    <18  High School   High         Single           No\n",
       "13  36-55     Master's    Low         Single          Yes\n",
       "14  36-55  High School    Low         Single          Yes\n",
       "15    <18  High School    Low        Married          Yes\n",
       "16  18-35   Bachelor's   High        Married           No\n",
       "17    >55  High School   High        Married          Yes\n",
       "18    >55   Bachelor's    Low         Single          Yes\n",
       "19  36-55  High School   High        Married           No"
      ]
     },
     "execution_count": 4,
     "metadata": {},
     "output_type": "execute_result"
    }
   ],
   "source": [
    "data"
   ]
  },
  {
   "cell_type": "code",
   "execution_count": 5,
   "id": "8d74355d",
   "metadata": {},
   "outputs": [
    {
     "data": {
      "text/html": [
       "<div>\n",
       "<style scoped>\n",
       "    .dataframe tbody tr th:only-of-type {\n",
       "        vertical-align: middle;\n",
       "    }\n",
       "\n",
       "    .dataframe tbody tr th {\n",
       "        vertical-align: top;\n",
       "    }\n",
       "\n",
       "    .dataframe thead th {\n",
       "        text-align: right;\n",
       "    }\n",
       "</style>\n",
       "<table border=\"1\" class=\"dataframe\">\n",
       "  <thead>\n",
       "    <tr style=\"text-align: right;\">\n",
       "      <th></th>\n",
       "      <th>Age</th>\n",
       "      <th>Education</th>\n",
       "      <th>Income</th>\n",
       "      <th>Marital Status</th>\n",
       "      <th>Buy Computer</th>\n",
       "    </tr>\n",
       "  </thead>\n",
       "  <tbody>\n",
       "    <tr>\n",
       "      <th>0</th>\n",
       "      <td>36-55</td>\n",
       "      <td>Master's</td>\n",
       "      <td>High</td>\n",
       "      <td>Single</td>\n",
       "      <td>Yes</td>\n",
       "    </tr>\n",
       "    <tr>\n",
       "      <th>1</th>\n",
       "      <td>18-35</td>\n",
       "      <td>High School</td>\n",
       "      <td>Low</td>\n",
       "      <td>Single</td>\n",
       "      <td>No</td>\n",
       "    </tr>\n",
       "    <tr>\n",
       "      <th>2</th>\n",
       "      <td>36-55</td>\n",
       "      <td>Master's</td>\n",
       "      <td>Low</td>\n",
       "      <td>Single</td>\n",
       "      <td>Yes</td>\n",
       "    </tr>\n",
       "    <tr>\n",
       "      <th>3</th>\n",
       "      <td>18-35</td>\n",
       "      <td>Bachelor's</td>\n",
       "      <td>High</td>\n",
       "      <td>Single</td>\n",
       "      <td>No</td>\n",
       "    </tr>\n",
       "    <tr>\n",
       "      <th>4</th>\n",
       "      <td>&lt;18</td>\n",
       "      <td>High School</td>\n",
       "      <td>Low</td>\n",
       "      <td>Single</td>\n",
       "      <td>Yes</td>\n",
       "    </tr>\n",
       "  </tbody>\n",
       "</table>\n",
       "</div>"
      ],
      "text/plain": [
       "     Age    Education Income Marital Status Buy Computer\n",
       "0  36-55     Master's   High         Single          Yes\n",
       "1  18-35  High School    Low         Single           No\n",
       "2  36-55     Master's    Low         Single          Yes\n",
       "3  18-35   Bachelor's   High         Single           No\n",
       "4    <18  High School    Low         Single          Yes"
      ]
     },
     "execution_count": 5,
     "metadata": {},
     "output_type": "execute_result"
    }
   ],
   "source": [
    "data.head()"
   ]
  },
  {
   "cell_type": "code",
   "execution_count": 6,
   "id": "83924bda",
   "metadata": {},
   "outputs": [
    {
     "data": {
      "text/plain": [
       "Index(['Age', 'Education', 'Income', 'Marital Status', 'Buy Computer'], dtype='object')"
      ]
     },
     "execution_count": 6,
     "metadata": {},
     "output_type": "execute_result"
    }
   ],
   "source": [
    "data.columns"
   ]
  },
  {
   "cell_type": "code",
   "execution_count": 20,
   "id": "bb5324e3",
   "metadata": {},
   "outputs": [
    {
     "data": {
      "text/plain": [
       "array(['Yes', 'No'], dtype=object)"
      ]
     },
     "execution_count": 20,
     "metadata": {},
     "output_type": "execute_result"
    }
   ],
   "source": [
    "# Class Entropy\n",
    "patterns = data['Buy Computer'].unique() # yes or no\n",
    "patterns"
   ]
  },
  {
   "cell_type": "code",
   "execution_count": 8,
   "id": "7a59f384",
   "metadata": {},
   "outputs": [
    {
     "data": {
      "text/plain": [
       "0.9709505944546686"
      ]
     },
     "execution_count": 8,
     "metadata": {},
     "output_type": "execute_result"
    }
   ],
   "source": [
    "# entropy of class\n",
    "en_class = 0\n",
    "for pattern in patterns:\n",
    "    quotient = data['Buy Computer'].value_counts()[pattern] / data['Buy Computer'].shape[0] # probability\n",
    "    en_class += -quotient*log(quotient) # equation to determine entropy\n",
    "\n",
    "en_class "
   ]
  },
  {
   "cell_type": "markdown",
   "id": "18dab199",
   "metadata": {},
   "source": [
    "Entropy of Class"
   ]
  },
  {
   "cell_type": "code",
   "execution_count": 33,
   "id": "c1c7ddd2",
   "metadata": {},
   "outputs": [
    {
     "data": {
      "text/plain": [
       "0.9709505944546686"
      ]
     },
     "execution_count": 33,
     "metadata": {},
     "output_type": "execute_result"
    }
   ],
   "source": [
    "en_class = 0\n",
    "className = data.columns[-1]\n",
    "patterns = data[className].unique()\n",
    "for pattern in patterns:\n",
    "    quotient = data[className].value_counts()[pattern] / data[className].shape[0] # probability\n",
    "    en_class += -quotient*log(quotient) # equation to determine entropy\n",
    "\n",
    "en_class "
   ]
  },
  {
   "cell_type": "code",
   "execution_count": 29,
   "id": "83bc1384",
   "metadata": {},
   "outputs": [
    {
     "data": {
      "text/plain": [
       "0.5195179762781589"
      ]
     },
     "execution_count": 29,
     "metadata": {},
     "output_type": "execute_result"
    }
   ],
   "source": [
    "# Entropy of a single Feature\n",
    "feat = 'Age'\n",
    "instances = data[feat].unique()\n",
    "en_feat = 0\n",
    "for ins in instances:\n",
    "    en_each = 0\n",
    "    for pattern in patterns:\n",
    "        nr = len(data[feat][data[feat] == ins][data['Buy Computer'] == pattern])\n",
    "        dr = len(data[feat][data[feat] == ins])\n",
    "        quotient = nr/(dr + error_handler)\n",
    "        en_each += -quotient*log(quotient + error_handler)\n",
    "    q2 = dr / data.shape[0]\n",
    "    en_feat += -q2 * en_each    \n",
    "abs(en_feat)"
   ]
  },
  {
   "cell_type": "markdown",
   "id": "3e159c5e",
   "metadata": {},
   "source": [
    "Entropy of Features"
   ]
  },
  {
   "cell_type": "code",
   "execution_count": 49,
   "id": "80a99d68",
   "metadata": {},
   "outputs": [],
   "source": [
    "# Entropy of Features\n",
    "attr_en = dict()\n",
    "attr_ig = dict()\n",
    "\n",
    "for column in data.columns[:-1]:\n",
    "    ig = 0\n",
    "    feat = column\n",
    "    instances = data[feat].unique()\n",
    "    en_feat = 0\n",
    "    for ins in instances:\n",
    "        en_each = 0\n",
    "        for pattern in patterns:\n",
    "            nr = len(data[feat][data[feat] == ins][data['Buy Computer'] == pattern])\n",
    "            dr = len(data[feat][data[feat] == ins])\n",
    "            quotient = nr/(dr + error_handler)\n",
    "            en_each += -quotient*log(quotient + error_handler)\n",
    "        q2 = dr / data.shape[0]\n",
    "        en_feat += -q2 * en_each\n",
    "        ig = en_class - abs(en_feat)\n",
    "    attr_en.__setitem__(feat, abs(en_feat))\n",
    "    attr_ig.__setitem__(feat, ig)\n",
    "print(\"Entropy of Attributes:\")    \n",
    "print(attr_en)\n",
    "print(\"\\nInformation Gain of Attributes:\")    \n",
    "print(attr_ig)    "
   ]
  },
  {
   "cell_type": "code",
   "execution_count": 50,
   "id": "090a5073",
   "metadata": {},
   "outputs": [
    {
     "name": "stdout",
     "output_type": "stream",
     "text": [
      "[('Age', 0.4514326181765097), ('Education', 0.14354652412251978), ('Income', 0.030305144839322895), ('Marital Status', 0.10241011860920346)]\n"
     ]
    }
   ],
   "source": [
    "m = [(key, value) for key, value in attr_ig.items()]\n",
    "print(m)"
   ]
  },
  {
   "cell_type": "markdown",
   "id": "e23b9150",
   "metadata": {},
   "source": [
    "Max Information Gain"
   ]
  },
  {
   "cell_type": "code",
   "execution_count": 52,
   "id": "a9e4af3d",
   "metadata": {},
   "outputs": [
    {
     "name": "stdout",
     "output_type": "stream",
     "text": [
      "Age  0.4514326181765097\n"
     ]
    }
   ],
   "source": [
    "parent = max(attr_ig, key = attr_ig.get)\n",
    "print(parent + \" \", attr_ig[parent])"
   ]
  },
  {
   "cell_type": "code",
   "execution_count": 53,
   "id": "b6cae4af",
   "metadata": {},
   "outputs": [
    {
     "data": {
      "text/plain": [
       "'Age'"
      ]
     },
     "execution_count": 53,
     "metadata": {},
     "output_type": "execute_result"
    }
   ],
   "source": [
    "parent"
   ]
  },
  {
   "cell_type": "code",
   "execution_count": 54,
   "id": "fe6fe801",
   "metadata": {},
   "outputs": [
    {
     "data": {
      "text/plain": [
       "array(['18-35', '36-55', '<18', '>55'], dtype=object)"
      ]
     },
     "execution_count": 54,
     "metadata": {},
     "output_type": "execute_result"
    }
   ],
   "source": [
    "parentValue = np.unique(data[parent])\n",
    "parentValue"
   ]
  },
  {
   "cell_type": "markdown",
   "id": "0fe1fb00",
   "metadata": {},
   "source": [
    "Create Subtable"
   ]
  },
  {
   "cell_type": "code",
   "execution_count": 56,
   "id": "68406aab",
   "metadata": {},
   "outputs": [
    {
     "data": {
      "text/html": [
       "<div>\n",
       "<style scoped>\n",
       "    .dataframe tbody tr th:only-of-type {\n",
       "        vertical-align: middle;\n",
       "    }\n",
       "\n",
       "    .dataframe tbody tr th {\n",
       "        vertical-align: top;\n",
       "    }\n",
       "\n",
       "    .dataframe thead th {\n",
       "        text-align: right;\n",
       "    }\n",
       "</style>\n",
       "<table border=\"1\" class=\"dataframe\">\n",
       "  <thead>\n",
       "    <tr style=\"text-align: right;\">\n",
       "      <th></th>\n",
       "      <th>Age</th>\n",
       "      <th>Education</th>\n",
       "      <th>Income</th>\n",
       "      <th>Marital Status</th>\n",
       "      <th>Buy Computer</th>\n",
       "    </tr>\n",
       "  </thead>\n",
       "  <tbody>\n",
       "    <tr>\n",
       "      <th>0</th>\n",
       "      <td>&gt;55</td>\n",
       "      <td>Bachelor's</td>\n",
       "      <td>High</td>\n",
       "      <td>Single</td>\n",
       "      <td>Yes</td>\n",
       "    </tr>\n",
       "    <tr>\n",
       "      <th>1</th>\n",
       "      <td>&gt;55</td>\n",
       "      <td>Master's</td>\n",
       "      <td>Low</td>\n",
       "      <td>Married</td>\n",
       "      <td>Yes</td>\n",
       "    </tr>\n",
       "    <tr>\n",
       "      <th>2</th>\n",
       "      <td>&gt;55</td>\n",
       "      <td>Master's</td>\n",
       "      <td>High</td>\n",
       "      <td>Single</td>\n",
       "      <td>Yes</td>\n",
       "    </tr>\n",
       "    <tr>\n",
       "      <th>3</th>\n",
       "      <td>&gt;55</td>\n",
       "      <td>High School</td>\n",
       "      <td>High</td>\n",
       "      <td>Married</td>\n",
       "      <td>Yes</td>\n",
       "    </tr>\n",
       "    <tr>\n",
       "      <th>4</th>\n",
       "      <td>&gt;55</td>\n",
       "      <td>Bachelor's</td>\n",
       "      <td>Low</td>\n",
       "      <td>Single</td>\n",
       "      <td>Yes</td>\n",
       "    </tr>\n",
       "  </tbody>\n",
       "</table>\n",
       "</div>"
      ],
      "text/plain": [
       "   Age    Education Income Marital Status Buy Computer\n",
       "0  >55   Bachelor's   High         Single          Yes\n",
       "1  >55     Master's    Low        Married          Yes\n",
       "2  >55     Master's   High         Single          Yes\n",
       "3  >55  High School   High        Married          Yes\n",
       "4  >55   Bachelor's    Low         Single          Yes"
      ]
     },
     "execution_count": 56,
     "metadata": {},
     "output_type": "execute_result"
    }
   ],
   "source": [
    "className = data.columns[-1]\n",
    "\n",
    "for value in parentValue:\n",
    "    subtable = data[data[parent] == value].reset_index(drop=True)\n",
    "    col,counts = np.unique(subtable[className],return_counts=True)\n",
    "\n",
    "subtable"
   ]
  },
  {
   "cell_type": "code",
   "execution_count": null,
   "id": "8b122696",
   "metadata": {},
   "outputs": [],
   "source": []
  }
 ],
 "metadata": {
  "kernelspec": {
   "display_name": "Python 3 (ipykernel)",
   "language": "python",
   "name": "python3"
  },
  "language_info": {
   "codemirror_mode": {
    "name": "ipython",
    "version": 3
   },
   "file_extension": ".py",
   "mimetype": "text/x-python",
   "name": "python",
   "nbconvert_exporter": "python",
   "pygments_lexer": "ipython3",
   "version": "3.9.7"
  }
 },
 "nbformat": 4,
 "nbformat_minor": 5
}
