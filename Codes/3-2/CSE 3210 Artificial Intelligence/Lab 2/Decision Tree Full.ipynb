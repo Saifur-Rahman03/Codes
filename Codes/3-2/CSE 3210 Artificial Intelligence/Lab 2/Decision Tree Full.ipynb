{
 "cells": [
  {
   "cell_type": "code",
   "execution_count": 1,
   "id": "bb3df920",
   "metadata": {},
   "outputs": [],
   "source": [
    "import pandas as pd\n",
    "import numpy as np\n",
    "from numpy import log2 as log\n",
    "error_handler = np.finfo(float).eps"
   ]
  },
  {
   "cell_type": "code",
   "execution_count": 40,
   "id": "9aa27479",
   "metadata": {},
   "outputs": [
    {
     "data": {
      "text/plain": [
       "'ecoli-0_vs_1.csv'"
      ]
     },
     "execution_count": 40,
     "metadata": {},
     "output_type": "execute_result"
    }
   ],
   "source": [
    "import os\n",
    "file_path = r'C:\\Users\\hp\\CSE 3210\\Lab 2\\ecoli-0_vs_1.csv'\n",
    "file_name = os.path.basename(file_path)\n",
    "name = (os.path.basename(file_path).split(\".\")[0]) # gets the first index\n",
    "file_name"
   ]
  },
  {
   "cell_type": "code",
   "execution_count": 41,
   "id": "fc50eea3",
   "metadata": {},
   "outputs": [
    {
     "data": {
      "text/html": [
       "<div>\n",
       "<style scoped>\n",
       "    .dataframe tbody tr th:only-of-type {\n",
       "        vertical-align: middle;\n",
       "    }\n",
       "\n",
       "    .dataframe tbody tr th {\n",
       "        vertical-align: top;\n",
       "    }\n",
       "\n",
       "    .dataframe thead th {\n",
       "        text-align: right;\n",
       "    }\n",
       "</style>\n",
       "<table border=\"1\" class=\"dataframe\">\n",
       "  <thead>\n",
       "    <tr style=\"text-align: right;\">\n",
       "      <th></th>\n",
       "      <th>0.49</th>\n",
       "      <th>0.29</th>\n",
       "      <th>0.48</th>\n",
       "      <th>0.50</th>\n",
       "      <th>0.56</th>\n",
       "      <th>0.24</th>\n",
       "      <th>0.35</th>\n",
       "      <th>positive</th>\n",
       "    </tr>\n",
       "  </thead>\n",
       "  <tbody>\n",
       "    <tr>\n",
       "      <th>0</th>\n",
       "      <td>0.07</td>\n",
       "      <td>0.40</td>\n",
       "      <td>0.48</td>\n",
       "      <td>0.5</td>\n",
       "      <td>0.54</td>\n",
       "      <td>0.35</td>\n",
       "      <td>0.44</td>\n",
       "      <td>positive</td>\n",
       "    </tr>\n",
       "    <tr>\n",
       "      <th>1</th>\n",
       "      <td>0.56</td>\n",
       "      <td>0.40</td>\n",
       "      <td>0.48</td>\n",
       "      <td>0.5</td>\n",
       "      <td>0.49</td>\n",
       "      <td>0.37</td>\n",
       "      <td>0.46</td>\n",
       "      <td>positive</td>\n",
       "    </tr>\n",
       "    <tr>\n",
       "      <th>2</th>\n",
       "      <td>0.59</td>\n",
       "      <td>0.49</td>\n",
       "      <td>0.48</td>\n",
       "      <td>0.5</td>\n",
       "      <td>0.52</td>\n",
       "      <td>0.45</td>\n",
       "      <td>0.36</td>\n",
       "      <td>positive</td>\n",
       "    </tr>\n",
       "    <tr>\n",
       "      <th>3</th>\n",
       "      <td>0.23</td>\n",
       "      <td>0.32</td>\n",
       "      <td>0.48</td>\n",
       "      <td>0.5</td>\n",
       "      <td>0.55</td>\n",
       "      <td>0.25</td>\n",
       "      <td>0.35</td>\n",
       "      <td>positive</td>\n",
       "    </tr>\n",
       "    <tr>\n",
       "      <th>4</th>\n",
       "      <td>0.67</td>\n",
       "      <td>0.39</td>\n",
       "      <td>0.48</td>\n",
       "      <td>0.5</td>\n",
       "      <td>0.36</td>\n",
       "      <td>0.38</td>\n",
       "      <td>0.46</td>\n",
       "      <td>positive</td>\n",
       "    </tr>\n",
       "    <tr>\n",
       "      <th>...</th>\n",
       "      <td>...</td>\n",
       "      <td>...</td>\n",
       "      <td>...</td>\n",
       "      <td>...</td>\n",
       "      <td>...</td>\n",
       "      <td>...</td>\n",
       "      <td>...</td>\n",
       "      <td>...</td>\n",
       "    </tr>\n",
       "    <tr>\n",
       "      <th>214</th>\n",
       "      <td>0.10</td>\n",
       "      <td>0.49</td>\n",
       "      <td>0.48</td>\n",
       "      <td>0.5</td>\n",
       "      <td>0.41</td>\n",
       "      <td>0.67</td>\n",
       "      <td>0.21</td>\n",
       "      <td>negative</td>\n",
       "    </tr>\n",
       "    <tr>\n",
       "      <th>215</th>\n",
       "      <td>0.30</td>\n",
       "      <td>0.51</td>\n",
       "      <td>0.48</td>\n",
       "      <td>0.5</td>\n",
       "      <td>0.42</td>\n",
       "      <td>0.61</td>\n",
       "      <td>0.34</td>\n",
       "      <td>negative</td>\n",
       "    </tr>\n",
       "    <tr>\n",
       "      <th>216</th>\n",
       "      <td>0.61</td>\n",
       "      <td>0.47</td>\n",
       "      <td>0.48</td>\n",
       "      <td>0.5</td>\n",
       "      <td>0.00</td>\n",
       "      <td>0.80</td>\n",
       "      <td>0.32</td>\n",
       "      <td>negative</td>\n",
       "    </tr>\n",
       "    <tr>\n",
       "      <th>217</th>\n",
       "      <td>0.63</td>\n",
       "      <td>0.75</td>\n",
       "      <td>0.48</td>\n",
       "      <td>0.5</td>\n",
       "      <td>0.64</td>\n",
       "      <td>0.73</td>\n",
       "      <td>0.66</td>\n",
       "      <td>negative</td>\n",
       "    </tr>\n",
       "    <tr>\n",
       "      <th>218</th>\n",
       "      <td>0.71</td>\n",
       "      <td>0.52</td>\n",
       "      <td>0.48</td>\n",
       "      <td>0.5</td>\n",
       "      <td>0.64</td>\n",
       "      <td>1.00</td>\n",
       "      <td>0.99</td>\n",
       "      <td>negative</td>\n",
       "    </tr>\n",
       "  </tbody>\n",
       "</table>\n",
       "<p>219 rows × 8 columns</p>\n",
       "</div>"
      ],
      "text/plain": [
       "     0.49   0.29   0.48   0.50   0.56   0.24   0.35   positive    \n",
       "0    0.07   0.40   0.48    0.5   0.54   0.35   0.44   positive    \n",
       "1    0.56   0.40   0.48    0.5   0.49   0.37   0.46   positive    \n",
       "2    0.59   0.49   0.48    0.5   0.52   0.45   0.36   positive    \n",
       "3    0.23   0.32   0.48    0.5   0.55   0.25   0.35       positive\n",
       "4    0.67   0.39   0.48    0.5   0.36   0.38   0.46       positive\n",
       "..    ...    ...    ...    ...    ...    ...    ...            ...\n",
       "214  0.10   0.49   0.48    0.5   0.41   0.67   0.21       negative\n",
       "215  0.30   0.51   0.48    0.5   0.42   0.61   0.34       negative\n",
       "216  0.61   0.47   0.48    0.5   0.00   0.80   0.32       negative\n",
       "217  0.63   0.75   0.48    0.5   0.64   0.73   0.66       negative\n",
       "218  0.71   0.52   0.48    0.5   0.64   1.00   0.99       negative\n",
       "\n",
       "[219 rows x 8 columns]"
      ]
     },
     "execution_count": 41,
     "metadata": {},
     "output_type": "execute_result"
    }
   ],
   "source": [
    "data = pd.read_csv(file_name)\n",
    "data"
   ]
  },
  {
   "cell_type": "markdown",
   "id": "e3f15ea0",
   "metadata": {},
   "source": [
    "Entropy of Class"
   ]
  },
  {
   "cell_type": "code",
   "execution_count": 42,
   "id": "5edab72d",
   "metadata": {},
   "outputs": [],
   "source": [
    "def class_entropy(data):\n",
    "    en_class = 0\n",
    "    className = data.columns[-1] # last column is class\n",
    "    patterns = data[className].unique() # yes or no\n",
    "    for pattern in patterns:\n",
    "        quotient = data[className].value_counts()[pattern] / data[className].shape[0] # probability\n",
    "        en_class += -quotient*log(quotient) # equation to determine entropy\n",
    "\n",
    "    return en_class "
   ]
  },
  {
   "cell_type": "code",
   "execution_count": 43,
   "id": "18d3128b",
   "metadata": {},
   "outputs": [
    {
     "data": {
      "text/plain": [
       "1.031269889536158"
      ]
     },
     "execution_count": 43,
     "metadata": {},
     "output_type": "execute_result"
    }
   ],
   "source": [
    "class_entropy(data)"
   ]
  },
  {
   "cell_type": "markdown",
   "id": "97ad73b2",
   "metadata": {},
   "source": [
    "Entropy of Features"
   ]
  },
  {
   "cell_type": "code",
   "execution_count": 44,
   "id": "c9a69c5d",
   "metadata": {},
   "outputs": [],
   "source": [
    "def feature_entropy(data, feat):\n",
    "    className = data.columns[-1] # last column is class\n",
    "    patterns = data[className].unique() # yes or no\n",
    "    instances = data[feat].unique() # unique value of features\n",
    "    en_feat = 0\n",
    "    for ins in instances:\n",
    "        en_each = 0\n",
    "        for pattern in patterns:\n",
    "            nr = len(data[feat][data[feat] == ins][data[className] == pattern])  # matching with class / conditional probability\n",
    "            dr = len(data[feat][data[feat] == ins])\n",
    "            quotient = nr/(dr + error_handler)\n",
    "            en_each += -quotient*log(quotient + error_handler)   # entropy equation\n",
    "        q2 = dr / data.shape[0]\n",
    "        en_feat += -q2 * en_each\n",
    "    return abs(en_feat)"
   ]
  },
  {
   "cell_type": "code",
   "execution_count": null,
   "id": "3d58df77",
   "metadata": {
    "scrolled": true
   },
   "outputs": [],
   "source": [
    "feature_entropy(data, 'Age')"
   ]
  },
  {
   "cell_type": "code",
   "execution_count": 46,
   "id": "aafdaa91",
   "metadata": {},
   "outputs": [],
   "source": [
    "def root_node(data):\n",
    "    feat_entropy = []\n",
    "    ig = []\n",
    "    for feat in data.columns[:-1]:\n",
    "        ig.append(class_entropy(data) - feature_entropy(data, feat))  # information gain calculation\n",
    "    return data.columns[:-1][np.argmax(ig)]   # find max information gain"
   ]
  },
  {
   "cell_type": "code",
   "execution_count": 47,
   "id": "917b8726",
   "metadata": {},
   "outputs": [
    {
     "data": {
      "text/plain": [
       "' 0.24'"
      ]
     },
     "execution_count": 47,
     "metadata": {},
     "output_type": "execute_result"
    }
   ],
   "source": [
    "root_node(data)"
   ]
  },
  {
   "cell_type": "code",
   "execution_count": 48,
   "id": "9c025d9a",
   "metadata": {},
   "outputs": [],
   "source": [
    "def generate_subtable(data, root, value):\n",
    "    return data[data[root] == value].reset_index(drop = True)   # create subtable with resetting index"
   ]
  },
  {
   "cell_type": "code",
   "execution_count": null,
   "id": "264812de",
   "metadata": {
    "scrolled": true
   },
   "outputs": [],
   "source": [
    "generate_subtable(data, 'Age', '>55')"
   ]
  },
  {
   "cell_type": "code",
   "execution_count": 49,
   "id": "f4711f2d",
   "metadata": {},
   "outputs": [],
   "source": [
    "def tree_Building(data, tree = None):\n",
    "    className = data.columns[-1]  # last column is class\n",
    "    \n",
    "    root = root_node(data) # getting root node\n",
    "    \n",
    "    featValue = np.unique(data[root]) # unique values of root node\n",
    "    \n",
    "    if tree is None: # create an empty tree\n",
    "        tree = {}\n",
    "        tree[root] = {}\n",
    "        \n",
    "    for value in featValue:\n",
    "        subtable = generate_subtable(data, root, value)  # for each unique value create subtables\n",
    "        col, counts = np.unique(subtable[className], return_counts = True) # Checking which attribute matches with class\n",
    "        \n",
    "        if len(counts) == 1:   # if there is only one such attribute that matches with class\n",
    "            tree[root][value] = col[0]\n",
    "        else:\n",
    "            tree[root][value] = tree_Building(subtable) # else explore that node\n",
    "            \n",
    "    return tree"
   ]
  },
  {
   "cell_type": "code",
   "execution_count": 50,
   "id": "696f8ba9",
   "metadata": {},
   "outputs": [
    {
     "name": "stdout",
     "output_type": "stream",
     "text": [
      "{' 0.24': {0.03: ' positive',\n",
      "           0.05: ' positive',\n",
      "           0.06: ' positive',\n",
      "           0.11: ' positive',\n",
      "           0.14: ' positive',\n",
      "           0.15: ' positive',\n",
      "           0.16: ' positive',\n",
      "           0.17: ' positive',\n",
      "           0.18: ' positive',\n",
      "           0.19: ' positive',\n",
      "           0.2: ' positive',\n",
      "           0.21: ' positive',\n",
      "           0.22: ' positive',\n",
      "           0.23: ' positive',\n",
      "           0.24: ' positive',\n",
      "           0.25: ' positive',\n",
      "           0.26: ' positive',\n",
      "           0.27: ' positive',\n",
      "           0.28: ' positive',\n",
      "           0.29: ' positive',\n",
      "           0.3: ' positive',\n",
      "           0.31: ' positive',\n",
      "           0.32: ' positive',\n",
      "           0.33: ' positive',\n",
      "           0.34: ' positive',\n",
      "           0.35: {' 0.29': {0.28: ' positive',\n",
      "                            0.29: ' positive',\n",
      "                            0.33: ' positive',\n",
      "                            0.36: ' positive',\n",
      "                            0.37: ' positive',\n",
      "                            0.4: ' positive    ',\n",
      "                            0.45: ' positive',\n",
      "                            0.46: ' positive',\n",
      "                            0.76: ' positive'}},\n",
      "           0.36: ' positive',\n",
      "           0.37: {' 0.29': {0.4: ' positive    ',\n",
      "                            0.51: ' positive',\n",
      "                            0.52: ' positive',\n",
      "                            0.55: ' positive'}},\n",
      "           0.38: ' positive',\n",
      "           0.39: {'0.49': {0.16: ' negative',\n",
      "                           0.22: ' positive',\n",
      "                           0.37: ' positive',\n",
      "                           0.4: ' positive'}},\n",
      "           0.4: ' positive',\n",
      "           0.41: ' positive',\n",
      "           0.42: ' positive',\n",
      "           0.44: ' positive',\n",
      "           0.45: {'0.49': {0.36: ' positive',\n",
      "                           0.43: ' positive',\n",
      "                           0.59: ' positive    '}},\n",
      "           0.46: ' positive',\n",
      "           0.47: {'0.49': {0.36: ' positive',\n",
      "                           0.44: ' negative',\n",
      "                           0.52: ' positive'}},\n",
      "           0.48: ' positive',\n",
      "           0.49: ' positive',\n",
      "           0.51: ' positive',\n",
      "           0.52: ' positive',\n",
      "           0.53: ' positive',\n",
      "           0.55: ' positive',\n",
      "           0.58: ' negative',\n",
      "           0.61: ' negative',\n",
      "           0.62: ' negative',\n",
      "           0.64: ' negative',\n",
      "           0.65: ' negative',\n",
      "           0.66: ' negative',\n",
      "           0.67: ' negative',\n",
      "           0.69: ' negative',\n",
      "           0.7: ' negative',\n",
      "           0.71: ' negative',\n",
      "           0.72: ' negative',\n",
      "           0.73: ' negative',\n",
      "           0.74: ' negative',\n",
      "           0.75: ' negative',\n",
      "           0.76: ' negative',\n",
      "           0.77: ' negative',\n",
      "           0.78: ' negative',\n",
      "           0.79: ' negative',\n",
      "           0.8: ' negative',\n",
      "           0.81: ' negative',\n",
      "           0.82: ' negative',\n",
      "           0.84: ' negative',\n",
      "           0.85: ' negative',\n",
      "           0.86: ' negative',\n",
      "           0.87: ' negative',\n",
      "           0.88: ' negative',\n",
      "           0.9: ' negative',\n",
      "           0.91: ' negative',\n",
      "           0.92: ' negative',\n",
      "           0.94: ' negative',\n",
      "           1.0: ' negative'}}\n"
     ]
    }
   ],
   "source": [
    "tree = tree_Building(data)\n",
    "import pprint\n",
    "pprint.pprint(tree)"
   ]
  },
  {
   "cell_type": "code",
   "execution_count": 51,
   "id": "22ae5a0f",
   "metadata": {},
   "outputs": [],
   "source": [
    "import pydot\n",
    "\n",
    "def draw(parent, child):\n",
    "    edge = pydot.Edge(parent, child)\n",
    "    graph.add_edge(edge)\n",
    "\n",
    "def visit(dic, parent = None):\n",
    "    for key, value in dic.items():\n",
    "        if isinstance(value, dict): # if value is a dictionary\n",
    "            if parent:  # if parent node\n",
    "                draw(parent, str(key)) # draw an edge from parent node to feature\n",
    "            visit(value, str(key)) # recursively create subtree\n",
    "        else:\n",
    "            draw(parent, str(key)) # if value is not a dictionary\n",
    "            draw(str(key), value)  # then draw a edge\n",
    "\n",
    "graph = pydot.Dot(graph_type='graph')\n",
    "visit(tree)\n",
    "graph.write_png(name + '.png')"
   ]
  },
  {
   "cell_type": "code",
   "execution_count": null,
   "id": "4e5aff74",
   "metadata": {},
   "outputs": [],
   "source": []
  }
 ],
 "metadata": {
  "kernelspec": {
   "display_name": "Python 3 (ipykernel)",
   "language": "python",
   "name": "python3"
  },
  "language_info": {
   "codemirror_mode": {
    "name": "ipython",
    "version": 3
   },
   "file_extension": ".py",
   "mimetype": "text/x-python",
   "name": "python",
   "nbconvert_exporter": "python",
   "pygments_lexer": "ipython3",
   "version": "3.9.7"
  }
 },
 "nbformat": 4,
 "nbformat_minor": 5
}
