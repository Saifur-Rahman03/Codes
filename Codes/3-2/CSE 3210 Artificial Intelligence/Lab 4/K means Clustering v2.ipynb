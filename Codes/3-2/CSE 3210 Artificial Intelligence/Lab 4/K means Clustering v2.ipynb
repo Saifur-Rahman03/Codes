{
 "cells": [
  {
   "cell_type": "code",
   "execution_count": 247,
   "id": "4bf240da",
   "metadata": {},
   "outputs": [],
   "source": [
    "import pandas as pd\n",
    "import numpy as np\n",
    "import random"
   ]
  },
  {
   "cell_type": "code",
   "execution_count": 248,
   "id": "066fd1f5",
   "metadata": {},
   "outputs": [],
   "source": [
    "df = pd.read_csv('ecoli-0_vs_1.csv')"
   ]
  },
  {
   "cell_type": "code",
   "execution_count": 249,
   "id": "0baeddbf",
   "metadata": {},
   "outputs": [
    {
     "data": {
      "text/plain": [
       "(219, 8)"
      ]
     },
     "execution_count": 249,
     "metadata": {},
     "output_type": "execute_result"
    }
   ],
   "source": [
    "df.shape"
   ]
  },
  {
   "cell_type": "code",
   "execution_count": 250,
   "id": "ba81b4b3",
   "metadata": {
    "scrolled": true
   },
   "outputs": [
    {
     "data": {
      "text/html": [
       "<div>\n",
       "<style scoped>\n",
       "    .dataframe tbody tr th:only-of-type {\n",
       "        vertical-align: middle;\n",
       "    }\n",
       "\n",
       "    .dataframe tbody tr th {\n",
       "        vertical-align: top;\n",
       "    }\n",
       "\n",
       "    .dataframe thead th {\n",
       "        text-align: right;\n",
       "    }\n",
       "</style>\n",
       "<table border=\"1\" class=\"dataframe\">\n",
       "  <thead>\n",
       "    <tr style=\"text-align: right;\">\n",
       "      <th></th>\n",
       "      <th>A</th>\n",
       "      <th>B</th>\n",
       "      <th>C</th>\n",
       "      <th>D</th>\n",
       "      <th>E</th>\n",
       "      <th>F</th>\n",
       "      <th>G</th>\n",
       "      <th>Class</th>\n",
       "    </tr>\n",
       "  </thead>\n",
       "  <tbody>\n",
       "    <tr>\n",
       "      <th>0</th>\n",
       "      <td>0.07</td>\n",
       "      <td>0.40</td>\n",
       "      <td>0.48</td>\n",
       "      <td>0.5</td>\n",
       "      <td>0.54</td>\n",
       "      <td>0.35</td>\n",
       "      <td>0.44</td>\n",
       "      <td>positive</td>\n",
       "    </tr>\n",
       "    <tr>\n",
       "      <th>1</th>\n",
       "      <td>0.56</td>\n",
       "      <td>0.40</td>\n",
       "      <td>0.48</td>\n",
       "      <td>0.5</td>\n",
       "      <td>0.49</td>\n",
       "      <td>0.37</td>\n",
       "      <td>0.46</td>\n",
       "      <td>positive</td>\n",
       "    </tr>\n",
       "    <tr>\n",
       "      <th>2</th>\n",
       "      <td>0.59</td>\n",
       "      <td>0.49</td>\n",
       "      <td>0.48</td>\n",
       "      <td>0.5</td>\n",
       "      <td>0.52</td>\n",
       "      <td>0.45</td>\n",
       "      <td>0.36</td>\n",
       "      <td>positive</td>\n",
       "    </tr>\n",
       "    <tr>\n",
       "      <th>3</th>\n",
       "      <td>0.23</td>\n",
       "      <td>0.32</td>\n",
       "      <td>0.48</td>\n",
       "      <td>0.5</td>\n",
       "      <td>0.55</td>\n",
       "      <td>0.25</td>\n",
       "      <td>0.35</td>\n",
       "      <td>positive</td>\n",
       "    </tr>\n",
       "    <tr>\n",
       "      <th>4</th>\n",
       "      <td>0.67</td>\n",
       "      <td>0.39</td>\n",
       "      <td>0.48</td>\n",
       "      <td>0.5</td>\n",
       "      <td>0.36</td>\n",
       "      <td>0.38</td>\n",
       "      <td>0.46</td>\n",
       "      <td>positive</td>\n",
       "    </tr>\n",
       "  </tbody>\n",
       "</table>\n",
       "</div>"
      ],
      "text/plain": [
       "      A     B     C    D     E     F     G     Class\n",
       "0  0.07  0.40  0.48  0.5  0.54  0.35  0.44  positive\n",
       "1  0.56  0.40  0.48  0.5  0.49  0.37  0.46  positive\n",
       "2  0.59  0.49  0.48  0.5  0.52  0.45  0.36  positive\n",
       "3  0.23  0.32  0.48  0.5  0.55  0.25  0.35  positive\n",
       "4  0.67  0.39  0.48  0.5  0.36  0.38  0.46  positive"
      ]
     },
     "execution_count": 250,
     "metadata": {},
     "output_type": "execute_result"
    }
   ],
   "source": [
    "df.columns=['A', 'B', 'C', 'D', 'E', 'F', 'G', 'Class']\n",
    "df.head()"
   ]
  },
  {
   "cell_type": "code",
   "execution_count": 251,
   "id": "bd7ad9de",
   "metadata": {},
   "outputs": [
    {
     "data": {
      "text/html": [
       "<div>\n",
       "<style scoped>\n",
       "    .dataframe tbody tr th:only-of-type {\n",
       "        vertical-align: middle;\n",
       "    }\n",
       "\n",
       "    .dataframe tbody tr th {\n",
       "        vertical-align: top;\n",
       "    }\n",
       "\n",
       "    .dataframe thead th {\n",
       "        text-align: right;\n",
       "    }\n",
       "</style>\n",
       "<table border=\"1\" class=\"dataframe\">\n",
       "  <thead>\n",
       "    <tr style=\"text-align: right;\">\n",
       "      <th></th>\n",
       "      <th>A</th>\n",
       "      <th>B</th>\n",
       "      <th>C</th>\n",
       "      <th>D</th>\n",
       "      <th>E</th>\n",
       "      <th>F</th>\n",
       "      <th>G</th>\n",
       "      <th>Class</th>\n",
       "    </tr>\n",
       "  </thead>\n",
       "  <tbody>\n",
       "    <tr>\n",
       "      <th>0</th>\n",
       "      <td>0.07</td>\n",
       "      <td>0.40</td>\n",
       "      <td>0.48</td>\n",
       "      <td>0.5</td>\n",
       "      <td>0.54</td>\n",
       "      <td>0.35</td>\n",
       "      <td>0.44</td>\n",
       "      <td>positive</td>\n",
       "    </tr>\n",
       "    <tr>\n",
       "      <th>1</th>\n",
       "      <td>0.56</td>\n",
       "      <td>0.40</td>\n",
       "      <td>0.48</td>\n",
       "      <td>0.5</td>\n",
       "      <td>0.49</td>\n",
       "      <td>0.37</td>\n",
       "      <td>0.46</td>\n",
       "      <td>positive</td>\n",
       "    </tr>\n",
       "    <tr>\n",
       "      <th>2</th>\n",
       "      <td>0.59</td>\n",
       "      <td>0.49</td>\n",
       "      <td>0.48</td>\n",
       "      <td>0.5</td>\n",
       "      <td>0.52</td>\n",
       "      <td>0.45</td>\n",
       "      <td>0.36</td>\n",
       "      <td>positive</td>\n",
       "    </tr>\n",
       "    <tr>\n",
       "      <th>3</th>\n",
       "      <td>0.23</td>\n",
       "      <td>0.32</td>\n",
       "      <td>0.48</td>\n",
       "      <td>0.5</td>\n",
       "      <td>0.55</td>\n",
       "      <td>0.25</td>\n",
       "      <td>0.35</td>\n",
       "      <td>positive</td>\n",
       "    </tr>\n",
       "    <tr>\n",
       "      <th>4</th>\n",
       "      <td>0.67</td>\n",
       "      <td>0.39</td>\n",
       "      <td>0.48</td>\n",
       "      <td>0.5</td>\n",
       "      <td>0.36</td>\n",
       "      <td>0.38</td>\n",
       "      <td>0.46</td>\n",
       "      <td>positive</td>\n",
       "    </tr>\n",
       "  </tbody>\n",
       "</table>\n",
       "</div>"
      ],
      "text/plain": [
       "      A     B     C    D     E     F     G     Class\n",
       "0  0.07  0.40  0.48  0.5  0.54  0.35  0.44  positive\n",
       "1  0.56  0.40  0.48  0.5  0.49  0.37  0.46  positive\n",
       "2  0.59  0.49  0.48  0.5  0.52  0.45  0.36  positive\n",
       "3  0.23  0.32  0.48  0.5  0.55  0.25  0.35  positive\n",
       "4  0.67  0.39  0.48  0.5  0.36  0.38  0.46  positive"
      ]
     },
     "execution_count": 251,
     "metadata": {},
     "output_type": "execute_result"
    }
   ],
   "source": [
    "df.head()"
   ]
  },
  {
   "cell_type": "code",
   "execution_count": 252,
   "id": "abed2f1c",
   "metadata": {},
   "outputs": [],
   "source": [
    "d = {'positive': 1, 'negative': 0}\n",
    "df['Class'] = df['Class'].map(d)"
   ]
  },
  {
   "cell_type": "code",
   "execution_count": 253,
   "id": "04b4c76a",
   "metadata": {},
   "outputs": [],
   "source": [
    "label = df['Class']"
   ]
  },
  {
   "cell_type": "code",
   "execution_count": 254,
   "id": "70dff938",
   "metadata": {},
   "outputs": [
    {
     "name": "stdout",
     "output_type": "stream",
     "text": [
      "0      1\n",
      "1      1\n",
      "2      1\n",
      "3      1\n",
      "4      1\n",
      "      ..\n",
      "214    0\n",
      "215    0\n",
      "216    0\n",
      "217    0\n",
      "218    0\n",
      "Name: Class, Length: 219, dtype: int64\n"
     ]
    }
   ],
   "source": [
    "print(label)"
   ]
  },
  {
   "cell_type": "code",
   "execution_count": 255,
   "id": "8ad2c637",
   "metadata": {},
   "outputs": [],
   "source": [
    "data = df.drop(columns=['Class'])"
   ]
  },
  {
   "cell_type": "code",
   "execution_count": 256,
   "id": "a736043f",
   "metadata": {},
   "outputs": [
    {
     "data": {
      "text/html": [
       "<div>\n",
       "<style scoped>\n",
       "    .dataframe tbody tr th:only-of-type {\n",
       "        vertical-align: middle;\n",
       "    }\n",
       "\n",
       "    .dataframe tbody tr th {\n",
       "        vertical-align: top;\n",
       "    }\n",
       "\n",
       "    .dataframe thead th {\n",
       "        text-align: right;\n",
       "    }\n",
       "</style>\n",
       "<table border=\"1\" class=\"dataframe\">\n",
       "  <thead>\n",
       "    <tr style=\"text-align: right;\">\n",
       "      <th></th>\n",
       "      <th>A</th>\n",
       "      <th>B</th>\n",
       "      <th>C</th>\n",
       "      <th>D</th>\n",
       "      <th>E</th>\n",
       "      <th>F</th>\n",
       "      <th>G</th>\n",
       "    </tr>\n",
       "  </thead>\n",
       "  <tbody>\n",
       "    <tr>\n",
       "      <th>0</th>\n",
       "      <td>0.07</td>\n",
       "      <td>0.40</td>\n",
       "      <td>0.48</td>\n",
       "      <td>0.5</td>\n",
       "      <td>0.54</td>\n",
       "      <td>0.35</td>\n",
       "      <td>0.44</td>\n",
       "    </tr>\n",
       "    <tr>\n",
       "      <th>1</th>\n",
       "      <td>0.56</td>\n",
       "      <td>0.40</td>\n",
       "      <td>0.48</td>\n",
       "      <td>0.5</td>\n",
       "      <td>0.49</td>\n",
       "      <td>0.37</td>\n",
       "      <td>0.46</td>\n",
       "    </tr>\n",
       "    <tr>\n",
       "      <th>2</th>\n",
       "      <td>0.59</td>\n",
       "      <td>0.49</td>\n",
       "      <td>0.48</td>\n",
       "      <td>0.5</td>\n",
       "      <td>0.52</td>\n",
       "      <td>0.45</td>\n",
       "      <td>0.36</td>\n",
       "    </tr>\n",
       "    <tr>\n",
       "      <th>3</th>\n",
       "      <td>0.23</td>\n",
       "      <td>0.32</td>\n",
       "      <td>0.48</td>\n",
       "      <td>0.5</td>\n",
       "      <td>0.55</td>\n",
       "      <td>0.25</td>\n",
       "      <td>0.35</td>\n",
       "    </tr>\n",
       "    <tr>\n",
       "      <th>4</th>\n",
       "      <td>0.67</td>\n",
       "      <td>0.39</td>\n",
       "      <td>0.48</td>\n",
       "      <td>0.5</td>\n",
       "      <td>0.36</td>\n",
       "      <td>0.38</td>\n",
       "      <td>0.46</td>\n",
       "    </tr>\n",
       "  </tbody>\n",
       "</table>\n",
       "</div>"
      ],
      "text/plain": [
       "      A     B     C    D     E     F     G\n",
       "0  0.07  0.40  0.48  0.5  0.54  0.35  0.44\n",
       "1  0.56  0.40  0.48  0.5  0.49  0.37  0.46\n",
       "2  0.59  0.49  0.48  0.5  0.52  0.45  0.36\n",
       "3  0.23  0.32  0.48  0.5  0.55  0.25  0.35\n",
       "4  0.67  0.39  0.48  0.5  0.36  0.38  0.46"
      ]
     },
     "execution_count": 256,
     "metadata": {},
     "output_type": "execute_result"
    }
   ],
   "source": [
    "data.head()"
   ]
  },
  {
   "cell_type": "code",
   "execution_count": 257,
   "id": "3960f30f",
   "metadata": {
    "scrolled": true
   },
   "outputs": [
    {
     "name": "stdout",
     "output_type": "stream",
     "text": [
      "A    0.07\n",
      "B    0.40\n",
      "C    0.48\n",
      "D    0.50\n",
      "E    0.54\n",
      "F    0.35\n",
      "G    0.44\n",
      "Name: 0, dtype: float64\n"
     ]
    }
   ],
   "source": [
    "m1 = data.iloc[0]\n",
    "print(m1)"
   ]
  },
  {
   "cell_type": "code",
   "execution_count": 258,
   "id": "ba13e7e1",
   "metadata": {
    "scrolled": true
   },
   "outputs": [
    {
     "name": "stdout",
     "output_type": "stream",
     "text": [
      "A    0.71\n",
      "B    0.52\n",
      "C    0.48\n",
      "D    0.50\n",
      "E    0.64\n",
      "F    1.00\n",
      "G    0.99\n",
      "Name: 218, dtype: float64\n"
     ]
    }
   ],
   "source": [
    "m2 = data.iloc[-1]\n",
    "print(m2)"
   ]
  },
  {
   "cell_type": "code",
   "execution_count": 259,
   "id": "d98fdcb9",
   "metadata": {},
   "outputs": [
    {
     "data": {
      "text/plain": [
       "219"
      ]
     },
     "execution_count": 259,
     "metadata": {},
     "output_type": "execute_result"
    }
   ],
   "source": [
    "data.shape[0]"
   ]
  },
  {
   "cell_type": "code",
   "execution_count": 260,
   "id": "0573421b",
   "metadata": {},
   "outputs": [
    {
     "name": "stdout",
     "output_type": "stream",
     "text": [
      "\n",
      "\n",
      "\n",
      "\n",
      "\n",
      "\n",
      "\n",
      "\n",
      "Finally Clusters:\n",
      "[0, 1, 2, 3, 4, 5, 6, 7, 8, 9, 10, 11, 12, 13, 14, 15, 16, 17, 18, 19, 20, 21, 22, 23, 24, 25, 26, 27, 28, 29, 30, 31, 32, 33, 34, 35, 36, 37, 38, 39, 40, 41, 42, 43, 44, 46, 47, 48, 49, 50, 51, 52, 53, 54, 55, 56, 57, 58, 59, 60, 61, 62, 63, 64, 65, 66, 67, 68, 69, 70, 71, 72, 73, 74, 75, 76, 77, 78, 79, 80, 81, 82, 83, 84, 85, 86, 87, 88, 89, 90, 91, 92, 93, 94, 95, 96, 97, 98, 99, 100, 101, 102, 103, 104, 105, 106, 107, 108, 109, 110, 111, 112, 113, 114, 115, 116, 117, 118, 119, 120, 121, 122, 123, 124, 125, 126, 127, 128, 129, 130, 131, 132, 133, 134, 135, 136, 137, 138, 139, 140, 141, 143, 182, 211, 212, 213, 214, 215, 216]\n",
      "[45, 142, 144, 145, 146, 147, 148, 149, 150, 151, 152, 153, 154, 155, 156, 157, 158, 159, 160, 161, 162, 163, 164, 165, 166, 167, 168, 169, 170, 171, 172, 173, 174, 175, 176, 177, 178, 179, 180, 181, 183, 184, 185, 186, 187, 188, 189, 190, 191, 192, 193, 194, 195, 196, 197, 198, 199, 200, 201, 202, 203, 204, 205, 206, 207, 208, 209, 210, 217, 218]\n"
     ]
    }
   ],
   "source": [
    "data1 = []\n",
    "data2 = []\n",
    "prev_m1 = data.iloc[2]\n",
    "prev_m2 = data.iloc[3]\n",
    "c1 = []\n",
    "c2 = []\n",
    "\n",
    "while (not(prev_m1.equals(m1))) or (not(prev_m1.equals(m1))):\n",
    "    for i in range(len(data)):\n",
    "        dist1 = np.sum(np.square(m1 - data.iloc[i]))\n",
    "        dist2 = np.sum(np.square(m2 - data.iloc[i]))\n",
    "        if dist1 < dist2:\n",
    "            data1.append(i)\n",
    "        else:\n",
    "            data2.append(i)\n",
    "    \n",
    "    prev_m1 = m1\n",
    "    prev_m2 = m2\n",
    "\n",
    "    m1 = data.loc[data1].mean()\n",
    "    m2 = data.loc[data2].mean()\n",
    "    \n",
    "    #print('cluster1: ', data1, m1)\n",
    "    #print('cluster2: ', data2, m2)\n",
    "    print('\\n')\n",
    "    c1 = data1\n",
    "    c2 = data2\n",
    "    data1 = []\n",
    "    data2 = []\n",
    "    \n",
    "print('Finally Clusters:' )\n",
    "c1.sort()\n",
    "c2.sort()\n",
    "print(c1)\n",
    "print(c2)"
   ]
  },
  {
   "cell_type": "code",
   "execution_count": 261,
   "id": "f0ad2433",
   "metadata": {
    "scrolled": true
   },
   "outputs": [
    {
     "name": "stdout",
     "output_type": "stream",
     "text": [
      "[1, 1, 1, 1, 1, 1, 1, 1, 1, 1, 1, 1, 1, 1, 1, 1, 1, 1, 1, 1, 1, 1, 1, 1, 1, 1, 1, 1, 1, 1, 1, 1, 1, 1, 1, 1, 1, 1, 1, 1, 1, 1, 1, 1, 1, 1, 1, 1, 1, 1, 1, 1, 1, 1, 1, 1, 1, 1, 1, 1, 1, 1, 1, 1, 1, 1, 1, 1, 1, 1, 1, 1, 1, 1, 1, 1, 1, 1, 1, 1, 1, 1, 1, 1, 1, 1, 1, 1, 1, 1, 1, 1, 1, 1, 1, 1, 1, 1, 1, 1, 1, 1, 1, 1, 1, 1, 1, 1, 1, 1, 1, 1, 1, 1, 1, 1, 1, 1, 1, 1, 1, 1, 1, 1, 1, 1, 1, 1, 1, 1, 1, 1, 1, 1, 1, 1, 1, 1, 1, 1, 1, 1, 0, 0, 0, 0, 0, 0, 0, 0, 0, 0, 0, 0, 0, 0, 0, 0, 0, 0, 0, 0, 0, 0, 0, 0, 0, 0, 0, 0, 0, 0, 0, 0, 0, 0, 0, 0, 0, 0, 0, 0, 0, 0, 0, 0, 0, 0, 0, 0, 0, 0, 0, 0, 0, 0, 0, 0, 0, 0, 0, 0, 0, 0, 0, 0, 0, 0, 0, 0, 0, 0, 0, 0, 0, 0, 0, 0, 0]\n"
     ]
    }
   ],
   "source": [
    "X = label.tolist()\n",
    "print(X)"
   ]
  },
  {
   "cell_type": "code",
   "execution_count": 262,
   "id": "80bbd20c",
   "metadata": {},
   "outputs": [
    {
     "name": "stdout",
     "output_type": "stream",
     "text": [
      "[0, 0, 0, 0, 0, 0, 0, 0, 0, 0, 0, 0, 0, 0, 0, 0, 0, 0, 0, 0, 0, 0, 0, 0, 0, 0, 0, 0, 0, 0, 0, 0, 0, 0, 0, 0, 0, 0, 0, 0, 0, 0, 0, 0, 0, 1, 0, 0, 0, 0, 0, 0, 0, 0, 0, 0, 0, 0, 0, 0, 0, 0, 0, 0, 0, 0, 0, 0, 0, 0, 0, 0, 0, 0, 0, 0, 0, 0, 0, 0, 0, 0, 0, 0, 0, 0, 0, 0, 0, 0, 0, 0, 0, 0, 0, 0, 0, 0, 0, 0, 0, 0, 0, 0, 0, 0, 0, 0, 0, 0, 0, 0, 0, 0, 0, 0, 0, 0, 0, 0, 0, 0, 0, 0, 0, 0, 0, 0, 0, 0, 0, 0, 0, 0, 0, 0, 0, 0, 0, 0, 0, 0, 1, 0, 1, 1, 1, 1, 1, 1, 1, 1, 1, 1, 1, 1, 1, 1, 1, 1, 1, 1, 1, 1, 1, 1, 1, 1, 1, 1, 1, 1, 1, 1, 1, 1, 1, 1, 1, 1, 1, 1, 0, 1, 1, 1, 1, 1, 1, 1, 1, 1, 1, 1, 1, 1, 1, 1, 1, 1, 1, 1, 1, 1, 1, 1, 1, 1, 1, 1, 1, 0, 0, 0, 0, 0, 0, 1, 1]\n"
     ]
    }
   ],
   "source": [
    "Y = X.copy()\n",
    "for i in range(len(c1)):\n",
    "    Y[c1[i]] = 0\n",
    "\n",
    "for i in range(len(c2)):\n",
    "    Y[c2[i]] = 1\n",
    "print(Y)"
   ]
  },
  {
   "cell_type": "code",
   "execution_count": 263,
   "id": "649d21b9",
   "metadata": {},
   "outputs": [],
   "source": [
    "def confusion_matrix(X, Y, l):\n",
    "    tp = 0 # true positive\n",
    "    fp = 0 # false positive\n",
    "    tn = 0 # true negative\n",
    "    fn = 0 # false negative\n",
    "\n",
    "    for i in range(l):\n",
    "        if X[i] == 1 and Y[i] == 1:\n",
    "            tp += 1\n",
    "        elif X[i] == 0 and Y[i] == 1:\n",
    "            fp += 1\n",
    "        elif X[i] == 1 and Y[i] == 0:\n",
    "            fn += 1\n",
    "        else:\n",
    "            tn += 1\n",
    "\n",
    "    print(\"True Positive \", tp)\n",
    "    print(\"False Positive \", fp)\n",
    "    print(\"False Negative \", fn)\n",
    "    print(\"True Negative \", tn)\n",
    "    print('\\n')\n",
    "    confusion_matrix = [[tp, fp], \n",
    "                        [fn, tn]]\n",
    "    print('Confusion Matrix: ')\n",
    "    print(np.matrix(confusion_matrix))\n",
    "    \n",
    "    return confusion_matrix"
   ]
  },
  {
   "cell_type": "code",
   "execution_count": 264,
   "id": "8d0465b5",
   "metadata": {},
   "outputs": [],
   "source": [
    "def metric(tp, tn, fn, fp):\n",
    "    acc = (tp + tn) / (tp + tn + fn + fp) # Accuracy\n",
    "    prc = tp / (tp + fp) # Precision\n",
    "    rcl = tp / (tp + fn) # Recall\n",
    "    f1s = (2 * prc * rcl) / (prc + rcl) # F1 Score\n",
    "\n",
    "    print(\"Accuracy: \", \"{:.2f}\".format(acc * 100), \"%\")\n",
    "    print(\"Precision: \", \"{:.2f}\".format(prc * 100), \"%\")\n",
    "    print(\"Recall: \", \"{:.2f}\".format(rcl * 100), \"%\")\n",
    "    print(\"F1 Score: \", \"{:.2f}\".format(f1s * 100), \"%\")"
   ]
  },
  {
   "cell_type": "code",
   "execution_count": 265,
   "id": "e949b8f9",
   "metadata": {},
   "outputs": [
    {
     "name": "stdout",
     "output_type": "stream",
     "text": [
      "True Positive  1\n",
      "False Positive  69\n",
      "False Negative  141\n",
      "True Negative  8\n",
      "\n",
      "\n",
      "Confusion Matrix: \n",
      "[[  1  69]\n",
      " [141   8]]\n"
     ]
    }
   ],
   "source": [
    "cm = confusion_matrix(X, Y, len(X))"
   ]
  },
  {
   "cell_type": "code",
   "execution_count": 266,
   "id": "449ca56e",
   "metadata": {},
   "outputs": [
    {
     "name": "stdout",
     "output_type": "stream",
     "text": [
      "[[  1  69]\n",
      " [141   8]]\n",
      "True Positive  1\n",
      "False Positive  69\n",
      "False Negative  141\n",
      "True Negative  8\n",
      "\n",
      "\n",
      "Accuracy:  4.11 %\n",
      "Precision:  1.43 %\n",
      "Recall:  0.70 %\n",
      "F1 Score:  0.94 %\n"
     ]
    }
   ],
   "source": [
    "print(np.matrix(cm))\n",
    "tp = cm[0][0]\n",
    "fp = cm[0][1]\n",
    "fn = cm[1][0]\n",
    "tn = cm[1][1]\n",
    "\n",
    "print(\"True Positive \", tp)\n",
    "print(\"False Positive \", fp)\n",
    "print(\"False Negative \", fn)\n",
    "print(\"True Negative \", tn)\n",
    "print('\\n')\n",
    "\n",
    "metric(tp, tn, fn, fp)"
   ]
  },
  {
   "cell_type": "code",
   "execution_count": null,
   "id": "b40a3f68",
   "metadata": {},
   "outputs": [],
   "source": []
  }
 ],
 "metadata": {
  "kernelspec": {
   "display_name": "Python 3 (ipykernel)",
   "language": "python",
   "name": "python3"
  },
  "language_info": {
   "codemirror_mode": {
    "name": "ipython",
    "version": 3
   },
   "file_extension": ".py",
   "mimetype": "text/x-python",
   "name": "python",
   "nbconvert_exporter": "python",
   "pygments_lexer": "ipython3",
   "version": "3.9.7"
  }
 },
 "nbformat": 4,
 "nbformat_minor": 5
}
