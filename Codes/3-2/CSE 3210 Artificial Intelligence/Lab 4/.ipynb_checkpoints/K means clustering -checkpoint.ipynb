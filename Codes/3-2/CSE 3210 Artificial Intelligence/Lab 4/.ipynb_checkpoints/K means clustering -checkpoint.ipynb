{
 "cells": [
  {
   "cell_type": "code",
   "execution_count": 52,
   "id": "3d75cfbc",
   "metadata": {},
   "outputs": [],
   "source": [
    "import pandas as pd\n",
    "import numpy as np\n",
    "import random"
   ]
  },
  {
   "cell_type": "markdown",
   "id": "8b007758",
   "metadata": {},
   "source": [
    "K means Clustering (2 Clusters)\n"
   ]
  },
  {
   "cell_type": "code",
   "execution_count": 53,
   "id": "d56a5140",
   "metadata": {},
   "outputs": [
    {
     "data": {
      "text/plain": [
       "'data = []\\nfor i in range(1000):\\n    data.append(random.randint(1, 100))\\nprint(data)'"
      ]
     },
     "execution_count": 53,
     "metadata": {},
     "output_type": "execute_result"
    }
   ],
   "source": [
    "data = [2, 4, 10, 12, 3, 20, 30, 11, 25]\n",
    "'''data = []\n",
    "for i in range(1000):\n",
    "    data.append(random.randint(1, 100))\n",
    "print(data)'''"
   ]
  },
  {
   "cell_type": "code",
   "execution_count": 54,
   "id": "d9d2c1c1",
   "metadata": {},
   "outputs": [],
   "source": [
    "#data.shape"
   ]
  },
  {
   "cell_type": "code",
   "execution_count": 55,
   "id": "1f6c2b7a",
   "metadata": {},
   "outputs": [],
   "source": [
    "#data.head()"
   ]
  },
  {
   "cell_type": "code",
   "execution_count": 56,
   "id": "337ab678",
   "metadata": {},
   "outputs": [],
   "source": [
    "n = 2 # no of clusters"
   ]
  },
  {
   "cell_type": "code",
   "execution_count": 57,
   "id": "a62a014c",
   "metadata": {},
   "outputs": [],
   "source": [
    "m1 = random.randint(data[0], data[-1])\n",
    "#m1 = 3 # first random mean"
   ]
  },
  {
   "cell_type": "code",
   "execution_count": 58,
   "id": "819860cf",
   "metadata": {},
   "outputs": [],
   "source": [
    "m2 = random.randint(data[0], data[-1])\n",
    "#m2 = 4 # second random mean"
   ]
  },
  {
   "cell_type": "code",
   "execution_count": null,
   "id": "1a32cf23",
   "metadata": {},
   "outputs": [],
   "source": []
  },
  {
   "cell_type": "code",
   "execution_count": 59,
   "id": "3b49ab9d",
   "metadata": {},
   "outputs": [
    {
     "name": "stdout",
     "output_type": "stream",
     "text": [
      "random means:  6 3\n",
      "cluster1:  [10, 12, 20, 30, 11, 25] 18.0\n",
      "cluster2:  [2, 4, 3] 3.0\n",
      "\n",
      "\n",
      "cluster1:  [12, 20, 30, 11, 25] 19.6\n",
      "cluster2:  [2, 4, 10, 3] 4.75\n",
      "\n",
      "\n",
      "cluster1:  [20, 30, 25] 25.0\n",
      "cluster2:  [2, 4, 10, 12, 3, 11] 7.0\n",
      "\n",
      "\n",
      "cluster1:  [20, 30, 25] 25.0\n",
      "cluster2:  [2, 4, 10, 12, 3, 11] 7.0\n",
      "\n",
      "\n",
      "Finally Clusters:\n",
      "[20, 25, 30]\n",
      "[2, 3, 4, 10, 11, 12]\n"
     ]
    }
   ],
   "source": [
    "data1 = []\n",
    "data2 = []\n",
    "prev_m1 = 0\n",
    "prev_m2 = 0\n",
    "c1 = []\n",
    "c2 = []\n",
    "print('random means: ', m1, m2)\n",
    "\n",
    "while (prev_m1 != m1) or (prev_m2 != m2):\n",
    "    for i in data:\n",
    "        if abs(i - m1) < abs (i - m2):\n",
    "            data1.append(i)\n",
    "        else:\n",
    "            data2.append(i)\n",
    "    \n",
    "    prev_m1 = m1\n",
    "    prev_m2 = m2\n",
    "\n",
    "    m1 = sum(data1) / len(data1)\n",
    "    m2 = sum(data2) / len(data2)\n",
    "    \n",
    "    print('cluster1: ', data1, m1)\n",
    "    print('cluster2: ', data2, m2)\n",
    "    print('\\n')\n",
    "    c1 = data1\n",
    "    c2 = data2\n",
    "    data1 = []\n",
    "    data2 = []\n",
    "    \n",
    "print('Finally Clusters:' )\n",
    "c1.sort()\n",
    "c2.sort()\n",
    "print(c1)\n",
    "print(c2)"
   ]
  },
  {
   "cell_type": "markdown",
   "id": "ee3ac88c",
   "metadata": {},
   "source": [
    "K means Clustering (N clusters)"
   ]
  },
  {
   "cell_type": "code",
   "execution_count": 43,
   "id": "3b3f3f8b",
   "metadata": {},
   "outputs": [],
   "source": [
    " def update_clusters(data, centroids):\n",
    "        c =[]\n",
    "        for i in data:\n",
    "            c.append(np.argmin(np.sum((i.reshape(1, 2) - centroids)**2, axis = 1)))\n",
    "        return c"
   ]
  },
  {
   "cell_type": "code",
   "execution_count": 44,
   "id": "87f846e6",
   "metadata": {},
   "outputs": [],
   "source": [
    "def update_centroids(data, n, clusters):\n",
    "    cen = []\n",
    "    for c in range(len(n)):\n",
    "        cen.append(np.mean([data[x] for x in range(len(data)) if clusters[x] == c], axis = 0))\n",
    "    return cen"
   ]
  },
  {
   "cell_type": "code",
   "execution_count": 45,
   "id": "80aeeebc",
   "metadata": {},
   "outputs": [
    {
     "name": "stdout",
     "output_type": "stream",
     "text": [
      "(30, 2)\n"
     ]
    }
   ],
   "source": [
    "data = np.loadtxt('dataset.txt').T\n",
    "print(data.shape)"
   ]
  },
  {
   "cell_type": "code",
   "execution_count": 46,
   "id": "cb8de99c",
   "metadata": {},
   "outputs": [
    {
     "name": "stdout",
     "output_type": "stream",
     "text": [
      "[[  1.   4.]\n",
      " [  1.   5.]\n",
      " [  1.   6.]\n",
      " [  2.   4.]\n",
      " [  2.   5.]\n",
      " [  2.   6.]\n",
      " [  3.   4.]\n",
      " [  3.   5.]\n",
      " [  3.   6.]\n",
      " [  7.   7.]\n",
      " [  7.   8.]\n",
      " [  7.   9.]\n",
      " [  8.   7.]\n",
      " [  8.   8.]\n",
      " [  8.   9.]\n",
      " [  9.   7.]\n",
      " [  9.   8.]\n",
      " [  9.   9.]\n",
      " [ 20.   3.]\n",
      " [ 21.   4.]\n",
      " [ 22.   5.]\n",
      " [ 23.   6.]\n",
      " [ 20.   5.]\n",
      " [100.  10.]\n",
      " [101.  10.]\n",
      " [ 99.   5.]\n",
      " [ 96.   6.]\n",
      " [100.   7.]\n",
      " [ 97.   8.]\n",
      " [ 99.   9.]]\n"
     ]
    }
   ],
   "source": [
    "print(data)"
   ]
  },
  {
   "cell_type": "code",
   "execution_count": 47,
   "id": "e85c2e78",
   "metadata": {},
   "outputs": [],
   "source": [
    "centroids = (np.random.normal(size=(1, 2))) + np.mean(data, axis = 0).reshape((1, 2))\n",
    "for i in range(100):\n",
    "    cl = update_clusters(data, centroids)\n",
    "    centroids = update_centroids(data, centroids, cl)\n",
    "    centroids = np.array(centroids)"
   ]
  },
  {
   "cell_type": "code",
   "execution_count": 48,
   "id": "0666247b",
   "metadata": {},
   "outputs": [
    {
     "data": {
      "text/plain": [
       "<function matplotlib.pyplot.show(close=None, block=None)>"
      ]
     },
     "execution_count": 48,
     "metadata": {},
     "output_type": "execute_result"
    },
    {
     "data": {
      "image/png": "[encoded data removed]",
      "text/plain": [
       "<Figure size 432x288 with 1 Axes>"
      ]
     },
     "metadata": {
      "needs_background": "light"
     },
     "output_type": "display_data"
    }
   ],
   "source": [
    "import matplotlib.pyplot as plt\n",
    "plt.scatter(data[:, :], data[:, :])\n",
    "plt.scatter(centroids[:, :], centroids[:, :])\n",
    "plt.show"
   ]
  },
  {
   "cell_type": "code",
   "execution_count": 49,
   "id": "7daf0aea",
   "metadata": {},
   "outputs": [],
   "source": [
    "def confusion_matrix(X, Y, l):\n",
    "    tp = 0 # true positive\n",
    "    fp = 0 # false positive\n",
    "    tn = 0 # true negative\n",
    "    fn = 0 # false negative\n",
    "\n",
    "    for i in range(l):\n",
    "        if X[i] == 1 and Y[i] == 1:\n",
    "            tp += 1\n",
    "        elif X[i] == 0 and Y[i] == 1:\n",
    "            fp += 1\n",
    "        elif X[i] == 1 and Y[i] == 0:\n",
    "            fn += 1\n",
    "        else:\n",
    "            tn += 1\n",
    "\n",
    "    print(\"True Positive \", tp)\n",
    "    print(\"False Positive \", fp)\n",
    "    print(\"False Negative \", fn)\n",
    "    print(\"True Negative \", tn)\n",
    "    print('\\n')\n",
    "    confusion_matrix = [[tp, fp], \n",
    "                        [fn, tn]]\n",
    "    print('Confusion Matrix: ')\n",
    "    print(np.matrix(confusion_matrix))\n",
    "    \n",
    "    return confusion_matrix"
   ]
  },
  {
   "cell_type": "code",
   "execution_count": 50,
   "id": "61f37959",
   "metadata": {},
   "outputs": [],
   "source": [
    "def metric(tp, tn, fn, fp):\n",
    "    acc = (tp + tn) / (tp + tn + fn + fp) # Accuracy\n",
    "    prc = tp / (tp + fp) # Precision\n",
    "    rcl = tp / (tp + fn) # Recall\n",
    "    f1s = (2 * prc * rcl) / (prc + rcl) # F1 Score\n",
    "\n",
    "    print(\"Accuracy: \", \"{:.2f}\".format(acc * 100), \"%\")\n",
    "    print(\"Precision: \", \"{:.2f}\".format(prc * 100), \"%\")\n",
    "    print(\"Recall: \", \"{:.2f}\".format(rcl * 100), \"%\")\n",
    "    print(\"F1 Score: \", \"{:.2f}\".format(f1s * 100), \"%\")"
   ]
  },
  {
   "cell_type": "code",
   "execution_count": null,
   "id": "5973cdb7",
   "metadata": {},
   "outputs": [],
   "source": []
  },
  {
   "cell_type": "code",
   "execution_count": null,
   "id": "08b4a9b1",
   "metadata": {},
   "outputs": [],
   "source": []
  }
 ],
 "metadata": {
  "kernelspec": {
   "display_name": "Python 3 (ipykernel)",
   "language": "python",
   "name": "python3"
  },
  "language_info": {
   "codemirror_mode": {
    "name": "ipython",
    "version": 3
   },
   "file_extension": ".py",
   "mimetype": "text/x-python",
   "name": "python",
   "nbconvert_exporter": "python",
   "pygments_lexer": "ipython3",
   "version": "3.9.7"
  }
 },
 "nbformat": 4,
 "nbformat_minor": 5
}
