{
 "cells": [
  {
   "cell_type": "code",
   "execution_count": 1,
   "metadata": {},
   "outputs": [
    {
     "name": "stdout",
     "output_type": "stream",
     "text": [
      "Welcome all to python RE\n"
     ]
    }
   ],
   "source": [
    "print('Welcome all to python RE')"
   ]
  },
  {
   "cell_type": "code",
   "execution_count": 5,
   "metadata": {},
   "outputs": [
    {
     "name": "stdout",
     "output_type": "stream",
     "text": [
      "Enter whatever u want: 50\n",
      "50\n",
      "<class 'str'>\n",
      "<class 'int'>\n"
     ]
    }
   ],
   "source": [
    "a = input('Enter whatever u want: ')\n",
    "print(a)\n",
    "print(type(a))\n",
    "aa = int(a)\n",
    "print(type(aa))"
   ]
  },
  {
   "cell_type": "code",
   "execution_count": 10,
   "metadata": {},
   "outputs": [
    {
     "name": "stdout",
     "output_type": "stream",
     "text": [
      "0 2 4 6 8 "
     ]
    }
   ],
   "source": [
    "for i in range(0, 10, 1):\n",
    "    if i % 2 == 0:\n",
    "        print(i, end = ' ' )"
   ]
  },
  {
   "cell_type": "code",
   "execution_count": 21,
   "metadata": {},
   "outputs": [
    {
     "name": "stdout",
     "output_type": "stream",
     "text": [
      "[[0. 1. 2.]\n",
      " [1. 2. 3.]\n",
      " [2. 3. 4.]\n",
      " [3. 4. 5.]]\n"
     ]
    }
   ],
   "source": [
    "import numpy as np\n",
    "\n",
    "#numpy\n",
    "'''\n",
    "mat1 = np.array( [ (1, 2, 3), (4, 5, 6), (7, 8, 9), (7, 4, 1) ] )\n",
    "print(mat1)\n",
    "\n",
    "dimension = mat1.shape\n",
    "print(dimension[0])\n",
    "print(dimension[1])\n",
    "print(dimension)\n",
    "\n",
    "mat2 = np.array( [ (1, 2, 3, 4), (4, 5, 7, 8), (9, 6, 3, 1) ] )\n",
    "\n",
    "mat3 = np.dot(mat1, mat2)\n",
    "print(mat3)\n",
    "print(mat3.shape) #shape is a property\n",
    "'''\n",
    "mat_zeros = np.zeros((4, 3))\n",
    "mat_ones = np.ones((3, 4))\n",
    "'''\n",
    "print(mat_zeros)\n",
    "print(mat_ones)\n",
    "\n",
    "print(type(mat_zeros))\n",
    "print(type(mat_zeros[1][1]))\n",
    "'''\n",
    "\n",
    "for i in range(0, mat_zeros.shape[0]):\n",
    "    for ii in range(0, mat_zeros.shape[1]):\n",
    "        mat_zeros[i][ii] = i + ii\n",
    "        \n",
    "print(mat_zeros)        "
   ]
  },
  {
   "cell_type": "code",
   "execution_count": 73,
   "metadata": {},
   "outputs": [
    {
     "name": "stdout",
     "output_type": "stream",
     "text": [
      "['11/Jan/2020', '20/Mar/2021']\n",
      "['+8801728366059', '+8801987533108']\n",
      "[' MrA', ' Messi', ' MrAugust']\n"
     ]
    }
   ],
   "source": [
    "import re\n",
    "\n",
    "data = '''\n",
    "Hello everyone, I am MrA.In 11/Jan/2020 I met Messi and got his phone number +8801728366059.But his manager MrAugust \n",
    "gave me another number +8801987533108 and requested to enjoy a football match at 20/Mar/2021 and I accepted his offer.\n",
    "'''\n",
    "\n",
    "date_pattern = re.compile(r'\\d+/[A-Z][a-z]+/\\d{4}')\n",
    "\n",
    "scraping_dates = date_pattern.findall(data)\n",
    "print(scraping_dates)\n",
    "\n",
    "phone_number_pattern = re.compile(r'\\+[8][8][0][1][3|5|6|7|8|9]\\d{8}')\n",
    "scraping_numbers = phone_number_pattern.findall(data)\n",
    "print(scraping_numbers)\n",
    "\n",
    "name_pattern = re.compile(r' [A-Z][a-z][A-Z]*[a-z]*')\n",
    "scraping_names = name_pattern.findall(data)\n",
    "print(scraping_names)"
   ]
  },
  {
   "cell_type": "code",
   "execution_count": 67,
   "metadata": {},
   "outputs": [
    {
     "name": "stdout",
     "output_type": "stream",
     "text": [
      "Valid number: +8801738663624\n",
      "invalid number: +88017205266h20\n",
      "Valid number: +8801720526652\n",
      "invalid number: +8801738663i245\n",
      "Valid number: +8801776604777\n",
      "invalid number: +880177o6047778\n"
     ]
    }
   ],
   "source": [
    "#re Personal Assesment\n",
    "import numpy as np\n",
    "\n",
    "mat1 = np.array( ['+8801738663624', '+88017205266h20', '+8801720526652', '+8801738663i245', '+8801776604777', '+880177o6047778' ] )\n",
    "phone_number_pattern = re.compile(r'\\+[8][8][0][1][3|5|6|7|8|9]\\d{8}')\n",
    "\n",
    "\n",
    "for i in range(0, mat1.shape[0]):\n",
    "    if phone_number_pattern.findall(mat1[i]):\n",
    "        print('Valid number: ' + mat1[i])\n",
    "    else:\n",
    "        print('invalid number: ' + mat1[i])"
   ]
  },
  {
   "cell_type": "code",
   "execution_count": null,
   "metadata": {},
   "outputs": [],
   "source": []
  },
  {
   "cell_type": "code",
   "execution_count": null,
   "metadata": {},
   "outputs": [],
   "source": []
  }
 ],
 "metadata": {
  "kernelspec": {
   "display_name": "Python 3",
   "language": "python",
   "name": "python3"
  },
  "language_info": {
   "codemirror_mode": {
    "name": "ipython",
    "version": 3
   },
   "file_extension": ".py",
   "mimetype": "text/x-python",
   "name": "python",
   "nbconvert_exporter": "python",
   "pygments_lexer": "ipython3",
   "version": "3.7.1"
  }
 },
 "nbformat": 4,
 "nbformat_minor": 2
}
