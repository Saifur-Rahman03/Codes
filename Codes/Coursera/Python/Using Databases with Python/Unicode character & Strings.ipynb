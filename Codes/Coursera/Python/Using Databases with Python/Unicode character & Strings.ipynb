{
 "cells": [
  {
   "cell_type": "code",
   "execution_count": 10,
   "metadata": {},
   "outputs": [
    {
     "name": "stdout",
     "output_type": "stream",
     "text": [
      "72\n",
      "104\n",
      "32\n",
      "42\n",
      "105\n"
     ]
    }
   ],
   "source": [
    "'''\n",
    "ASCII = American Standard Code for Information Interchange\n",
    "here 128 character\n",
    "'''\n",
    "\n",
    "print(ord('H'))\n",
    "print(ord('h'))\n",
    "print(ord('h') - ord('H'))\n",
    "print(ord('*'))\n",
    "print(ord('i'))"
   ]
  },
  {
   "cell_type": "code",
   "execution_count": null,
   "metadata": {},
   "outputs": [],
   "source": [
    "'''\n",
    "Unicode = Universal code for thousand of characters set\n",
    "UTF = Unicode Transformation Format\n",
    "UTF-16 - Fixed Length- 2 bytes\n",
    "UTF-32 - Fixed Length - 4 bytes\n",
    "UTF-8 - 1 - 4 bytes (most used/ best practice)\n",
    "\n",
    "in python 3 .. a regular and unicode string are same.. inside of python\n",
    "everything is unicode.\n",
    "byte strings and unicode are different\n",
    "\n",
    "sokcet gives us a character of byte.\n",
    "encode() = turns string into byte string\n",
    "decode() = turns data in ascii or utf-8 dynamically from byte\n",
    "'''"
   ]
  }
 ],
 "metadata": {
  "kernelspec": {
   "display_name": "Python 3",
   "language": "python",
   "name": "python3"
  },
  "language_info": {
   "codemirror_mode": {
    "name": "ipython",
    "version": 3
   },
   "file_extension": ".py",
   "mimetype": "text/x-python",
   "name": "python",
   "nbconvert_exporter": "python",
   "pygments_lexer": "ipython3",
   "version": "3.7.1"
  }
 },
 "nbformat": 4,
 "nbformat_minor": 2
}
