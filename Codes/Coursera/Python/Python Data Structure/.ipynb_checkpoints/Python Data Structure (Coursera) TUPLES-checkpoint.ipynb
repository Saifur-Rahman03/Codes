{
 "cells": [
  {
   "cell_type": "code",
   "execution_count": 4,
   "metadata": {},
   "outputs": [
    {
     "name": "stdout",
     "output_type": "stream",
     "text": [
      "('Joseph', 'Sally', 'Gleen')\n",
      "<class 'tuple'>\n",
      "Joseph\n",
      "Joseph\n",
      "Sally\n",
      "Gleen\n"
     ]
    }
   ],
   "source": [
    "#tuples\n",
    "x = ('Joseph', 'Sally', 'Gleen')\n",
    "print(x)\n",
    "print(type(x))\n",
    "print(x[0])\n",
    "for iter in x:\n",
    "    print(iter)"
   ]
  },
  {
   "cell_type": "code",
   "execution_count": 7,
   "metadata": {},
   "outputs": [
    {
     "name": "stdout",
     "output_type": "stream",
     "text": [
      "[5, 9, 6]\n",
      "(5, 9, 7)\n"
     ]
    }
   ],
   "source": [
    "#tuples are immutable like strings\n",
    "#lists are mutable\n",
    "#list:\n",
    "x = [5, 9, 7]\n",
    "x[2] = 6\n",
    "print(x)\n",
    "#tuples:\n",
    "x = (5, 9, 7)\n",
    "#x[2] = 6 typeError.. tuples does not support item assignment\n",
    "print(x)"
   ]
  },
  {
   "cell_type": "code",
   "execution_count": 10,
   "metadata": {},
   "outputs": [
    {
     "data": {
      "text/plain": [
       "['__add__',\n",
       " '__class__',\n",
       " '__contains__',\n",
       " '__delattr__',\n",
       " '__dir__',\n",
       " '__doc__',\n",
       " '__eq__',\n",
       " '__format__',\n",
       " '__ge__',\n",
       " '__getattribute__',\n",
       " '__getitem__',\n",
       " '__getnewargs__',\n",
       " '__gt__',\n",
       " '__hash__',\n",
       " '__init__',\n",
       " '__init_subclass__',\n",
       " '__iter__',\n",
       " '__le__',\n",
       " '__len__',\n",
       " '__lt__',\n",
       " '__mul__',\n",
       " '__ne__',\n",
       " '__new__',\n",
       " '__reduce__',\n",
       " '__reduce_ex__',\n",
       " '__repr__',\n",
       " '__rmul__',\n",
       " '__setattr__',\n",
       " '__sizeof__',\n",
       " '__str__',\n",
       " '__subclasshook__',\n",
       " 'count',\n",
       " 'index']"
      ]
     },
     "execution_count": 10,
     "metadata": {},
     "output_type": "execute_result"
    }
   ],
   "source": [
    "#tuple doesnt support sort, reverse, append\n",
    "#l = list()\n",
    "#dir(l)\n",
    "t = tuple()\n",
    "dir(t)"
   ]
  },
  {
   "cell_type": "code",
   "execution_count": 11,
   "metadata": {},
   "outputs": [
    {
     "name": "stdout",
     "output_type": "stream",
     "text": [
      "fred\n"
     ]
    }
   ],
   "source": [
    "(x, y) = (4, 'fred')\n",
    "print(y)"
   ]
  },
  {
   "cell_type": "code",
   "execution_count": 15,
   "metadata": {},
   "outputs": [
    {
     "name": "stdout",
     "output_type": "stream",
     "text": [
      "csev 2\n",
      "cwen 4\n",
      "dict_items([('csev', 2), ('cwen', 4)])\n",
      "<class 'dict_items'>\n"
     ]
    }
   ],
   "source": [
    "#dict.items() function returns tuples\n",
    "d = dict()\n",
    "d['csev'] = 2\n",
    "d['cwen'] = 4\n",
    "for k, v in d.items():\n",
    "    print(k, v)\n",
    "print(d.items())\n",
    "print(type(d.items()))"
   ]
  },
  {
   "cell_type": "code",
   "execution_count": 19,
   "metadata": {},
   "outputs": [
    {
     "name": "stdout",
     "output_type": "stream",
     "text": [
      "True\n",
      "True\n"
     ]
    }
   ],
   "source": [
    "#tuples compares as per the decimal point.. it checks the 1st digit first then if it is false then goes for others\n",
    "\n",
    "t1 = (1, 9, 9)\n",
    "t2 = (2, 0, 1)\n",
    "print(t1 < t2)\n",
    "ts1 = ('Jones', 'Sally')\n",
    "ts2 = ('Adams', 'Sam')\n",
    "print(ts1 > ts2)"
   ]
  },
  {
   "cell_type": "code",
   "execution_count": 31,
   "metadata": {},
   "outputs": [
    {
     "name": "stdout",
     "output_type": "stream",
     "text": [
      "[('a', 2), ('b', 1), ('c', 22)]\n",
      "a 2\n",
      "b 1\n",
      "c 22\n"
     ]
    }
   ],
   "source": [
    "#list of tuples to sort\n",
    "d = {'a' : 2, 'c' : 22, 'b' : 1}\n",
    "#print(d.items())\n",
    "#print(sorted(d.items()))\n",
    "t = sorted(d.items()) #sorts key wise\n",
    "print(t)\n",
    "for k, v in t:\n",
    "    print(k, v)"
   ]
  },
  {
   "cell_type": "code",
   "execution_count": 30,
   "metadata": {},
   "outputs": [
    {
     "name": "stdout",
     "output_type": "stream",
     "text": [
      "[(10, 'a'), (1, 'b'), (22, 'c')]\n",
      "[(1, 'b'), (10, 'a'), (22, 'c')]\n"
     ]
    }
   ],
   "source": [
    "#sort by value\n",
    "c = {'a' : 10, 'b' : 1, 'c' : 22}\n",
    "tmp = list()\n",
    "for k, v in c.items():\n",
    "    tmp.append((v, k)) #list of tuples\n",
    "print(tmp)\n",
    "tmp = sorted(tmp, reverse = False)\n",
    "print(tmp)\n"
   ]
  },
  {
   "cell_type": "code",
   "execution_count": 39,
   "metadata": {},
   "outputs": [
    {
     "name": "stdout",
     "output_type": "stream",
     "text": [
      "Arise 1\n",
      "But 1\n",
      "It 1\n",
      "Juliet 1\n",
      "Who 1\n",
      "already 1\n",
      "breaks 1\n",
      "east 1\n",
      "envious 1\n",
      "fair 1\n"
     ]
    }
   ],
   "source": [
    "#top 10 words\n",
    "fhand = open('romeo.txt')\n",
    "counts = dict()\n",
    "\n",
    "for line in fhand:\n",
    "    words = line.split()\n",
    "    for word in words:\n",
    "        counts[word] = counts.get(word, 0) + 1\n",
    "#print(counts)\n",
    "lst = list()\n",
    "for key, value in counts.items():\n",
    "    newtup = (value, key)\n",
    "    lst.append(newtup)\n",
    "#print(lst)\n",
    "lst = sorted(lst, reverse = False)\n",
    "\n",
    "for val, k in lst[:10]:\n",
    "    print(k, val)"
   ]
  },
  {
   "cell_type": "code",
   "execution_count": 41,
   "metadata": {},
   "outputs": [
    {
     "name": "stdout",
     "output_type": "stream",
     "text": [
      "[(1, 'b'), (10, 'a'), (22, 'c')]\n",
      "[(1, 'b'), (10, 'a'), (22, 'c')]\n"
     ]
    }
   ],
   "source": [
    "#shorter version\n",
    "c = {'a' : 10, 'b' : 1, 'c' : 22}\n",
    "print(sorted((v, k) for k, v in c.items())) #list comprehension\n",
    "print(sorted([(v, k) for k, v in c.items()])) #even sorter version"
   ]
  },
  {
   "cell_type": "code",
   "execution_count": 42,
   "metadata": {},
   "outputs": [
    {
     "name": "stdout",
     "output_type": "stream",
     "text": [
      "4\n"
     ]
    }
   ],
   "source": [
    "x, y = 3, 4\n",
    "print(y)"
   ]
  },
  {
   "cell_type": "code",
   "execution_count": 53,
   "metadata": {},
   "outputs": [
    {
     "name": "stdout",
     "output_type": "stream",
     "text": [
      "[3, 2, 1, 4]\n",
      "None\n",
      "[4, 3, 2, 1]\n"
     ]
    }
   ],
   "source": [
    "data = [3, 2, 1, 4]\n",
    "print(data)\n",
    "print(data.sort(reverse = True))\n",
    "print(data)"
   ]
  },
  {
   "cell_type": "code",
   "execution_count": null,
   "metadata": {},
   "outputs": [],
   "source": []
  }
 ],
 "metadata": {
  "kernelspec": {
   "display_name": "Python 3",
   "language": "python",
   "name": "python3"
  },
  "language_info": {
   "codemirror_mode": {
    "name": "ipython",
    "version": 3
   },
   "file_extension": ".py",
   "mimetype": "text/x-python",
   "name": "python",
   "nbconvert_exporter": "python",
   "pygments_lexer": "ipython3",
   "version": "3.7.1"
  }
 },
 "nbformat": 4,
 "nbformat_minor": 2
}
