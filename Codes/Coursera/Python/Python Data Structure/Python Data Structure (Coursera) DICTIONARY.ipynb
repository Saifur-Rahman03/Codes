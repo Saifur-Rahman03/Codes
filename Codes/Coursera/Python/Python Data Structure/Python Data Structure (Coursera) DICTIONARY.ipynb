{
 "cells": [
  {
   "cell_type": "code",
   "execution_count": 1,
   "metadata": {},
   "outputs": [],
   "source": [
    "#Dictionary = a bag of values each with it owns label, it has no order, it has a pair of key : value\n",
    "#Associative Arrays - php/ perl\n",
    "#map or hashmap - java\n",
    "#property bag - c#/ .net"
   ]
  },
  {
   "cell_type": "code",
   "execution_count": 4,
   "metadata": {},
   "outputs": [
    {
     "name": "stdout",
     "output_type": "stream",
     "text": [
      "{'money': 12, 'tissue': 75, 'candy': 3}\n",
      "3\n",
      "{'money': 12, 'tissue': 75, 'candy': 5}\n"
     ]
    }
   ],
   "source": [
    "purse = dict()\n",
    "purse['money'] = 12\n",
    "purse['tissue'] = 75\n",
    "purse['candy'] = 3\n",
    "print(purse)\n",
    "print(purse['candy'])\n",
    "purse['candy'] = purse['candy'] + 2\n",
    "print(purse)"
   ]
  },
  {
   "cell_type": "code",
   "execution_count": 6,
   "metadata": {},
   "outputs": [
    {
     "name": "stdout",
     "output_type": "stream",
     "text": [
      "{'csev': 1, 'cwen': 1}\n",
      "{'csev': 1, 'cwen': 2}\n"
     ]
    }
   ],
   "source": [
    "ccc = dict()\n",
    "ccc['csev'] = 1\n",
    "ccc['cwen'] = 1\n",
    "print(ccc)\n",
    "ccc['cwen'] = ccc['cwen'] + 1\n",
    "print(ccc)"
   ]
  },
  {
   "cell_type": "code",
   "execution_count": 16,
   "metadata": {},
   "outputs": [
    {
     "name": "stdout",
     "output_type": "stream",
     "text": [
      "{'csev': 2, 'cwen': 2, 'zqian': 1}\n",
      "2\n",
      "2\n",
      "2\n",
      "1\n",
      "2\n"
     ]
    }
   ],
   "source": [
    "counts = dict()\n",
    "names = ['csev', 'cwen', 'csev', 'zqian', 'cwen']\n",
    "\n",
    "for name in names:\n",
    "    if name not in counts:\n",
    "        counts[name] = 1\n",
    "    else:\n",
    "        counts[name] = counts[name] + 1\n",
    "print(counts)"
   ]
  },
  {
   "cell_type": "code",
   "execution_count": 21,
   "metadata": {},
   "outputs": [
    {
     "name": "stdout",
     "output_type": "stream",
     "text": [
      "2\n",
      "2\n",
      "1\n"
     ]
    }
   ],
   "source": [
    "#getMethod() implementation\n",
    "for name in counts:\n",
    "    if name in counts:\n",
    "        x = counts[name]\n",
    "    else:\n",
    "        x = 0\n",
    "    print(x)"
   ]
  },
  {
   "cell_type": "code",
   "execution_count": 18,
   "metadata": {},
   "outputs": [
    {
     "name": "stdout",
     "output_type": "stream",
     "text": [
      "2\n",
      "2\n",
      "1\n"
     ]
    }
   ],
   "source": [
    "#getMethod() = dict.get(name, returnValue)\n",
    "for name in counts:\n",
    "    x = counts.get(name, 0)\n",
    "    print(x)\n",
    "    "
   ]
  },
  {
   "cell_type": "code",
   "execution_count": 22,
   "metadata": {},
   "outputs": [
    {
     "name": "stdout",
     "output_type": "stream",
     "text": [
      "{'csev': 2, 'cwen': 2, 'zqian': 1}\n"
     ]
    }
   ],
   "source": [
    "counts = dict()\n",
    "names = ['csev', 'cwen', 'csev', 'zqian', 'cwen']\n",
    "for name in names:\n",
    "    counts[name] = counts.get(name, 0) + 1\n",
    "print(counts)"
   ]
  },
  {
   "cell_type": "code",
   "execution_count": 24,
   "metadata": {},
   "outputs": [
    {
     "name": "stdout",
     "output_type": "stream",
     "text": [
      "Enter a line of text: i love you supti and i am sorry\n",
      "['i', 'love', 'you', 'supti', 'and', 'i', 'am', 'sorry']\n",
      "{'i': 2, 'love': 1, 'you': 1, 'supti': 1, 'and': 1, 'am': 1, 'sorry': 1}\n"
     ]
    }
   ],
   "source": [
    "counts = dict()\n",
    "line = input('Enter a line of text: ')\n",
    "\n",
    "words = line.split()\n",
    "print(words)\n",
    "\n",
    "for word in words:\n",
    "    counts[word] = counts.get(word, 0) + 1\n",
    "print(counts)"
   ]
  },
  {
   "cell_type": "code",
   "execution_count": 30,
   "metadata": {},
   "outputs": [
    {
     "name": "stdout",
     "output_type": "stream",
     "text": [
      "['chuck', 'fred', 'jan']\n",
      "dict_keys(['chuck', 'fred', 'jan'])\n",
      "dict_values([1, 42, 100])\n",
      "dict_items([('chuck', 1), ('fred', 42), ('jan', 100)])\n"
     ]
    }
   ],
   "source": [
    "jjj = { 'chuck' : 1, 'fred' : 42,  'jan' : 100 }\n",
    "print(list(jjj))\n",
    "print(jjj.keys())\n",
    "print(jjj.values())\n",
    "print(jjj.items())"
   ]
  },
  {
   "cell_type": "code",
   "execution_count": 32,
   "metadata": {},
   "outputs": [
    {
     "name": "stdout",
     "output_type": "stream",
     "text": [
      "chuck 1\n",
      "fred 42\n",
      "jan 100\n"
     ]
    }
   ],
   "source": [
    "for aaa,bbb in jjj.items():\n",
    "    print(aaa, bbb)"
   ]
  },
  {
   "cell_type": "code",
   "execution_count": 35,
   "metadata": {},
   "outputs": [
    {
     "name": "stdout",
     "output_type": "stream",
     "text": [
      "Enter File name: romeo.txt\n",
      "is 3\n"
     ]
    }
   ],
   "source": [
    "fname = input('Enter File name: ')\n",
    "fhand = open(fname)\n",
    "\n",
    "counts = dict()\n",
    "for line in fhand:\n",
    "    words = line.split()\n",
    "    for word in words:\n",
    "        counts[word] = counts.get(word, 0) + 1\n",
    "bigWord = None\n",
    "bigCount = None\n",
    "for word, count in counts.items():\n",
    "    if bigCount is None or count > bigCount:\n",
    "        bigWord = word\n",
    "        bigCount = count\n",
    "print(bigWord, bigCount)"
   ]
  },
  {
   "cell_type": "code",
   "execution_count": 36,
   "metadata": {},
   "outputs": [
    {
     "name": "stdout",
     "output_type": "stream",
     "text": [
      "-1\n"
     ]
    }
   ],
   "source": [
    "stuff = dict()\n",
    "print(stuff.get('candy', -1))"
   ]
  },
  {
   "cell_type": "code",
   "execution_count": 37,
   "metadata": {},
   "outputs": [
    {
     "name": "stdout",
     "output_type": "stream",
     "text": [
      "chuck\n",
      "fred\n",
      "jan\n"
     ]
    }
   ],
   "source": [
    "jjj = { 'chuck' : 1, 'fred' : 42,  'jan' : 100 }\n",
    "for y in jjj:\n",
    "    print(y)"
   ]
  },
  {
   "cell_type": "code",
   "execution_count": 1,
   "metadata": {},
   "outputs": [
    {
     "name": "stdout",
     "output_type": "stream",
     "text": [
      "Enter file:fdsjf\n"
     ]
    },
    {
     "ename": "FileNotFoundError",
     "evalue": "[Errno 2] No such file or directory: 'fdsjf'",
     "output_type": "error",
     "traceback": [
      "\u001b[1;31m---------------------------------------------------------------------------\u001b[0m",
      "\u001b[1;31mFileNotFoundError\u001b[0m                         Traceback (most recent call last)",
      "\u001b[1;32m<ipython-input-1-fb00cf7e9dc8>\u001b[0m in \u001b[0;36m<module>\u001b[1;34m\u001b[0m\n\u001b[0;32m      2\u001b[0m \u001b[0mname\u001b[0m \u001b[1;33m=\u001b[0m \u001b[0minput\u001b[0m\u001b[1;33m(\u001b[0m\u001b[1;34m\"Enter file:\"\u001b[0m\u001b[1;33m)\u001b[0m\u001b[1;33m\u001b[0m\u001b[1;33m\u001b[0m\u001b[0m\n\u001b[0;32m      3\u001b[0m \u001b[1;32mif\u001b[0m \u001b[0mlen\u001b[0m\u001b[1;33m(\u001b[0m\u001b[0mname\u001b[0m\u001b[1;33m)\u001b[0m \u001b[1;33m<\u001b[0m \u001b[1;36m1\u001b[0m \u001b[1;33m:\u001b[0m \u001b[0mname\u001b[0m \u001b[1;33m=\u001b[0m \u001b[1;34m\"mbox-short.txt\"\u001b[0m\u001b[1;33m\u001b[0m\u001b[1;33m\u001b[0m\u001b[0m\n\u001b[1;32m----> 4\u001b[1;33m \u001b[0mhandle\u001b[0m \u001b[1;33m=\u001b[0m \u001b[0mopen\u001b[0m\u001b[1;33m(\u001b[0m\u001b[0mname\u001b[0m\u001b[1;33m)\u001b[0m\u001b[1;33m\u001b[0m\u001b[1;33m\u001b[0m\u001b[0m\n\u001b[0m\u001b[0;32m      5\u001b[0m \u001b[1;33m\u001b[0m\u001b[0m\n\u001b[0;32m      6\u001b[0m \u001b[0mcounts\u001b[0m \u001b[1;33m=\u001b[0m \u001b[0mdict\u001b[0m\u001b[1;33m(\u001b[0m\u001b[1;33m)\u001b[0m\u001b[1;33m\u001b[0m\u001b[1;33m\u001b[0m\u001b[0m\n",
      "\u001b[1;31mFileNotFoundError\u001b[0m: [Errno 2] No such file or directory: 'fdsjf'"
     ]
    }
   ],
   "source": [
    "#Assignment 9.4\n",
    "name = input(\"Enter file:\")\n",
    "if len(name) < 1 : name = \"mbox-short.txt\"\n",
    "handle = open(name)\n",
    "\n",
    "counts = dict()\n",
    "\n",
    "for line in handle:\n",
    "    line = line.rstrip()\n",
    "    if not line.startswith('From '): continue\n",
    "    words = line.split()\n",
    "    counts[words[1]] = counts.get(words[1], 0) + 1\n",
    "\n",
    "bigWord = None\n",
    "bigCount = None\n",
    "\n",
    "for word, count in counts.items():\n",
    "    if bigCount == None or count > bigCount:\n",
    "        bigWord = word\n",
    "        bigCount = count\n",
    "\n",
    "print(bigWord, bigCount)"
   ]
  },
  {
   "cell_type": "code",
   "execution_count": 11,
   "metadata": {},
   "outputs": [
    {
     "name": "stdout",
     "output_type": "stream",
     "text": [
      "Enter file name:  \n",
      "the clown ran after the car and the car ran into the tent and the tent fell down on the clown and the car\n",
      "['the', 'clown', 'ran', 'after', 'the', 'car', 'and', 'the', 'car', 'ran', 'into', 'the', 'tent', 'and', 'the', 'tent', 'fell', 'down', 'on', 'the', 'clown', 'and', 'the', 'car']\n",
      "the 7\n",
      "clown 2\n",
      "ran 2\n",
      "after 1\n",
      "car 3\n",
      "and 3\n",
      "into 1\n",
      "tent 2\n",
      "fell 1\n",
      "down 1\n",
      "on 1\n",
      "the 7\n"
     ]
    }
   ],
   "source": [
    "#exercise\n",
    "fname = input('Enter file name: ')\n",
    "if len(fname) <= 1 : fname = 'clown.txt'\n",
    "fhand = open(fname)\n",
    "\n",
    "di = dict()\n",
    "for line in fhand:\n",
    "    #line = line.rstrip()\n",
    "    print(line)\n",
    "    words = line.split()\n",
    "    print(words)\n",
    "    for word in words:\n",
    "\n",
    "        di[word] = di.get(word, 0) + 1 #two portion in downside describes this single line \n",
    "        '''        oldCount = di.get(word, 0)\n",
    "        print(word, 'old', oldCount)\n",
    "        newCount = oldCount + 1\n",
    "        di[w] = newCount\n",
    "        print(word, 'new', newCount)\n",
    "        '''         \n",
    "        '''\n",
    "        if word in di:\n",
    "            di[word] = di[word] + 1\n",
    "        else:\n",
    "            di[word] = 1'''\n",
    "            #print('***NEW***')\n",
    "        #print(word, di[word])\n",
    "        \n",
    "largest = -1\n",
    "theWord = None\n",
    "for k, v in di.items():\n",
    "    print(k, v)\n",
    "    if v > largest :\n",
    "        largest = v\n",
    "        theWord = k\n",
    "print(theWord, largest)"
   ]
  },
  {
   "cell_type": "code",
   "execution_count": null,
   "metadata": {},
   "outputs": [],
   "source": []
  },
  {
   "cell_type": "code",
   "execution_count": null,
   "metadata": {},
   "outputs": [],
   "source": []
  }
 ],
 "metadata": {
  "kernelspec": {
   "display_name": "Python 3",
   "language": "python",
   "name": "python3"
  },
  "language_info": {
   "codemirror_mode": {
    "name": "ipython",
    "version": 3
   },
   "file_extension": ".py",
   "mimetype": "text/x-python",
   "name": "python",
   "nbconvert_exporter": "python",
   "pygments_lexer": "ipython3",
   "version": "3.7.1"
  }
 },
 "nbformat": 4,
 "nbformat_minor": 2
}
