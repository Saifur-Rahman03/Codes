{
 "cells": [
  {
   "cell_type": "code",
   "execution_count": null,
   "metadata": {},
   "outputs": [],
   "source": [
    "#API = application prorgramming interface\n",
    "#google geocoding api\n",
    "\n",
    "#searching this to a browser: http://maps.googleapis.com/maps/api/geocode/json?address=Ann+Arbor%2C+MI\n",
    "#geocoding is converting a address into a map like latitute and longtitude\n",
    "#it's actually 'Ann Arbor, MI'\n",
    "# ' ' = '+', ',' = '%2C'\n",
    "#though I don't have a billing account so I can't access apis"
   ]
  }
 ],
 "metadata": {
  "kernelspec": {
   "display_name": "Python 3",
   "language": "python",
   "name": "python3"
  },
  "language_info": {
   "codemirror_mode": {
    "name": "ipython",
    "version": 3
   },
   "file_extension": ".py",
   "mimetype": "text/x-python",
   "name": "python",
   "nbconvert_exporter": "python",
   "pygments_lexer": "ipython3",
   "version": "3.7.1"
  }
 },
 "nbformat": 4,
 "nbformat_minor": 2
}
