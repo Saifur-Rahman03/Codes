{
 "cells": [
  {
   "cell_type": "code",
   "execution_count": 1,
   "metadata": {},
   "outputs": [
    {
     "data": {
      "text/plain": [
       "'for going data from one application to another and across networks there are two commonly used formulas:\\nXML, JSON\\n\\npreviously data was sent like serialization and deserialization.. and these are xml, jsonx\\n'"
      ]
     },
     "execution_count": 1,
     "metadata": {},
     "output_type": "execute_result"
    }
   ],
   "source": [
    "'''for going data from one application to another and across networks there are two commonly used formulas:\n",
    "XML, JSON\n",
    "\n",
    "previously data was sent like serialization and deserialization.. and these are xml, jsonx\n",
    "'''"
   ]
  },
  {
   "cell_type": "code",
   "execution_count": 2,
   "metadata": {},
   "outputs": [],
   "source": [
    "#xml = extensible markup language\n",
    "#two types of elements.. simple and complex\n",
    "#simple elements are single elements\n",
    "#and other elements which have more than 1 simple or complex elements are complex elements\n",
    "#primary purpose is share structure data "
   ]
  },
  {
   "cell_type": "code",
   "execution_count": null,
   "metadata": {},
   "outputs": [],
   "source": [
    "#xml schema is a legal format of xml\n",
    "#if a particular piece of xml meets the specification of Schema then that is called to be validate\n",
    "#xml schema contract also a xml\n",
    "#xml schema from w3c is called XSD"
   ]
  }
 ],
 "metadata": {
  "kernelspec": {
   "display_name": "Python 3",
   "language": "python",
   "name": "python3"
  },
  "language_info": {
   "codemirror_mode": {
    "name": "ipython",
    "version": 3
   },
   "file_extension": ".py",
   "mimetype": "text/x-python",
   "name": "python",
   "nbconvert_exporter": "python",
   "pygments_lexer": "ipython3",
   "version": "3.7.1"
  }
 },
 "nbformat": 4,
 "nbformat_minor": 2
}
