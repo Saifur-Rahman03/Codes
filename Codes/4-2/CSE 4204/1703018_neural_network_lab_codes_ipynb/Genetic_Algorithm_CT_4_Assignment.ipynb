{
  "nbformat": 4,
  "nbformat_minor": 0,
  "metadata": {
    "colab": {
      "provenance": []
    },
    "kernelspec": {
      "name": "python3",
      "display_name": "Python 3"
    },
    "language_info": {
      "name": "python"
    }
  },
  "cells": [
    {
      "cell_type": "markdown",
      "source": [
        "Find out the minimum number with Genetic Algorithm.\n",
        "\n",
        "---\n",
        "\n",
        "\n",
        "Write a program of Genetic Algorithm to find out the bit sets that can optimize the\n",
        "search of minimum number. At first, define the fitness function or objective function\n",
        "to find out the minimum number. Use the basic genetic operators such as reproduction\n",
        "or selection, crossover and mutation to optimize the searching criteria. \n",
        "\n",
        "You have to select the cromozom (string) with minimum 20 genes (bits) and 30 populations. You\n",
        "may use the number of generations for the breaking condition.\n",
        "\n",
        " Your program should\n",
        "report the followings:\n",
        "\n",
        "\n",
        "*   Initial random strings and fitness function\n",
        "*   Output of reproduction, crossover and mutation for each generation\n",
        "*   Calculate the efficiency of each generation\n"
      ],
      "metadata": {
        "id": "8mSHB4HrAEaU"
      }
    },
    {
      "cell_type": "code",
      "execution_count": null,
      "metadata": {
        "id": "zA4lpS1e_-gj"
      },
      "outputs": [],
      "source": [
        "import random"
      ]
    },
    {
      "cell_type": "code",
      "source": [
        "# Genetic Algorithm parameters\n",
        "chromosome_length = 20\n",
        "population_size = 30\n",
        "num_generations = 5"
      ],
      "metadata": {
        "id": "ZvRvy2ePA1VA"
      },
      "execution_count": null,
      "outputs": []
    },
    {
      "cell_type": "markdown",
      "source": [
        "Fitness Function"
      ],
      "metadata": {
        "id": "WmuHWdFfBB0x"
      }
    },
    {
      "cell_type": "code",
      "source": [
        "def fitness_function(chromosome):\n",
        "    decimal_value = int(chromosome, 2)  # Convert binary string to decimal\n",
        "    return decimal_value"
      ],
      "metadata": {
        "id": "wQ0X2TSZA68u"
      },
      "execution_count": null,
      "outputs": []
    },
    {
      "cell_type": "markdown",
      "source": [
        "Generate Initial Population"
      ],
      "metadata": {
        "id": "w-kATYo3BMJT"
      }
    },
    {
      "cell_type": "code",
      "source": [
        "def generate_population():\n",
        "    population = []\n",
        "    for _ in range(population_size):\n",
        "        chromosome = ''.join(random.choice(['0', '1']) for _ in range(chromosome_length)) # generate random chromosome\n",
        "        population.append(chromosome)\n",
        "    return population"
      ],
      "metadata": {
        "id": "nnGKbMsrBD4v"
      },
      "execution_count": null,
      "outputs": []
    },
    {
      "cell_type": "markdown",
      "source": [
        "Roulette Wheel Selection"
      ],
      "metadata": {
        "id": "CAe2UxFbBUNM"
      }
    },
    {
      "cell_type": "code",
      "source": [
        "def selection(population):\n",
        "    total_fitness = sum(fitness_function(chromosome) for chromosome in population)\n",
        "    probabilities = [fitness_function(chromosome) / total_fitness for chromosome in population]\n",
        "    selected = random.choices(population, probabilities, k=2) # select 2 chromosome randomly by using probabilities\n",
        "    return selected[0], selected[1]"
      ],
      "metadata": {
        "id": "y1jUTTtiBQ3i"
      },
      "execution_count": null,
      "outputs": []
    },
    {
      "cell_type": "markdown",
      "source": [
        "Single-Point Crossover"
      ],
      "metadata": {
        "id": "rSfMl4lwBX6v"
      }
    },
    {
      "cell_type": "code",
      "source": [
        "def crossover(parent1, parent2):\n",
        "    crossover_point = random.randint(1, chromosome_length - 1)\n",
        "    child1 = parent1[:crossover_point] + parent2[crossover_point:]\n",
        "    child2 = parent2[:crossover_point] + parent1[crossover_point:]\n",
        "    return child1, child2"
      ],
      "metadata": {
        "id": "-UXCIMx8BXOv"
      },
      "execution_count": null,
      "outputs": []
    },
    {
      "cell_type": "markdown",
      "source": [
        "Bit Flip Mutation"
      ],
      "metadata": {
        "id": "QvcLjXvBBi2D"
      }
    },
    {
      "cell_type": "code",
      "source": [
        "def mutation(chromosome, mutation_rate):\n",
        "    mutated_chromosome = ''\n",
        "    for bit in chromosome:\n",
        "        if random.random() < mutation_rate:\n",
        "            mutated_chromosome += '0' if bit == '1' else '1' # inverted\n",
        "        else:\n",
        "            mutated_chromosome += bit # unchanged\n",
        "    return mutated_chromosome"
      ],
      "metadata": {
        "id": "yOCv1s14Bcll"
      },
      "execution_count": null,
      "outputs": []
    },
    {
      "cell_type": "markdown",
      "source": [
        "Each Generation Efficiency Calculation"
      ],
      "metadata": {
        "id": "JkPsVfrzBn1H"
      }
    },
    {
      "cell_type": "code",
      "source": [
        "def calculate_efficiency(population):\n",
        "    return min(fitness_function(chromosome) for chromosome in population)"
      ],
      "metadata": {
        "id": "q1lMCuZ2Bkkv"
      },
      "execution_count": null,
      "outputs": []
    },
    {
      "cell_type": "markdown",
      "source": [
        "Genetic Algorithm"
      ],
      "metadata": {
        "id": "VgPwwJ0pBzSE"
      }
    },
    {
      "cell_type": "code",
      "source": [
        "def genetic_algorithm():\n",
        "\n",
        "    # generate random population\n",
        "    population = generate_population()\n",
        "    print(\"Initial Population:\")\n",
        "\n",
        "    # print population with fitness values\n",
        "    for chromosome in population:\n",
        "        print(chromosome, fitness_function(chromosome))\n",
        "    print()\n",
        "    \n",
        "    minimum_number = float('inf')\n",
        "    best_chromosome = None\n",
        "\n",
        "    for generation in range(num_generations):\n",
        "        new_population = []\n",
        "\n",
        "        for _ in range(population_size // 2): # no of parent pair\n",
        "            parent1, parent2 = selection(population) # selection\n",
        "            child1, child2 = crossover(parent1, parent2) # crossover\n",
        "            child1 = mutation(child1, mutation_rate=0.01) # mutation\n",
        "            child2 = mutation(child2, mutation_rate=0.01) # mutation\n",
        "            new_population.extend([child1, child2])\n",
        "\n",
        "        population = new_population\n",
        "\n",
        "        print(\"Generation\", generation + 1)\n",
        "        for chromosome in population:\n",
        "            fitness = fitness_function(chromosome)\n",
        "            print(chromosome, fitness) # fitness value\n",
        "            if fitness < minimum_number:\n",
        "                minimum_number = fitness\n",
        "                best_chromosome = chromosome\n",
        "\n",
        "        print(\"Efficiency:\", calculate_efficiency(population)) # efficiency of current generation\n",
        "        print()\n",
        "        \n",
        "    print(\"Minimum Number:\", minimum_number)\n",
        "    print(\"Best Chromosome:\", best_chromosome)\n"
      ],
      "metadata": {
        "id": "IZkLTf2OBr-g"
      },
      "execution_count": null,
      "outputs": []
    },
    {
      "cell_type": "code",
      "source": [
        "genetic_algorithm()"
      ],
      "metadata": {
        "colab": {
          "base_uri": "https://localhost:8080/"
        },
        "id": "VFrf_XH2Bnd1",
        "outputId": "d9821bb6-9bbb-4e80-d5de-56a9d12c5482"
      },
      "execution_count": null,
      "outputs": [
        {
          "output_type": "stream",
          "name": "stdout",
          "text": [
            "Initial Population:\n",
            "01001011110010101101 310445\n",
            "10101011000100010010 700690\n",
            "11111100001110110010 1033138\n",
            "01101101001110110100 447412\n",
            "11000111111111001000 819144\n",
            "11110111000110010101 1012117\n",
            "11000000010011110000 787696\n",
            "11111110101111110110 1043446\n",
            "11100111110110111010 949690\n",
            "00010011001001101110 78446\n",
            "10000011001111000001 537537\n",
            "01001000100110100100 297380\n",
            "00000001100001111100 6268\n",
            "11111110100011111000 1042680\n",
            "11001111000111110111 848375\n",
            "11011001011110111110 890814\n",
            "10010101110000111111 613439\n",
            "10011110011010110110 648886\n",
            "00010100001011100011 82659\n",
            "11110010011010111101 992957\n",
            "11100111011101100101 948069\n",
            "00010011110110111101 81341\n",
            "10101000000001001010 688202\n",
            "10100111101010011010 686746\n",
            "11011111010010111001 914617\n",
            "10100110110010000101 683141\n",
            "10001011111110101100 573356\n",
            "00110011000111011110 209374\n",
            "01010110011111101001 354281\n",
            "01110100111010110100 478900\n",
            "\n",
            "Generation 1\n",
            "11100111110010101101 949421\n",
            "01001010011101100101 304997\n",
            "10000011111111101001 540649\n",
            "01010110011110101100 354220\n",
            "01111110101101110101 519029\n",
            "11110111000110010110 1012118\n",
            "11001111100011111000 850168\n",
            "11111110000111110111 1040887\n",
            "11000000010011110000 787696\n",
            "10101000000001001010 688202\n",
            "10001110101111110110 584694\n",
            "11111011111110101100 1032108\n",
            "10010101110000111010 613434\n",
            "10100111101010011111 686751\n",
            "11011001000111110111 889335\n",
            "11001111011110111110 849854\n",
            "11111111000010111001 1044665\n",
            "11011110001111110110 910326\n",
            "11011111010010011010 914586\n",
            "10100111101010111001 686777\n",
            "11111101001110110100 1037236\n",
            "01100111000110010101 422293\n",
            "01010110011110101100 354220\n",
            "10001011111111101001 573417\n",
            "11100111010111110111 947703\n",
            "11001111001101100101 848741\n",
            "11000000011111101001 788457\n",
            "01010110000011110000 352496\n",
            "11100111000111110111 946679\n",
            "11001111110110111010 851386\n",
            "Efficiency: 304997\n",
            "\n",
            "Generation 2\n",
            "11111101001110101100 1037228\n",
            "01010110011110110100 354228\n",
            "11000000010011110000 787696\n",
            "11000000010011110000 787696\n",
            "11000111000010010110 815254\n",
            "11111111011110111110 1046462\n",
            "01111011111110101100 507820\n",
            "11111110101101110101 1043317\n",
            "11000000011111110000 788464\n",
            "11000000010011111001 787705\n",
            "11001111001101100101 848741\n",
            "01001010011001100101 304741\n",
            "11110111000110010110 1012118\n",
            "10001110101111110110 584694\n",
            "11110111110110111010 1015226\n",
            "11001111000110010110 848278\n",
            "11000000000011111000 786680\n",
            "11001111111111101001 851945\n",
            "11100111010111110111 947703\n",
            "11100111000111110111 946679\n",
            "01100111011101100001 423777\n",
            "01001010010110010101 304533\n",
            "10001110101111110111 584695\n",
            "11111110000111110110 1040886\n",
            "10101110000111110111 713207\n",
            "11110111101010011111 1014431\n",
            "11000000010010101101 787629\n",
            "11100111111111101001 950249\n",
            "11111111000010111001 1044665\n",
            "10001011111111101001 573417\n",
            "Efficiency: 304533\n",
            "\n",
            "Generation 3\n",
            "11110111101110101100 1014700\n",
            "11111101001010011111 1036959\n",
            "01111011111110100001 507809\n",
            "01100111010101101100 423276\n",
            "11111111011010011111 1046175\n",
            "11110111101110111110 1014718\n",
            "11110111000110010110 1012118\n",
            "00000000000011011000 216\n",
            "11001111000110010111 848279\n",
            "11000000010011111000 787704\n",
            "11111110100110010110 1042838\n",
            "11001111001101110101 848757\n",
            "01111011111110101001 507817\n",
            "10001011111111101100 573420\n",
            "10101110000111110110 713206\n",
            "11000111000010010111 815255\n",
            "11001111001101010110 848726\n",
            "11001111000110100101 848293\n",
            "11000001110110111010 794042\n",
            "11110110010011111001 1008889\n",
            "11100010101101110101 928629\n",
            "11111000010011110000 1017072\n",
            "11001001010011111001 824569\n",
            "11000111111111101001 819177\n",
            "11001110010011110000 845040\n",
            "01000001111111101001 270313\n",
            "11000000000111110111 786935\n",
            "11100111010011111000 947448\n",
            "11100011000111111001 930297\n",
            "10001011101111100111 572391\n",
            "Efficiency: 216\n",
            "\n",
            "Generation 4\n",
            "01000001111111101111 270319\n",
            "11111101001010011001 1036953\n",
            "11110111101110110111 1014711\n",
            "11000111000010011110 815262\n",
            "11111111011010111111 1046207\n",
            "11110111101110101100 1014700\n",
            "11110110010011111001 1008889\n",
            "11111101001010011111 1036959\n",
            "01110111101110101100 490412\n",
            "11111011111110101001 1032105\n",
            "11101110100110010110 977302\n",
            "11111111000110010111 1044887\n",
            "11000000010010010110 787606\n",
            "11110111000111111000 1012216\n",
            "11110000000111100111 983527\n",
            "11000111101110111110 818110\n",
            "11111100100110010110 1034646\n",
            "11111111001010011111 1045151\n",
            "11110110010011110101 1008885\n",
            "11100010101101111001 928633\n",
            "11100010101101110101 928629\n",
            "11100010101101110101 928629\n",
            "01000011111111101100 278508\n",
            "10001001111111101001 565225\n",
            "11000000000111110110 786934\n",
            "11000001110110111011 794043\n",
            "11111101000110100101 1036709\n",
            "11001111101011011111 850655\n",
            "11000111000011110111 815351\n",
            "11000000000110010111 786839\n",
            "Efficiency: 270319\n",
            "\n",
            "Generation 5\n",
            "11100010101101110101 928629\n",
            "11111101000110100101 1036709\n",
            "11110110010011110111 1008887\n",
            "11110111101110111001 1014713\n",
            "11000001010110111011 791995\n",
            "11000001110110011011 794011\n",
            "11100010101101111001 928633\n",
            "11000000010010010110 787606\n",
            "11111101101110101001 1039273\n",
            "11111011110110010110 1031574\n",
            "11000111001101111001 815993\n",
            "11100010100010011110 927902\n",
            "11110000000111101110 983534\n",
            "11101110100110010111 977303\n",
            "11100010101101110001 928625\n",
            "11110110010011111101 1008893\n",
            "11001111101011011111 850655\n",
            "11000011110110111011 802235\n",
            "11111111101110101100 1047468\n",
            "11110100100110010110 1001878\n",
            "11111110100110010111 1042839\n",
            "11111111000110010110 1044886\n",
            "11100000000110010111 917911\n",
            "11011011111110101001 901033\n",
            "11111101000110100100 1036708\n",
            "11101110100110010111 977303\n",
            "11111101000110010110 1036694\n",
            "11101110100110100101 977317\n",
            "11111111000111111000 1044984\n",
            "11110111000111111000 1012216\n",
            "Efficiency: 787606\n",
            "\n",
            "Minimum Number: 216\n",
            "Best Chromosome: 00000000000011011000\n"
          ]
        }
      ]
    },
    {
      "cell_type": "code",
      "source": [],
      "metadata": {
        "id": "NYJyr2msB6da"
      },
      "execution_count": null,
      "outputs": []
    },
    {
      "cell_type": "code",
      "source": [],
      "metadata": {
        "id": "0lytSzLgLqwu"
      },
      "execution_count": null,
      "outputs": []
    }
  ]
}