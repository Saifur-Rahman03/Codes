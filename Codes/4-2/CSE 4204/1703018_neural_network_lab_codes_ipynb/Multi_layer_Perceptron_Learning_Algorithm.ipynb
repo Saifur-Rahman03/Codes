{
  "nbformat": 4,
  "nbformat_minor": 0,
  "metadata": {
    "colab": {
      "provenance": []
    },
    "kernelspec": {
      "name": "python3",
      "display_name": "Python 3"
    },
    "language_info": {
      "name": "python"
    }
  },
  "cells": [
    {
      "cell_type": "code",
      "execution_count": null,
      "metadata": {
        "id": "JCuImk-T48TY"
      },
      "outputs": [],
      "source": [
        "import pandas as pd\n",
        "import random\n",
        "import math\n",
        "import numpy as np"
      ]
    },
    {
      "cell_type": "markdown",
      "source": [
        "# Input Data"
      ],
      "metadata": {
        "id": "rhdwFvaK5QfR"
      }
    },
    {
      "cell_type": "code",
      "source": [
        "# Input\n",
        "x1 = [0, 1, 0, 1, 0, 1, 0, 1, 0, 1, 0, 1, 0, 1, 0, 1, 0, 1, 0, 1, 0, 1, 0, 1, 0, 1, 0, 1, 0, 1, 0, 1]\n",
        "x2 = [0, 0, 1, 1, 0, 0, 1, 1, 0, 0, 1, 1, 0, 0, 1, 1, 0, 0, 1, 1, 0, 0, 1, 1, 0, 0, 1, 1, 0, 0, 1, 1]\n",
        "x3 = [0, 0, 0, 0, 1, 1, 1, 1, 0, 0, 0, 0, 1, 1, 1, 1, 0, 0, 0, 0, 1, 1, 1, 1, 0, 0, 0, 0, 1, 1, 1, 1]\n",
        "x4 = [0, 0, 0, 0, 0, 0, 0, 0, 1, 1, 1, 1, 1, 1, 1, 1, 0, 0, 0, 0, 0, 0, 0, 0, 1, 1, 1, 1, 1, 1, 1, 1]\n",
        "x5 = [0, 0, 0, 0, 0, 0, 0, 0, 0, 0, 0, 0, 0, 0, 0, 0, 1, 1, 1, 1, 1, 1, 1, 1, 1, 1, 1, 1, 1, 1, 1, 1]\n",
        "\n",
        "# Output\n",
        "y = [0, 0, 0, 0, 1, 1, 1, 1, 2, 2, 2, 2, 1, 1, 1, 1, 2, 2, 2, 2, 0, 0, 0, 0, 2, 2, 2, 2, 1, 1, 1, 1]\n"
      ],
      "metadata": {
        "id": "h8Iy1JKezYeT"
      },
      "execution_count": null,
      "outputs": []
    },
    {
      "cell_type": "code",
      "source": [
        "df = pd.DataFrame(list(zip(x5, x4, x3, x2, x1, y)), columns = ['x5', 'x4', 'x3', 'x2', 'x1', 'y'])\n",
        "data = df.values.tolist()\n",
        "print(data)"
      ],
      "metadata": {
        "colab": {
          "base_uri": "https://localhost:8080/"
        },
        "id": "kSWhqdXURlEx",
        "outputId": "67ab2fe4-32f6-4cf9-a851-30f191ce6df2"
      },
      "execution_count": null,
      "outputs": [
        {
          "output_type": "stream",
          "name": "stdout",
          "text": [
            "[[0, 0, 0, 0, 0, 0], [0, 0, 0, 0, 1, 0], [0, 0, 0, 1, 0, 0], [0, 0, 0, 1, 1, 0], [0, 0, 1, 0, 0, 1], [0, 0, 1, 0, 1, 1], [0, 0, 1, 1, 0, 1], [0, 0, 1, 1, 1, 1], [0, 1, 0, 0, 0, 2], [0, 1, 0, 0, 1, 2], [0, 1, 0, 1, 0, 2], [0, 1, 0, 1, 1, 2], [0, 1, 1, 0, 0, 1], [0, 1, 1, 0, 1, 1], [0, 1, 1, 1, 0, 1], [0, 1, 1, 1, 1, 1], [1, 0, 0, 0, 0, 2], [1, 0, 0, 0, 1, 2], [1, 0, 0, 1, 0, 2], [1, 0, 0, 1, 1, 2], [1, 0, 1, 0, 0, 0], [1, 0, 1, 0, 1, 0], [1, 0, 1, 1, 0, 0], [1, 0, 1, 1, 1, 0], [1, 1, 0, 0, 0, 2], [1, 1, 0, 0, 1, 2], [1, 1, 0, 1, 0, 2], [1, 1, 0, 1, 1, 2], [1, 1, 1, 0, 0, 1], [1, 1, 1, 0, 1, 1], [1, 1, 1, 1, 0, 1], [1, 1, 1, 1, 1, 1]]\n"
          ]
        }
      ]
    },
    {
      "cell_type": "code",
      "source": [
        "num_rows = len(data)\n",
        "num_cols = len(data[0]) - 1\n",
        "num_unique_values = len(set(y))\n",
        "print(\"Number of persons:\", num_rows)\n",
        "print(\"Number of features:\", num_cols)\n",
        "print(\"Number of classes:\", num_unique_values)"
      ],
      "metadata": {
        "colab": {
          "base_uri": "https://localhost:8080/"
        },
        "id": "O3D2Igy3ixTo",
        "outputId": "a3514b5a-94a4-4c52-9748-d9a638990e78"
      },
      "execution_count": null,
      "outputs": [
        {
          "output_type": "stream",
          "name": "stdout",
          "text": [
            "Number of persons: 32\n",
            "Number of features: 5\n",
            "Number of classes: 3\n"
          ]
        }
      ]
    },
    {
      "cell_type": "markdown",
      "source": [
        "Neural Network Definition"
      ],
      "metadata": {
        "id": "oTmSnUoL_sjG"
      }
    },
    {
      "cell_type": "code",
      "source": [
        "# input node = 5\n",
        "inp = 5\n",
        "hid = 2 # hidden node = 2\n",
        "out = 3 # output node = 3 : no of classes = 5 - 8\n",
        "\n",
        "k1 = 1\n",
        "k2 = 1\n",
        "N1 = 1\n",
        "N2 = 1"
      ],
      "metadata": {
        "id": "vqZSIHVN5RwH"
      },
      "execution_count": null,
      "outputs": []
    },
    {
      "cell_type": "markdown",
      "source": [
        "Thresholding functions"
      ],
      "metadata": {
        "id": "lRKJ-9zV9k4h"
      }
    },
    {
      "cell_type": "code",
      "source": [
        "uh = [0.4, 0.3] # thresholding function\n",
        "uo = [0.1, 0.3, 0.2] # thresholding function"
      ],
      "metadata": {
        "id": "SlIrDfGb9kCO"
      },
      "execution_count": null,
      "outputs": []
    },
    {
      "cell_type": "markdown",
      "source": [
        "Weights"
      ],
      "metadata": {
        "id": "4gPwEG3N9oXB"
      }
    },
    {
      "cell_type": "markdown",
      "source": [
        "Wij"
      ],
      "metadata": {
        "id": "XMDA0Kl8DR0g"
      }
    },
    {
      "cell_type": "code",
      "source": [
        "rows, cols = (inp, hid) # input 5, hidden 2\n",
        "w1 = [[0] * cols] * rows\n",
        "for i in range(0, rows):\n",
        "  for j in range(0, cols):\n",
        "    w1[i][j] = round(random.uniform(0, 1), 2)\n",
        "print(w1)"
      ],
      "metadata": {
        "colab": {
          "base_uri": "https://localhost:8080/"
        },
        "id": "HGsg6ANW9nnq",
        "outputId": "52b8b922-6a87-432c-9301-66f017a778c7"
      },
      "execution_count": null,
      "outputs": [
        {
          "output_type": "stream",
          "name": "stdout",
          "text": [
            "[[0.9, 0.45], [0.9, 0.45], [0.9, 0.45], [0.9, 0.45], [0.9, 0.45]]\n"
          ]
        }
      ]
    },
    {
      "cell_type": "markdown",
      "source": [
        "Wjk"
      ],
      "metadata": {
        "id": "Bddac1LSDXq0"
      }
    },
    {
      "cell_type": "code",
      "source": [
        "rows, cols = (hid, out) # hidden 2, output 3\n",
        "w2 = [[0] * cols] * rows\n",
        "for i in range(0, rows):\n",
        "  for j in range(0, cols):\n",
        "    w2[i][j] = round(random.uniform(0, 1), 2)\n",
        "print(w2)"
      ],
      "metadata": {
        "colab": {
          "base_uri": "https://localhost:8080/"
        },
        "id": "xBi1DG2F-14h",
        "outputId": "ac7ddb15-6811-4757-f0d7-0e619fc8d0f2"
      },
      "execution_count": null,
      "outputs": [
        {
          "output_type": "stream",
          "name": "stdout",
          "text": [
            "[[0.38, 0.49, 0.94], [0.38, 0.49, 0.94]]\n"
          ]
        }
      ]
    },
    {
      "cell_type": "markdown",
      "source": [
        "# Functions"
      ],
      "metadata": {
        "id": "yvNX_2PgEbER"
      }
    },
    {
      "cell_type": "code",
      "source": [
        "def initialization():\n",
        "  rows, cols = (inp, hid) # input 5, hidden 2\n",
        "  for j in range(0, cols):\n",
        "      uh[j] = round(random.uniform(0, 1), 2)\n",
        "  w1 = [[0] * cols] * rows\n",
        "  for i in range(0, rows):\n",
        "    for j in range(0, cols):\n",
        "      w1[i][j] = round(random.uniform(0, 1), 2)\n",
        "  #print(w1)\n",
        "  rows, cols = (hid, out) # hidden 2, output 3\n",
        "  for j in range(0, cols):\n",
        "      uo[j] = round(random.uniform(0, 1), 2)\n",
        "  w2 = [[0] * cols] * rows\n",
        "  for i in range(0, rows):\n",
        "    for j in range(0, cols):\n",
        "      w2[i][j] = round(random.uniform(0, 1), 2)\n",
        "  #print(w2)\n",
        "  return w1, w2, uh, uo"
      ],
      "metadata": {
        "id": "BAQAAUhpTqtf"
      },
      "execution_count": null,
      "outputs": []
    },
    {
      "cell_type": "code",
      "source": [
        "def outputCalculation1(layer1, layer2, input, thres, weight, k):\n",
        "  rows, cols = (layer1, layer2)\n",
        "  net = [0] * cols\n",
        "  sop = 0\n",
        "  for j in range(0, cols):\n",
        "    sop = 0\n",
        "    for i in range(len(input) - 1):\n",
        "      sop = sop + weight[i][j] * input[i]\n",
        "    net[j] = sop\n",
        "\n",
        "  activ = [0] * cols\n",
        "  for j in range(0, cols):\n",
        "    activ[j] = net[j] + thres[j]\n",
        "\n",
        "  Output = [0] * cols\n",
        "  k = 1 # spread factors\n",
        "  for j in range(0, cols):\n",
        "    Output[j] = 1 / ( 1 + math.exp(-1 * k * activ[j]))\n",
        "\n",
        "  return Output"
      ],
      "metadata": {
        "id": "3MZ0scHNtM57"
      },
      "execution_count": null,
      "outputs": []
    },
    {
      "cell_type": "code",
      "source": [
        "def outputCalculation2(layer1, layer2, input, thres, weight, k):\n",
        "  rows, cols = (layer1, layer2)\n",
        "  net = [0] * cols\n",
        "  sop = 0\n",
        "  for j in range(0, cols):\n",
        "    sop = 0\n",
        "    for i in range(0, rows):\n",
        "      sop = sop + weight[i][j] * input[i]\n",
        "    net[j] = sop\n",
        "\n",
        "  activ = [0] * cols\n",
        "  for j in range(0, cols):\n",
        "    activ[j] = net[j] + thres[j]\n",
        "\n",
        "  Output = [0] * cols\n",
        "  k = 1 # spread factors\n",
        "  for j in range(0, cols):\n",
        "    Output[j] = 1 / ( 1 + math.exp(-1 * k * activ[j]))\n",
        "\n",
        "  return Output"
      ],
      "metadata": {
        "id": "s9il1XJChW5a"
      },
      "execution_count": null,
      "outputs": []
    },
    {
      "cell_type": "code",
      "source": [
        "def adjustOutputWeights(layer1, layer2, Output1, Output2, error, Weight, N, k):\n",
        "  rows, cols = (layer1, layer2)\n",
        "  delW = [[0] * cols] * rows\n",
        "  for j in range(0, rows):\n",
        "    for k in range(0, cols):\n",
        "      delW[j][k] = N2 * k2 * error[k] * Output1[j] * Output2[k] * (1 - Output2[k])\n",
        "      Weight[j][k] = Weight[j][k] + delW[j][k]\n",
        "  return Weight"
      ],
      "metadata": {
        "id": "tL7bZKGwKdoB"
      },
      "execution_count": null,
      "outputs": []
    },
    {
      "cell_type": "code",
      "source": [
        "def adjustOutputThres(layer, Output, error, thres, N, k):\n",
        "  cols = layer\n",
        "  delu = [0] * cols\n",
        "  for k in range(0, cols):\n",
        "    delu[k] = N2 * k2 * error[k] * Output[k] * (1 - Output[k])\n",
        "    thres[k] = thres[k] + delu[k]\n",
        "  return thres"
      ],
      "metadata": {
        "id": "WX6GIwnxNHEn"
      },
      "execution_count": null,
      "outputs": []
    },
    {
      "cell_type": "code",
      "source": [
        "def adjustHiddenWeights(layer1, layer2, layer3, Output, Output1, error, W1, W2, N, k):\n",
        "  rows, cols, hd = (layer1, layer2, layer3)\n",
        "  delW = [[0] * cols] * rows\n",
        "  for i in range(0, rows):\n",
        "    for j in range(0, cols):\n",
        "      sop = 0\n",
        "      for k in range(0, hd):\n",
        "        sop = sop + W2[j][k] * error[k]\n",
        "      delW[i][j] = N1 * k1  * O[i] * O1[j] * (1 - O1[j]) * sop\n",
        "      W1[i][j] = W1[i][j] + delW[i][j]\n",
        "  return W1"
      ],
      "metadata": {
        "id": "VJlqPpKnP23t"
      },
      "execution_count": null,
      "outputs": []
    },
    {
      "cell_type": "code",
      "source": [
        "def adjustHiddenThres(layer1, layer2, Output, error, W, thres, N, k):\n",
        "  rows, cols = (layer1, layer2)\n",
        "  delu = [0] * rows\n",
        "  for j in range(0, rows):\n",
        "    sop = 0\n",
        "    for k in range(0, cols):\n",
        "      sop = sop + W[j][k] * error[k]\n",
        "    delu[j] = N1 * k1  * Output[j]  * (1 - Output[j]) * sop\n",
        "    thres[j] = thres[j] + delu[j]\n",
        "  return thres"
      ],
      "metadata": {
        "id": "50gQYQQERFXm"
      },
      "execution_count": null,
      "outputs": []
    },
    {
      "cell_type": "code",
      "source": [
        "def sigma(layer, desired, actual):\n",
        "  sig = [0] * layer\n",
        "  for k in range(0, layer):\n",
        "    sig[k] = abs(desired[k] - actual[k])\n",
        "  return sig"
      ],
      "metadata": {
        "id": "lEZTGy0uVHRu"
      },
      "execution_count": null,
      "outputs": []
    },
    {
      "cell_type": "code",
      "source": [
        "def error(layer, desired, actual):\n",
        "  for k in range(0, layer):\n",
        "    sum = 0\n",
        "    sum = sum + abs((desired[k] - actual[k])**2)\n",
        "  Error = 0.5 * sum\n",
        "  return Error"
      ],
      "metadata": {
        "id": "CsEfCZ_Tfnmt"
      },
      "execution_count": null,
      "outputs": []
    },
    {
      "cell_type": "markdown",
      "source": [
        "# Algorithm"
      ],
      "metadata": {
        "id": "uJVOBlRiAcqR"
      }
    },
    {
      "cell_type": "markdown",
      "source": [
        "Initialization"
      ],
      "metadata": {
        "id": "d2jNLGDhUnWx"
      }
    },
    {
      "cell_type": "code",
      "source": [
        "w1, w2, uh, uo = initialization()"
      ],
      "metadata": {
        "id": "Odw_2DZIUnGC"
      },
      "execution_count": null,
      "outputs": []
    },
    {
      "cell_type": "markdown",
      "source": [
        "Train-Test Splitting"
      ],
      "metadata": {
        "id": "jManG3eDAZPp"
      }
    },
    {
      "cell_type": "code",
      "source": [
        "p = 40\n",
        "m = math.ceil((len(data) * p / 100))\n",
        "train = [row[:] for row in data[:m]]\n",
        "test = [row[:] for row in data[m:]]\n",
        "O = train[0]\n",
        "T = [row[5] for row in data[:m]]"
      ],
      "metadata": {
        "id": "5MjKBM9oiblk"
      },
      "execution_count": null,
      "outputs": []
    },
    {
      "cell_type": "markdown",
      "source": [
        "Input for hidden layer"
      ],
      "metadata": {
        "id": "IuOBjEkR_DBN"
      }
    },
    {
      "cell_type": "code",
      "source": [
        "O1 = outputCalculation1(inp, hid, O, uh, w1, k1)\n",
        "print(O1)"
      ],
      "metadata": {
        "colab": {
          "base_uri": "https://localhost:8080/"
        },
        "id": "Aqei06qQ_lJt",
        "outputId": "d3f6ac32-5793-49f7-ca29-3f877c6eedd2"
      },
      "execution_count": null,
      "outputs": [
        {
          "output_type": "stream",
          "name": "stdout",
          "text": [
            "[0.5374298453437496, 0.7310585786300049]\n"
          ]
        }
      ]
    },
    {
      "cell_type": "markdown",
      "source": [
        "Input for output layer"
      ],
      "metadata": {
        "id": "5Ap9QADaFSLR"
      }
    },
    {
      "cell_type": "code",
      "source": [
        "#O2 = [0] * out\n",
        "O2 = outputCalculation2(hid, out, O1, uo, w2, k2)\n",
        "print(O2)"
      ],
      "metadata": {
        "colab": {
          "base_uri": "https://localhost:8080/"
        },
        "id": "FC9tR8j4B29a",
        "outputId": "9ba6f3eb-d49d-4760-df49-4eea89e2d408"
      },
      "execution_count": null,
      "outputs": [
        {
          "output_type": "stream",
          "name": "stdout",
          "text": [
            "[0.7456838020538786, 0.6858394791939482, 0.7719956100248687]\n"
          ]
        }
      ]
    },
    {
      "cell_type": "markdown",
      "source": [
        "Error Calculation"
      ],
      "metadata": {
        "id": "ZZiRt_aGHBV2"
      }
    },
    {
      "cell_type": "code",
      "source": [
        "sig = sigma(out, T, O2)\n",
        "print(sig)"
      ],
      "metadata": {
        "colab": {
          "base_uri": "https://localhost:8080/"
        },
        "id": "WXyYcL0jFpbm",
        "outputId": "1f387ce1-3c5d-48ac-de79-1c13112b05f3"
      },
      "execution_count": null,
      "outputs": [
        {
          "output_type": "stream",
          "name": "stdout",
          "text": [
            "[0.7456838020538786, 0.6858394791939482, 0.7719956100248687]\n"
          ]
        }
      ]
    },
    {
      "cell_type": "markdown",
      "source": [
        "New Output Weights"
      ],
      "metadata": {
        "id": "LWStB50QNvJX"
      }
    },
    {
      "cell_type": "code",
      "source": [
        "w2 = adjustOutputWeights(hid, out, O1, O2, sig, w2, N2, k2)\n",
        "print(w2)"
      ],
      "metadata": {
        "colab": {
          "base_uri": "https://localhost:8080/"
        },
        "id": "C1Sb5NvLL9B7",
        "outputId": "6bb12137-3dcf-4205-a69e-577056a0e113"
      },
      "execution_count": null,
      "outputs": [
        {
          "output_type": "stream",
          "name": "stdout",
          "text": [
            "[[0.7593783187219999, 0.2274489786163142, 0.6923690859580727], [0.7593783187219999, 0.2274489786163142, 0.6923690859580727]]\n"
          ]
        }
      ]
    },
    {
      "cell_type": "markdown",
      "source": [
        "New Output Thresholds"
      ],
      "metadata": {
        "id": "8bRPyp4hNx0c"
      }
    },
    {
      "cell_type": "code",
      "source": [
        "uo = adjustOutputThres(out, O2, sig, uo, N2, k2)\n",
        "print(uo)"
      ],
      "metadata": {
        "colab": {
          "base_uri": "https://localhost:8080/"
        },
        "id": "w8zgwgeBM3Qn",
        "outputId": "132e8fbc-a6fa-473c-c1d1-22841a1bc7d6"
      },
      "execution_count": null,
      "outputs": [
        {
          "output_type": "stream",
          "name": "stdout",
          "text": [
            "[0.48141108056789905, 0.8777735035445562, 0.6958854229178516]\n"
          ]
        }
      ]
    },
    {
      "cell_type": "markdown",
      "source": [
        "New Hidden Weights"
      ],
      "metadata": {
        "id": "zMD5XJWHQm-u"
      }
    },
    {
      "cell_type": "code",
      "source": [
        "w1 = adjustHiddenWeights(inp, hid, out, O, O1, sig, w1, w2, N1, k1)\n",
        "print(w1)"
      ],
      "metadata": {
        "colab": {
          "base_uri": "https://localhost:8080/"
        },
        "id": "kg7rs47JPq6t",
        "outputId": "bcf0437d-e222-4489-93fc-9cc2cfb3656b"
      },
      "execution_count": null,
      "outputs": [
        {
          "output_type": "stream",
          "name": "stdout",
          "text": [
            "[[0.41, 0.96], [0.41, 0.96], [0.41, 0.96], [0.41, 0.96], [0.41, 0.96]]\n"
          ]
        }
      ]
    },
    {
      "cell_type": "markdown",
      "source": [
        "New Hidden Thresholds"
      ],
      "metadata": {
        "id": "HuGMqQXRQo4E"
      }
    },
    {
      "cell_type": "code",
      "source": [
        "uh = adjustHiddenThres(hid, out, O1, sig, w2, uh, N1, k1)\n",
        "print(uh)"
      ],
      "metadata": {
        "colab": {
          "base_uri": "https://localhost:8080/"
        },
        "id": "ps03ruOAQkY3",
        "outputId": "c27f2972-a01c-4e5f-925d-58b3487ff310"
      },
      "execution_count": null,
      "outputs": [
        {
          "output_type": "stream",
          "name": "stdout",
          "text": [
            "[0.4624281678963694, 1.247093127644216]\n"
          ]
        }
      ]
    },
    {
      "cell_type": "markdown",
      "source": [
        "Final Error"
      ],
      "metadata": {
        "id": "cCpzm3UrTQCb"
      }
    },
    {
      "cell_type": "code",
      "source": [
        "Error = error(out, T, O2)\n",
        "print(Error)"
      ],
      "metadata": {
        "colab": {
          "base_uri": "https://localhost:8080/"
        },
        "id": "4RqegI4YSSEJ",
        "outputId": "6fd194f4-1bdb-4735-f118-198ab274f17d"
      },
      "execution_count": null,
      "outputs": [
        {
          "output_type": "stream",
          "name": "stdout",
          "text": [
            "0.2979886109488346\n"
          ]
        }
      ]
    },
    {
      "cell_type": "markdown",
      "source": [
        "# Training & Testing"
      ],
      "metadata": {
        "id": "eXvii-EMWRzo"
      }
    },
    {
      "cell_type": "code",
      "source": [
        "train = []\n",
        "test = []\n",
        "P = [50, 60, 70, 80, 90] # training percentage"
      ],
      "metadata": {
        "id": "WqJTawOnTnCs"
      },
      "execution_count": null,
      "outputs": []
    },
    {
      "cell_type": "code",
      "source": [
        "print(\"Training(%)\\tAccuracy(%)\")\n",
        "print(\"---------------------------\")\n",
        "center = 7\n",
        "for p in P:\n",
        "\n",
        "# Training\n",
        "  m = math.ceil((len(data) * p / 100))\n",
        "  train = [row[:] for row in data[:m]]\n",
        "  test = [row[:] for row in data[m:]]\n",
        "  T = [row[5] for row in data[:m]]\n",
        "\n",
        "  while(i < m):\n",
        "    O = train[i]\n",
        "    \n",
        "    w1, w2, uh, uo = initialization()\n",
        "    O1 = outputCalculation1(inp, hid, O, uh, w1, k1)\n",
        "    O2 = outputCalculation2(hid, out, O1, uo, w2, k2)\n",
        "    sig = sigma(out, T, O2)\n",
        "    w2 = adjustOutputWeights(hid, out, O1, O2, sig, w2, N2, k2)\n",
        "    uo = adjustOutputThres(out, O2, sig, uo, N2, k2)\n",
        "    w1 = adjustHiddenWeights(inp, hid, out, O, O1, sig, w1, w2, N1, k1)\n",
        "    uh = adjustHiddenThres(hid, out, O1, sig, w2, uh, N1, k1)\n",
        "    E = error(out, T, O2)\n",
        "    \n",
        "    if(E < 0.33): \n",
        "        i = i + 1\n",
        "    else:\n",
        "        i = 0\n",
        "        continue\n",
        "# Testing\n",
        "  c = 0\n",
        "  for t in test:\n",
        "    O1 = outputCalculation1(inp, hid, t, uh, w1, k1)\n",
        "    O2 = outputCalculation2(hid, out, O1, uo, w2, k2)\n",
        "\n",
        "    if(t[-1]==np.round(O2[0])):\n",
        "          c = c + 1\n",
        "\n",
        "  print(str(p).center(center),'\\t', str(round(c/len(test)*100.0, 2)).center(center))        "
      ],
      "metadata": {
        "colab": {
          "base_uri": "https://localhost:8080/"
        },
        "id": "aVFAfXVvWfT9",
        "outputId": "127597a2-bb73-4922-8c63-0861d13a8996"
      },
      "execution_count": null,
      "outputs": [
        {
          "output_type": "stream",
          "name": "stdout",
          "text": [
            "Training(%)\tAccuracy(%)\n",
            "---------------------------\n",
            "   50   \t   25.0 \n",
            "   60   \t  33.33 \n",
            "   70   \t  44.44 \n",
            "   80   \t  66.67 \n",
            "   90   \t  100.0 \n"
          ]
        }
      ]
    },
    {
      "cell_type": "code",
      "source": [],
      "metadata": {
        "id": "mV8zdZZBAwrE"
      },
      "execution_count": null,
      "outputs": []
    }
  ]
}