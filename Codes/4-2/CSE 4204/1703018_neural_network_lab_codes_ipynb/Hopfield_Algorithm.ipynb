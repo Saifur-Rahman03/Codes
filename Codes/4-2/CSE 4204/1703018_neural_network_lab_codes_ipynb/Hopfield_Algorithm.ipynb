{
  "nbformat": 4,
  "nbformat_minor": 0,
  "metadata": {
    "colab": {
      "provenance": []
    },
    "kernelspec": {
      "name": "python3",
      "display_name": "Python 3"
    },
    "language_info": {
      "name": "python"
    }
  },
  "cells": [
    {
      "cell_type": "code",
      "execution_count": null,
      "metadata": {
        "id": "TSCK8_oWfCXQ"
      },
      "outputs": [],
      "source": [
        "import pandas as pd\n",
        "import random\n",
        "import math\n",
        "import numpy as np"
      ]
    },
    {
      "cell_type": "markdown",
      "source": [
        "# Input Data"
      ],
      "metadata": {
        "id": "LKtmnS45isPn"
      }
    },
    {
      "cell_type": "code",
      "source": [
        "(pattern, feat) = 24, 8\n",
        "data = np.random.choice([-1, 1], size=(pattern, feat))\n",
        "df = pd.DataFrame(data)\n",
        "#print(df.head())"
      ],
      "metadata": {
        "id": "oYHHOT1efNzb"
      },
      "execution_count": null,
      "outputs": []
    },
    {
      "cell_type": "code",
      "source": [
        "x = df.values.tolist()\n",
        "x = np.array(x)\n",
        "#print(x)"
      ],
      "metadata": {
        "id": "4hoY49krhKaD"
      },
      "execution_count": null,
      "outputs": []
    },
    {
      "cell_type": "markdown",
      "source": [
        "# Functions"
      ],
      "metadata": {
        "id": "dRcQtJDhuOKL"
      }
    },
    {
      "cell_type": "markdown",
      "source": [
        "Initialize weight matrix"
      ],
      "metadata": {
        "id": "AKESTj4nuQ0n"
      }
    },
    {
      "cell_type": "code",
      "source": [
        "def initialize_weight(feat, train):\n",
        "  rows, cols = (feat, feat)\n",
        "  w = np.zeros((rows, cols))\n",
        "  for i in range(0, rows):\n",
        "    for j in range(0, cols):\n",
        "      if i == j: \n",
        "        w[i][j] = 0\n",
        "      else:\n",
        "        w[i][j] = np.sum(train[:, i] * train[:, j])\n",
        "  return w"
      ],
      "metadata": {
        "id": "25H3Q3mVuQDu"
      },
      "execution_count": null,
      "outputs": []
    },
    {
      "cell_type": "markdown",
      "source": [
        "Match row"
      ],
      "metadata": {
        "id": "xINpm3wO0pmD"
      }
    },
    {
      "cell_type": "code",
      "source": [
        "def match_row(train, updated):\n",
        "  matched_row = None\n",
        "  i = 0\n",
        "  for row in train:\n",
        "      if np.array_equal(row, updated):\n",
        "          matched_row = row\n",
        "          break\n",
        "      i = i + 1\n",
        "  return i"
      ],
      "metadata": {
        "id": "Apay90090pEc"
      },
      "execution_count": null,
      "outputs": []
    },
    {
      "cell_type": "markdown",
      "source": [
        "Train-Test Splitting"
      ],
      "metadata": {
        "id": "nfW10tbNirWA"
      }
    },
    {
      "cell_type": "code",
      "source": [
        "def splitting(percentage, x):\n",
        "  m = math.ceil(len(x) * percentage / 100) # no of training examples\n",
        "  train = x[:m][:]\n",
        "  test = x[m:][:]\n",
        "  return train, test"
      ],
      "metadata": {
        "id": "BBZJOo7ziotG"
      },
      "execution_count": null,
      "outputs": []
    },
    {
      "cell_type": "markdown",
      "source": [
        "Pattern matching"
      ],
      "metadata": {
        "id": "EYIuWWVf3STg"
      }
    },
    {
      "cell_type": "code",
      "source": [
        "def matched_pattern(w, test):  \n",
        "  j = 0\n",
        "  matched = 0\n",
        "  updated = test[t]\n",
        "  while True:\n",
        "    prev_updated = updated\n",
        "    sum = np.sum(updated * w[j])\n",
        "    if sum > 0:\n",
        "      updated[j] = 1\n",
        "    elif sum < 0:\n",
        "      updated[j] = -1\n",
        "    j = j + 1\n",
        "    j = j % feat\n",
        "\n",
        "    if np.array_equal(prev_updated, updated):\n",
        "      matched = matched + 1\n",
        "    if matched >= 4:\n",
        "      break\n",
        "  return updated"
      ],
      "metadata": {
        "id": "HPXU0KMe3X6r"
      },
      "execution_count": null,
      "outputs": []
    },
    {
      "cell_type": "markdown",
      "source": [
        "# Examples"
      ],
      "metadata": {
        "id": "CkypxGn16O4u"
      }
    },
    {
      "cell_type": "code",
      "source": [
        "percentage = 80\n",
        "train, test = splitting(percentage, x)"
      ],
      "metadata": {
        "id": "QhaII9kr3Amu"
      },
      "execution_count": null,
      "outputs": []
    },
    {
      "cell_type": "code",
      "source": [
        "#print(\"Training Data\")\n",
        "#print(train)"
      ],
      "metadata": {
        "id": "AFTuvERAtQv2"
      },
      "execution_count": null,
      "outputs": []
    },
    {
      "cell_type": "code",
      "source": [
        "#print(\"Testing Data\")\n",
        "#print(test)"
      ],
      "metadata": {
        "id": "cTfUIyuUtTSs"
      },
      "execution_count": null,
      "outputs": []
    },
    {
      "cell_type": "code",
      "source": [
        "print(train[:, 0] * train[:, 1]) "
      ],
      "metadata": {
        "colab": {
          "base_uri": "https://localhost:8080/"
        },
        "id": "tjoHrqGJpF_m",
        "outputId": "288ddc2a-9ddd-48c9-bac9-32690e345235"
      },
      "execution_count": null,
      "outputs": [
        {
          "output_type": "stream",
          "name": "stdout",
          "text": [
            "[-1 -1 -1  1  1 -1  1  1 -1  1  1 -1  1  1  1  1  1  1 -1 -1]\n"
          ]
        }
      ]
    },
    {
      "cell_type": "code",
      "source": [
        "print(np.sum(train[:, 0] * train[:, 1])) "
      ],
      "metadata": {
        "colab": {
          "base_uri": "https://localhost:8080/"
        },
        "id": "BFtxMSCPtoqh",
        "outputId": "84de5681-b9ac-49ed-9496-cb577ffd928d"
      },
      "execution_count": null,
      "outputs": [
        {
          "output_type": "stream",
          "name": "stdout",
          "text": [
            "4\n"
          ]
        }
      ]
    },
    {
      "cell_type": "code",
      "source": [
        "w = initialize_weight(feat, train)"
      ],
      "metadata": {
        "id": "ISbOayWsjG0Z"
      },
      "execution_count": null,
      "outputs": []
    },
    {
      "cell_type": "code",
      "source": [
        "#print(w)"
      ],
      "metadata": {
        "id": "SVB3XpWBnNkz"
      },
      "execution_count": null,
      "outputs": []
    },
    {
      "cell_type": "markdown",
      "source": [
        "# Implementation"
      ],
      "metadata": {
        "id": "S1hb8NqB2qhM"
      }
    },
    {
      "cell_type": "code",
      "source": [
        "percentage = 60\n",
        "center = 10\n",
        "train, test = splitting(percentage, x)\n",
        "w = initialize_weight(feat, train)\n",
        "print('Test Index\\tConverged at Train Index')\n",
        "print('-------------------------------------')\n",
        "for t in range(0, len(test)):\n",
        "  updated = matched_pattern(w, test)\n",
        "  i = match_row(train, updated)\n",
        "  print(str(t).center(center), '\\t     ', str(i).center(center))"
      ],
      "metadata": {
        "colab": {
          "base_uri": "https://localhost:8080/"
        },
        "id": "td_fuS3wnjvf",
        "outputId": "15061376-0f4c-4f05-e85c-f2dfdb0f03c6"
      },
      "execution_count": null,
      "outputs": [
        {
          "output_type": "stream",
          "name": "stdout",
          "text": [
            "Test Index\tConverged at Train Index\n",
            "-------------------------------------\n",
            "    0      \t          15    \n",
            "    1      \t          15    \n",
            "    2      \t          15    \n",
            "    3      \t          12    \n",
            "    4      \t          15    \n",
            "    5      \t          15    \n",
            "    6      \t          7     \n",
            "    7      \t          15    \n",
            "    8      \t          12    \n"
          ]
        }
      ]
    },
    {
      "cell_type": "code",
      "source": [],
      "metadata": {
        "id": "PR-GjBbSvIqB"
      },
      "execution_count": null,
      "outputs": []
    }
  ]
}