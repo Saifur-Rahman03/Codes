{
  "nbformat": 4,
  "nbformat_minor": 0,
  "metadata": {
    "colab": {
      "provenance": []
    },
    "kernelspec": {
      "name": "python3",
      "display_name": "Python 3"
    },
    "language_info": {
      "name": "python"
    }
  },
  "cells": [
    {
      "cell_type": "code",
      "execution_count": null,
      "metadata": {
        "id": "iVlE-EzXnHDg"
      },
      "outputs": [],
      "source": [
        "import pandas as pd\n",
        "import random\n",
        "import math\n",
        "import numpy as np"
      ]
    },
    {
      "cell_type": "markdown",
      "source": [
        "# Input"
      ],
      "metadata": {
        "id": "-sSxqazOfLXa"
      }
    },
    {
      "cell_type": "markdown",
      "source": [
        "Input data"
      ],
      "metadata": {
        "id": "j7DIEzPJsXCV"
      }
    },
    {
      "cell_type": "code",
      "source": [
        "pattern = 100\n",
        "feat = 10\n",
        "def pattern_generation(pattern, feat):\n",
        "  x = []\n",
        "  for i in range(pattern):\n",
        "      example = [random.randint(0, 1) for j in range(feat)]\n",
        "      x.append(example)\n",
        "  return x"
      ],
      "metadata": {
        "id": "K586K9GwX7D2"
      },
      "execution_count": null,
      "outputs": []
    },
    {
      "cell_type": "code",
      "source": [
        "x = pattern_generation(pattern, feat)\n",
        "lr = 0.1 # learning rate\n",
        "num_neighborhood = 5 # neighborhood size\n",
        "print(x)\n",
        "print(len(x))"
      ],
      "metadata": {
        "colab": {
          "base_uri": "https://localhost:8080/"
        },
        "id": "jwxLWpGsnwy6",
        "outputId": "93664fea-b9de-456d-e843-791faa75ac43"
      },
      "execution_count": null,
      "outputs": [
        {
          "output_type": "stream",
          "name": "stdout",
          "text": [
            "[[0, 1, 0, 1, 1, 1, 1, 1, 0, 0], [0, 1, 0, 1, 0, 0, 1, 0, 0, 1], [1, 0, 1, 1, 0, 0, 1, 1, 0, 0], [0, 1, 0, 0, 0, 1, 1, 0, 1, 1], [1, 1, 0, 0, 1, 0, 0, 0, 0, 0], [0, 0, 1, 0, 1, 0, 0, 0, 0, 0], [1, 0, 1, 0, 1, 0, 0, 1, 1, 1], [1, 1, 0, 0, 0, 0, 1, 1, 0, 1], [0, 1, 0, 1, 1, 1, 1, 0, 0, 1], [0, 1, 0, 0, 0, 0, 0, 1, 1, 1], [0, 0, 0, 1, 1, 0, 0, 0, 0, 1], [1, 0, 1, 0, 0, 0, 1, 0, 0, 0], [0, 0, 0, 1, 1, 1, 1, 0, 1, 0], [0, 0, 1, 1, 1, 0, 0, 1, 0, 0], [0, 0, 1, 1, 0, 1, 1, 0, 1, 0], [0, 1, 0, 1, 1, 1, 1, 0, 0, 0], [1, 1, 0, 1, 0, 1, 0, 1, 1, 1], [0, 1, 0, 1, 0, 0, 0, 1, 1, 0], [0, 1, 1, 0, 0, 0, 1, 1, 1, 0], [1, 1, 0, 0, 0, 0, 1, 0, 1, 0], [0, 1, 1, 1, 0, 0, 0, 0, 1, 1], [0, 0, 1, 0, 0, 1, 0, 0, 1, 1], [0, 1, 1, 0, 0, 1, 1, 0, 1, 0], [0, 1, 1, 0, 1, 1, 0, 1, 1, 1], [0, 1, 0, 0, 1, 0, 1, 1, 1, 0], [1, 0, 1, 1, 0, 1, 1, 0, 1, 0], [0, 0, 0, 0, 0, 0, 0, 0, 0, 1], [0, 1, 0, 0, 0, 1, 0, 0, 1, 0], [1, 1, 1, 1, 1, 0, 0, 0, 0, 0], [0, 1, 1, 1, 0, 0, 1, 0, 1, 1], [0, 0, 0, 0, 1, 0, 1, 1, 0, 0], [1, 0, 0, 1, 0, 1, 1, 0, 1, 1], [1, 1, 1, 0, 1, 0, 1, 0, 0, 1], [1, 0, 0, 1, 0, 1, 0, 0, 0, 1], [1, 1, 0, 1, 0, 0, 1, 1, 1, 1], [0, 0, 0, 0, 0, 0, 0, 1, 1, 1], [0, 0, 0, 0, 1, 0, 1, 1, 1, 1], [0, 0, 0, 1, 0, 1, 1, 0, 0, 1], [1, 1, 1, 0, 1, 1, 0, 1, 0, 0], [0, 0, 0, 0, 0, 1, 0, 0, 0, 1], [1, 0, 0, 1, 0, 0, 0, 1, 1, 1], [1, 0, 0, 1, 1, 0, 0, 0, 1, 1], [0, 1, 1, 1, 1, 0, 1, 1, 1, 0], [1, 0, 1, 0, 1, 0, 1, 0, 0, 0], [1, 1, 0, 0, 1, 1, 0, 0, 1, 1], [1, 0, 1, 1, 1, 1, 0, 1, 1, 0], [0, 1, 1, 1, 0, 0, 0, 1, 0, 0], [0, 1, 0, 1, 0, 1, 1, 0, 0, 0], [1, 0, 0, 1, 0, 0, 0, 1, 0, 0], [1, 0, 1, 0, 0, 1, 0, 1, 0, 0], [0, 1, 1, 1, 1, 1, 0, 1, 0, 1], [1, 0, 1, 0, 1, 1, 1, 0, 1, 1], [0, 1, 1, 1, 0, 0, 0, 1, 1, 0], [0, 1, 1, 0, 0, 1, 1, 1, 1, 1], [0, 1, 1, 0, 1, 1, 1, 1, 0, 1], [0, 1, 0, 1, 1, 1, 0, 0, 0, 1], [1, 1, 1, 0, 1, 0, 1, 0, 1, 0], [1, 1, 0, 1, 1, 0, 1, 1, 0, 1], [0, 1, 0, 0, 0, 1, 1, 1, 0, 1], [0, 0, 1, 0, 0, 1, 1, 1, 1, 1], [1, 0, 0, 1, 1, 1, 0, 0, 1, 0], [1, 1, 0, 1, 1, 1, 0, 1, 0, 0], [1, 0, 0, 0, 0, 0, 1, 1, 0, 0], [0, 1, 1, 0, 1, 1, 1, 1, 1, 0], [1, 0, 1, 1, 1, 0, 1, 1, 1, 1], [0, 0, 0, 0, 0, 1, 1, 0, 1, 1], [0, 0, 1, 0, 1, 0, 0, 0, 0, 1], [1, 0, 1, 0, 1, 0, 0, 1, 1, 0], [0, 1, 1, 0, 0, 1, 1, 0, 1, 1], [1, 1, 0, 1, 0, 1, 0, 1, 1, 1], [1, 1, 1, 1, 1, 1, 1, 1, 1, 0], [0, 1, 1, 1, 1, 0, 1, 0, 1, 0], [0, 0, 0, 0, 1, 1, 0, 0, 1, 1], [1, 1, 1, 1, 0, 1, 1, 0, 1, 0], [0, 1, 0, 0, 0, 0, 0, 1, 0, 0], [0, 0, 0, 0, 1, 0, 1, 0, 1, 1], [0, 0, 0, 0, 1, 0, 1, 0, 1, 0], [1, 0, 0, 0, 0, 1, 0, 0, 0, 1], [0, 0, 0, 0, 1, 1, 1, 1, 0, 1], [0, 0, 1, 1, 0, 1, 0, 0, 1, 1], [0, 1, 0, 1, 0, 0, 1, 1, 0, 1], [0, 1, 0, 0, 1, 0, 0, 0, 0, 0], [0, 1, 0, 1, 0, 1, 1, 0, 1, 0], [0, 0, 0, 1, 1, 1, 1, 1, 1, 1], [1, 1, 0, 1, 0, 0, 1, 0, 0, 1], [1, 1, 0, 1, 0, 0, 1, 1, 0, 1], [1, 1, 1, 0, 0, 1, 0, 0, 1, 1], [1, 1, 1, 0, 1, 0, 1, 1, 1, 0], [1, 0, 0, 1, 1, 0, 1, 1, 0, 1], [1, 1, 0, 0, 0, 0, 0, 1, 1, 1], [1, 1, 0, 0, 1, 0, 0, 1, 1, 1], [0, 1, 0, 0, 0, 0, 1, 1, 0, 1], [0, 1, 1, 1, 0, 1, 1, 0, 1, 0], [0, 0, 0, 1, 0, 1, 0, 0, 1, 0], [0, 0, 0, 0, 1, 1, 0, 1, 1, 0], [1, 1, 1, 1, 1, 0, 0, 1, 1, 1], [1, 0, 1, 0, 1, 1, 1, 1, 0, 1], [0, 1, 1, 0, 1, 0, 1, 1, 0, 0], [0, 1, 0, 0, 0, 1, 0, 0, 1, 1], [0, 0, 1, 0, 1, 0, 1, 1, 0, 1]]\n",
            "100\n"
          ]
        }
      ]
    },
    {
      "cell_type": "markdown",
      "source": [
        "# Functions"
      ],
      "metadata": {
        "id": "jtaW8f4tfNo5"
      }
    },
    {
      "cell_type": "markdown",
      "source": [
        "Input weights"
      ],
      "metadata": {
        "id": "a8SahkbqsYov"
      }
    },
    {
      "cell_type": "code",
      "source": [
        "def initialize_weight():\n",
        "  rows, cols = (feat, pattern)\n",
        "  w = [[0] * cols] * rows\n",
        "  for i in range(0, rows):\n",
        "    for j in range(0, cols):\n",
        "      w[i][j] = round(random.uniform(0, 1), 2)\n",
        "  return w"
      ],
      "metadata": {
        "id": "uIrYWmjzordr"
      },
      "execution_count": null,
      "outputs": []
    },
    {
      "cell_type": "markdown",
      "source": [
        "Calculate distance"
      ],
      "metadata": {
        "id": "3kT4CxCFsamg"
      }
    },
    {
      "cell_type": "code",
      "source": [
        "def calculate_distance(x, w):\n",
        "  d = [0] * pattern\n",
        "  for j in range(0, pattern):\n",
        "    sum = 0\n",
        "    for i in range(0, feat):\n",
        "      sum = sum + (x[j][i] - w[i][j])**2\n",
        "    d[j] = sum\n",
        "  return d    "
      ],
      "metadata": {
        "id": "gcA8NeoQo0IS"
      },
      "execution_count": null,
      "outputs": []
    },
    {
      "cell_type": "markdown",
      "source": [
        "Calculate distance for new patterns"
      ],
      "metadata": {
        "id": "IT9UTwA-UB95"
      }
    },
    {
      "cell_type": "code",
      "source": [
        "def calculate_distance_new(p, w, new_pattern):\n",
        "  d = [0] * pattern\n",
        "  for j in range(0, pattern):\n",
        "    sum = 0\n",
        "    for i in range(0, feat):\n",
        "      sum = sum + (p[i] - w[i][j])**2\n",
        "    d[j] = sum\n",
        "  return d    "
      ],
      "metadata": {
        "id": "sxOxk63ZUBZh"
      },
      "execution_count": null,
      "outputs": []
    },
    {
      "cell_type": "markdown",
      "source": [
        "sorted distance"
      ],
      "metadata": {
        "id": "gtEHPCwYsdci"
      }
    },
    {
      "cell_type": "code",
      "source": [
        "def sort_distance(d):\n",
        "  sorted_d = sorted(enumerate(d), key=lambda x:x[1])\n",
        "  sorted_values = [x[1] for x in sorted_d]\n",
        "  sorted_indices = [x[0] for x in sorted_d]\n",
        "  return sorted_values, sorted_indices"
      ],
      "metadata": {
        "id": "GhoTKd9KqoGT"
      },
      "execution_count": null,
      "outputs": []
    },
    {
      "cell_type": "markdown",
      "source": [
        "Update weight"
      ],
      "metadata": {
        "id": "WIM-BIZes9JX"
      }
    },
    {
      "cell_type": "code",
      "source": [
        "def update_weight(w, num_neighborhood, sorted_indices):\n",
        "  for i in range(0, feat):\n",
        "    for j in range(0, int(num_neighborhood)):\n",
        "      k = sorted_indices[j]\n",
        "      w[i][k] = w[i][k] + lr * (x[j][i] - w[i][k])\n",
        "  return w"
      ],
      "metadata": {
        "id": "PlNiRU9KsukL"
      },
      "execution_count": null,
      "outputs": []
    },
    {
      "cell_type": "markdown",
      "source": [
        "Check for break condition"
      ],
      "metadata": {
        "id": "0NSLsEgNd2ke"
      }
    },
    {
      "cell_type": "code",
      "source": [
        "def break_loop_for_weight(w, prev_w):\n",
        "  dw = [[0] * pattern] * feat\n",
        "  for i in range(0, feat):\n",
        "    for j in range(0, pattern):\n",
        "      dw[i][j] = abs(w[i][j] - prev_w[i][j])\n",
        "  for i in range(0, feat):\n",
        "    for j in range(0, pattern):\n",
        "      if(dw[i][j] < 0.0001):\n",
        "        dw[i][j] = 0\n",
        "  sum = 0\n",
        "  for i in range(0, feat):\n",
        "    for j in range(0, pattern):\n",
        "      sum = sum + dw[i][j]\n",
        "  return sum"
      ],
      "metadata": {
        "id": "hlG05x49d7JL"
      },
      "execution_count": null,
      "outputs": []
    },
    {
      "cell_type": "markdown",
      "source": [
        "# Implementation"
      ],
      "metadata": {
        "id": "fLctLTbwfb7j"
      }
    },
    {
      "cell_type": "markdown",
      "source": [
        "Learning"
      ],
      "metadata": {
        "id": "7FVMCbWQxORe"
      }
    },
    {
      "cell_type": "code",
      "source": [
        "w = initialize_weight()\n",
        "while True:\n",
        "  d = calculate_distance(x, w)\n",
        "  prev_w = w.copy()\n",
        "  sorted_values, sorted_indices = sort_distance(d)\n",
        "  \n",
        "  num_neighborhood = num_neighborhood - lr * num_neighborhood\n",
        "  if(num_neighborhood <= 1):\n",
        "    break  \n",
        "  \n",
        "  w = update_weight(w, num_neighborhood, sorted_indices)\n",
        "  \n",
        "  sum = break_loop_for_weight(w, prev_w)\n",
        "  if sum == 0:  \n",
        "    break"
      ],
      "metadata": {
        "id": "BQBE9mM7t1s2"
      },
      "execution_count": null,
      "outputs": []
    },
    {
      "cell_type": "markdown",
      "source": [
        "Outsiders"
      ],
      "metadata": {
        "id": "MaviEYi0Z1Za"
      }
    },
    {
      "cell_type": "code",
      "source": [
        "new_pattern = 10\n",
        "y = pattern_generation(new_pattern, feat)\n",
        "print(y)\n",
        "print(len(y))"
      ],
      "metadata": {
        "colab": {
          "base_uri": "https://localhost:8080/"
        },
        "id": "0m5bE-UY1JQ0",
        "outputId": "e5efaa1a-da08-432f-e84b-5f233ac69fe4"
      },
      "execution_count": null,
      "outputs": [
        {
          "output_type": "stream",
          "name": "stdout",
          "text": [
            "[[0, 1, 0, 1, 0, 0, 1, 0, 1, 0], [0, 0, 1, 0, 0, 1, 1, 0, 0, 1], [0, 1, 1, 0, 1, 1, 0, 1, 1, 0], [0, 1, 1, 0, 1, 1, 0, 0, 1, 1], [0, 0, 1, 1, 0, 1, 1, 1, 1, 0], [0, 1, 0, 1, 1, 1, 1, 1, 1, 0], [1, 0, 1, 1, 1, 0, 1, 0, 0, 0], [1, 1, 1, 1, 1, 1, 0, 0, 1, 1], [1, 0, 1, 1, 0, 1, 1, 0, 1, 1], [0, 0, 0, 1, 0, 1, 1, 0, 1, 1]]\n",
            "10\n"
          ]
        }
      ]
    },
    {
      "cell_type": "markdown",
      "source": [
        "Similarity Checking"
      ],
      "metadata": {
        "id": "EZV2y8tMaTGX"
      }
    },
    {
      "cell_type": "code",
      "source": [
        "i = 0\n",
        "center = 10\n",
        "print(\"new pattern\\tsimilar with\")\n",
        "print(\"----------------------------\")\n",
        "for p in y:\n",
        "  i = i + 1\n",
        "  d_new = calculate_distance_new(p, w, new_pattern)\n",
        "  sorted_values, sorted_indices = sort_distance(d_new)\n",
        "  print(str(i).center(center),'\\t', str(sorted_indices[0] + 1).center(center))   "
      ],
      "metadata": {
        "colab": {
          "base_uri": "https://localhost:8080/"
        },
        "id": "1XSKfVt2SEU5",
        "outputId": "a09274fe-3a0e-4cba-b3a2-4368f056ef1b"
      },
      "execution_count": null,
      "outputs": [
        {
          "output_type": "stream",
          "name": "stdout",
          "text": [
            "new pattern\tsimilar with\n",
            "----------------------------\n",
            "    1      \t     66    \n",
            "    2      \t     66    \n",
            "    3      \t     60    \n",
            "    4      \t     60    \n",
            "    5      \t     60    \n",
            "    6      \t     77    \n",
            "    7      \t     47    \n",
            "    8      \t     1     \n",
            "    9      \t     77    \n",
            "    10     \t     47    \n"
          ]
        }
      ]
    },
    {
      "cell_type": "code",
      "source": [],
      "metadata": {
        "id": "2rKxTs08dYF1"
      },
      "execution_count": null,
      "outputs": []
    }
  ]
}