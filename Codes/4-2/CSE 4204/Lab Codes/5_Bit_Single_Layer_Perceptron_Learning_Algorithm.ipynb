{
  "nbformat": 4,
  "nbformat_minor": 0,
  "metadata": {
    "colab": {
      "provenance": []
    },
    "kernelspec": {
      "name": "python3",
      "display_name": "Python 3"
    },
    "language_info": {
      "name": "python"
    }
  },
  "cells": [
    {
      "cell_type": "markdown",
      "source": [
        "# Imports"
      ],
      "metadata": {
        "id": "MxlS9xivUjDm"
      }
    },
    {
      "cell_type": "code",
      "execution_count": null,
      "metadata": {
        "id": "uUGnCLSnQ7Ta"
      },
      "outputs": [],
      "source": [
        "import pandas as pd\n",
        "import math"
      ]
    },
    {
      "cell_type": "markdown",
      "source": [
        "# Function Definition"
      ],
      "metadata": {
        "id": "MXFoHueaw4Ke"
      }
    },
    {
      "cell_type": "markdown",
      "source": [
        "Accuracy Calculation"
      ],
      "metadata": {
        "id": "t6jOzUNLw8yi"
      }
    },
    {
      "cell_type": "code",
      "source": [
        "def accuracy(result, origin):\n",
        "  matched = 0\n",
        "  non_matched = 0\n",
        "  for i in range(0, len(result)):\n",
        "    if result[i] == origin[i]:\n",
        "      matched = matched + 1\n",
        "    else:\n",
        "      non_matched = non_matched + 1\n",
        "  acc = (matched / (matched + non_matched)) * 100\n",
        "  print('Accuracy: ', round(acc, 2), '%')"
      ],
      "metadata": {
        "id": "cWPoy2LRw-gq"
      },
      "execution_count": null,
      "outputs": []
    },
    {
      "cell_type": "markdown",
      "source": [
        "# Input Data"
      ],
      "metadata": {
        "id": "nVUt0IrkUlX_"
      }
    },
    {
      "cell_type": "code",
      "source": [
        "# input\n",
        "x1 = [0, 1, 0, 1, 0, 1, 0, 1, 0, 1, 0, 1, 0, 1, 0, 1, 0, 1, 0, 1, 0, 1, 0, 1, 0, 1, 0, 1, 0, 1, 0, 1]\n",
        "x2 = [0, 0, 1, 1, 0, 0, 1, 1, 0, 0, 1, 1, 0, 0, 1, 1, 0, 0, 1, 1, 0, 0, 1, 1, 0, 0, 1, 1, 0, 0, 1, 1]\n",
        "x3 = [0, 0, 0, 0, 1, 1, 1, 1, 0, 0, 0, 0, 1, 1, 1, 1, 0, 0, 0, 0, 1, 1, 1, 1, 0, 0, 0, 0, 1, 1, 1, 1]\n",
        "x4 = [0, 0, 0, 0, 0, 0, 0, 0, 1, 1, 1, 1, 1, 1, 1, 1, 0, 0, 0, 0, 0, 0, 0, 0, 1, 1, 1, 1, 1, 1, 1, 1]\n",
        "x5 = [0, 0, 0, 0, 0, 0, 0, 0, 0, 0, 0, 0, 0, 0, 0, 0, 1, 1, 1, 1, 1, 1, 1, 1, 1, 1, 1, 1, 1, 1, 1, 1]\n",
        "# weight\n",
        "w = [0.1, 0.3, 0.2, 0.3, 0.4]\n",
        "# output\n",
        "y = [0, 0, 0, 0, 0, 0, 0, 0, 0, 0, 0, 0, 0, 0, 0, 0, 1, 1, 1, 1, 1, 1, 1, 1, 1, 1, 1, 1, 1, 1, 1, 1]\n",
        "# thresholding function\n",
        "T = 0.5"
      ],
      "metadata": {
        "id": "vVdDsB0rUmn3"
      },
      "execution_count": null,
      "outputs": []
    },
    {
      "cell_type": "markdown",
      "source": [
        "Dataframe Definition"
      ],
      "metadata": {
        "id": "OwK4kqzOVKAL"
      }
    },
    {
      "cell_type": "code",
      "source": [
        "df = pd.DataFrame(list(zip(x5, x4, x3, x2, x1, y)), columns = ['x5', 'x4', 'x3', 'x2', 'x1', 'y'])\n",
        "test_df = df.copy() # copied dataframe for accuracy calculation\n",
        "df2 = df.copy()\n",
        "l = len(df)\n",
        "b = 5 # no of inputs/ index of class\n",
        "percentage = 60 # percentage of training data\n",
        "df"
      ],
      "metadata": {
        "colab": {
          "base_uri": "https://localhost:8080/",
          "height": 1000
        },
        "id": "d1n3yovuVJdd",
        "outputId": "96380738-81e4-4dca-c09c-c9a2a74142ec"
      },
      "execution_count": null,
      "outputs": [
        {
          "output_type": "execute_result",
          "data": {
            "text/plain": [
              "    x5  x4  x3  x2  x1  y\n",
              "0    0   0   0   0   0  0\n",
              "1    0   0   0   0   1  0\n",
              "2    0   0   0   1   0  0\n",
              "3    0   0   0   1   1  0\n",
              "4    0   0   1   0   0  0\n",
              "5    0   0   1   0   1  0\n",
              "6    0   0   1   1   0  0\n",
              "7    0   0   1   1   1  0\n",
              "8    0   1   0   0   0  0\n",
              "9    0   1   0   0   1  0\n",
              "10   0   1   0   1   0  0\n",
              "11   0   1   0   1   1  0\n",
              "12   0   1   1   0   0  0\n",
              "13   0   1   1   0   1  0\n",
              "14   0   1   1   1   0  0\n",
              "15   0   1   1   1   1  0\n",
              "16   1   0   0   0   0  1\n",
              "17   1   0   0   0   1  1\n",
              "18   1   0   0   1   0  1\n",
              "19   1   0   0   1   1  1\n",
              "20   1   0   1   0   0  1\n",
              "21   1   0   1   0   1  1\n",
              "22   1   0   1   1   0  1\n",
              "23   1   0   1   1   1  1\n",
              "24   1   1   0   0   0  1\n",
              "25   1   1   0   0   1  1\n",
              "26   1   1   0   1   0  1\n",
              "27   1   1   0   1   1  1\n",
              "28   1   1   1   0   0  1\n",
              "29   1   1   1   0   1  1\n",
              "30   1   1   1   1   0  1\n",
              "31   1   1   1   1   1  1"
            ],
            "text/html": [
              "\n",
              "  <div id=\"df-5371f8d9-e437-4027-a889-4a45e253385e\">\n",
              "    <div class=\"colab-df-container\">\n",
              "      <div>\n",
              "<style scoped>\n",
              "    .dataframe tbody tr th:only-of-type {\n",
              "        vertical-align: middle;\n",
              "    }\n",
              "\n",
              "    .dataframe tbody tr th {\n",
              "        vertical-align: top;\n",
              "    }\n",
              "\n",
              "    .dataframe thead th {\n",
              "        text-align: right;\n",
              "    }\n",
              "</style>\n",
              "<table border=\"1\" class=\"dataframe\">\n",
              "  <thead>\n",
              "    <tr style=\"text-align: right;\">\n",
              "      <th></th>\n",
              "      <th>x5</th>\n",
              "      <th>x4</th>\n",
              "      <th>x3</th>\n",
              "      <th>x2</th>\n",
              "      <th>x1</th>\n",
              "      <th>y</th>\n",
              "    </tr>\n",
              "  </thead>\n",
              "  <tbody>\n",
              "    <tr>\n",
              "      <th>0</th>\n",
              "      <td>0</td>\n",
              "      <td>0</td>\n",
              "      <td>0</td>\n",
              "      <td>0</td>\n",
              "      <td>0</td>\n",
              "      <td>0</td>\n",
              "    </tr>\n",
              "    <tr>\n",
              "      <th>1</th>\n",
              "      <td>0</td>\n",
              "      <td>0</td>\n",
              "      <td>0</td>\n",
              "      <td>0</td>\n",
              "      <td>1</td>\n",
              "      <td>0</td>\n",
              "    </tr>\n",
              "    <tr>\n",
              "      <th>2</th>\n",
              "      <td>0</td>\n",
              "      <td>0</td>\n",
              "      <td>0</td>\n",
              "      <td>1</td>\n",
              "      <td>0</td>\n",
              "      <td>0</td>\n",
              "    </tr>\n",
              "    <tr>\n",
              "      <th>3</th>\n",
              "      <td>0</td>\n",
              "      <td>0</td>\n",
              "      <td>0</td>\n",
              "      <td>1</td>\n",
              "      <td>1</td>\n",
              "      <td>0</td>\n",
              "    </tr>\n",
              "    <tr>\n",
              "      <th>4</th>\n",
              "      <td>0</td>\n",
              "      <td>0</td>\n",
              "      <td>1</td>\n",
              "      <td>0</td>\n",
              "      <td>0</td>\n",
              "      <td>0</td>\n",
              "    </tr>\n",
              "    <tr>\n",
              "      <th>5</th>\n",
              "      <td>0</td>\n",
              "      <td>0</td>\n",
              "      <td>1</td>\n",
              "      <td>0</td>\n",
              "      <td>1</td>\n",
              "      <td>0</td>\n",
              "    </tr>\n",
              "    <tr>\n",
              "      <th>6</th>\n",
              "      <td>0</td>\n",
              "      <td>0</td>\n",
              "      <td>1</td>\n",
              "      <td>1</td>\n",
              "      <td>0</td>\n",
              "      <td>0</td>\n",
              "    </tr>\n",
              "    <tr>\n",
              "      <th>7</th>\n",
              "      <td>0</td>\n",
              "      <td>0</td>\n",
              "      <td>1</td>\n",
              "      <td>1</td>\n",
              "      <td>1</td>\n",
              "      <td>0</td>\n",
              "    </tr>\n",
              "    <tr>\n",
              "      <th>8</th>\n",
              "      <td>0</td>\n",
              "      <td>1</td>\n",
              "      <td>0</td>\n",
              "      <td>0</td>\n",
              "      <td>0</td>\n",
              "      <td>0</td>\n",
              "    </tr>\n",
              "    <tr>\n",
              "      <th>9</th>\n",
              "      <td>0</td>\n",
              "      <td>1</td>\n",
              "      <td>0</td>\n",
              "      <td>0</td>\n",
              "      <td>1</td>\n",
              "      <td>0</td>\n",
              "    </tr>\n",
              "    <tr>\n",
              "      <th>10</th>\n",
              "      <td>0</td>\n",
              "      <td>1</td>\n",
              "      <td>0</td>\n",
              "      <td>1</td>\n",
              "      <td>0</td>\n",
              "      <td>0</td>\n",
              "    </tr>\n",
              "    <tr>\n",
              "      <th>11</th>\n",
              "      <td>0</td>\n",
              "      <td>1</td>\n",
              "      <td>0</td>\n",
              "      <td>1</td>\n",
              "      <td>1</td>\n",
              "      <td>0</td>\n",
              "    </tr>\n",
              "    <tr>\n",
              "      <th>12</th>\n",
              "      <td>0</td>\n",
              "      <td>1</td>\n",
              "      <td>1</td>\n",
              "      <td>0</td>\n",
              "      <td>0</td>\n",
              "      <td>0</td>\n",
              "    </tr>\n",
              "    <tr>\n",
              "      <th>13</th>\n",
              "      <td>0</td>\n",
              "      <td>1</td>\n",
              "      <td>1</td>\n",
              "      <td>0</td>\n",
              "      <td>1</td>\n",
              "      <td>0</td>\n",
              "    </tr>\n",
              "    <tr>\n",
              "      <th>14</th>\n",
              "      <td>0</td>\n",
              "      <td>1</td>\n",
              "      <td>1</td>\n",
              "      <td>1</td>\n",
              "      <td>0</td>\n",
              "      <td>0</td>\n",
              "    </tr>\n",
              "    <tr>\n",
              "      <th>15</th>\n",
              "      <td>0</td>\n",
              "      <td>1</td>\n",
              "      <td>1</td>\n",
              "      <td>1</td>\n",
              "      <td>1</td>\n",
              "      <td>0</td>\n",
              "    </tr>\n",
              "    <tr>\n",
              "      <th>16</th>\n",
              "      <td>1</td>\n",
              "      <td>0</td>\n",
              "      <td>0</td>\n",
              "      <td>0</td>\n",
              "      <td>0</td>\n",
              "      <td>1</td>\n",
              "    </tr>\n",
              "    <tr>\n",
              "      <th>17</th>\n",
              "      <td>1</td>\n",
              "      <td>0</td>\n",
              "      <td>0</td>\n",
              "      <td>0</td>\n",
              "      <td>1</td>\n",
              "      <td>1</td>\n",
              "    </tr>\n",
              "    <tr>\n",
              "      <th>18</th>\n",
              "      <td>1</td>\n",
              "      <td>0</td>\n",
              "      <td>0</td>\n",
              "      <td>1</td>\n",
              "      <td>0</td>\n",
              "      <td>1</td>\n",
              "    </tr>\n",
              "    <tr>\n",
              "      <th>19</th>\n",
              "      <td>1</td>\n",
              "      <td>0</td>\n",
              "      <td>0</td>\n",
              "      <td>1</td>\n",
              "      <td>1</td>\n",
              "      <td>1</td>\n",
              "    </tr>\n",
              "    <tr>\n",
              "      <th>20</th>\n",
              "      <td>1</td>\n",
              "      <td>0</td>\n",
              "      <td>1</td>\n",
              "      <td>0</td>\n",
              "      <td>0</td>\n",
              "      <td>1</td>\n",
              "    </tr>\n",
              "    <tr>\n",
              "      <th>21</th>\n",
              "      <td>1</td>\n",
              "      <td>0</td>\n",
              "      <td>1</td>\n",
              "      <td>0</td>\n",
              "      <td>1</td>\n",
              "      <td>1</td>\n",
              "    </tr>\n",
              "    <tr>\n",
              "      <th>22</th>\n",
              "      <td>1</td>\n",
              "      <td>0</td>\n",
              "      <td>1</td>\n",
              "      <td>1</td>\n",
              "      <td>0</td>\n",
              "      <td>1</td>\n",
              "    </tr>\n",
              "    <tr>\n",
              "      <th>23</th>\n",
              "      <td>1</td>\n",
              "      <td>0</td>\n",
              "      <td>1</td>\n",
              "      <td>1</td>\n",
              "      <td>1</td>\n",
              "      <td>1</td>\n",
              "    </tr>\n",
              "    <tr>\n",
              "      <th>24</th>\n",
              "      <td>1</td>\n",
              "      <td>1</td>\n",
              "      <td>0</td>\n",
              "      <td>0</td>\n",
              "      <td>0</td>\n",
              "      <td>1</td>\n",
              "    </tr>\n",
              "    <tr>\n",
              "      <th>25</th>\n",
              "      <td>1</td>\n",
              "      <td>1</td>\n",
              "      <td>0</td>\n",
              "      <td>0</td>\n",
              "      <td>1</td>\n",
              "      <td>1</td>\n",
              "    </tr>\n",
              "    <tr>\n",
              "      <th>26</th>\n",
              "      <td>1</td>\n",
              "      <td>1</td>\n",
              "      <td>0</td>\n",
              "      <td>1</td>\n",
              "      <td>0</td>\n",
              "      <td>1</td>\n",
              "    </tr>\n",
              "    <tr>\n",
              "      <th>27</th>\n",
              "      <td>1</td>\n",
              "      <td>1</td>\n",
              "      <td>0</td>\n",
              "      <td>1</td>\n",
              "      <td>1</td>\n",
              "      <td>1</td>\n",
              "    </tr>\n",
              "    <tr>\n",
              "      <th>28</th>\n",
              "      <td>1</td>\n",
              "      <td>1</td>\n",
              "      <td>1</td>\n",
              "      <td>0</td>\n",
              "      <td>0</td>\n",
              "      <td>1</td>\n",
              "    </tr>\n",
              "    <tr>\n",
              "      <th>29</th>\n",
              "      <td>1</td>\n",
              "      <td>1</td>\n",
              "      <td>1</td>\n",
              "      <td>0</td>\n",
              "      <td>1</td>\n",
              "      <td>1</td>\n",
              "    </tr>\n",
              "    <tr>\n",
              "      <th>30</th>\n",
              "      <td>1</td>\n",
              "      <td>1</td>\n",
              "      <td>1</td>\n",
              "      <td>1</td>\n",
              "      <td>0</td>\n",
              "      <td>1</td>\n",
              "    </tr>\n",
              "    <tr>\n",
              "      <th>31</th>\n",
              "      <td>1</td>\n",
              "      <td>1</td>\n",
              "      <td>1</td>\n",
              "      <td>1</td>\n",
              "      <td>1</td>\n",
              "      <td>1</td>\n",
              "    </tr>\n",
              "  </tbody>\n",
              "</table>\n",
              "</div>\n",
              "      <button class=\"colab-df-convert\" onclick=\"convertToInteractive('df-5371f8d9-e437-4027-a889-4a45e253385e')\"\n",
              "              title=\"Convert this dataframe to an interactive table.\"\n",
              "              style=\"display:none;\">\n",
              "        \n",
              "  <svg xmlns=\"http://www.w3.org/2000/svg\" height=\"24px\"viewBox=\"0 0 24 24\"\n",
              "       width=\"24px\">\n",
              "    <path d=\"M0 0h24v24H0V0z\" fill=\"none\"/>\n",
              "    <path d=\"M18.56 5.44l.94 2.06.94-2.06 2.06-.94-2.06-.94-.94-2.06-.94 2.06-2.06.94zm-11 1L8.5 8.5l.94-2.06 2.06-.94-2.06-.94L8.5 2.5l-.94 2.06-2.06.94zm10 10l.94 2.06.94-2.06 2.06-.94-2.06-.94-.94-2.06-.94 2.06-2.06.94z\"/><path d=\"M17.41 7.96l-1.37-1.37c-.4-.4-.92-.59-1.43-.59-.52 0-1.04.2-1.43.59L10.3 9.45l-7.72 7.72c-.78.78-.78 2.05 0 2.83L4 21.41c.39.39.9.59 1.41.59.51 0 1.02-.2 1.41-.59l7.78-7.78 2.81-2.81c.8-.78.8-2.07 0-2.86zM5.41 20L4 18.59l7.72-7.72 1.47 1.35L5.41 20z\"/>\n",
              "  </svg>\n",
              "      </button>\n",
              "      \n",
              "  <style>\n",
              "    .colab-df-container {\n",
              "      display:flex;\n",
              "      flex-wrap:wrap;\n",
              "      gap: 12px;\n",
              "    }\n",
              "\n",
              "    .colab-df-convert {\n",
              "      background-color: #E8F0FE;\n",
              "      border: none;\n",
              "      border-radius: 50%;\n",
              "      cursor: pointer;\n",
              "      display: none;\n",
              "      fill: #1967D2;\n",
              "      height: 32px;\n",
              "      padding: 0 0 0 0;\n",
              "      width: 32px;\n",
              "    }\n",
              "\n",
              "    .colab-df-convert:hover {\n",
              "      background-color: #E2EBFA;\n",
              "      box-shadow: 0px 1px 2px rgba(60, 64, 67, 0.3), 0px 1px 3px 1px rgba(60, 64, 67, 0.15);\n",
              "      fill: #174EA6;\n",
              "    }\n",
              "\n",
              "    [theme=dark] .colab-df-convert {\n",
              "      background-color: #3B4455;\n",
              "      fill: #D2E3FC;\n",
              "    }\n",
              "\n",
              "    [theme=dark] .colab-df-convert:hover {\n",
              "      background-color: #434B5C;\n",
              "      box-shadow: 0px 1px 3px 1px rgba(0, 0, 0, 0.15);\n",
              "      filter: drop-shadow(0px 1px 2px rgba(0, 0, 0, 0.3));\n",
              "      fill: #FFFFFF;\n",
              "    }\n",
              "  </style>\n",
              "\n",
              "      <script>\n",
              "        const buttonEl =\n",
              "          document.querySelector('#df-5371f8d9-e437-4027-a889-4a45e253385e button.colab-df-convert');\n",
              "        buttonEl.style.display =\n",
              "          google.colab.kernel.accessAllowed ? 'block' : 'none';\n",
              "\n",
              "        async function convertToInteractive(key) {\n",
              "          const element = document.querySelector('#df-5371f8d9-e437-4027-a889-4a45e253385e');\n",
              "          const dataTable =\n",
              "            await google.colab.kernel.invokeFunction('convertToInteractive',\n",
              "                                                     [key], {});\n",
              "          if (!dataTable) return;\n",
              "\n",
              "          const docLinkHtml = 'Like what you see? Visit the ' +\n",
              "            '<a target=\"_blank\" href=https://colab.research.google.com/notebooks/data_table.ipynb>data table notebook</a>'\n",
              "            + ' to learn more about interactive tables.';\n",
              "          element.innerHTML = '';\n",
              "          dataTable['output_type'] = 'display_data';\n",
              "          await google.colab.output.renderOutput(dataTable, element);\n",
              "          const docLink = document.createElement('div');\n",
              "          docLink.innerHTML = docLinkHtml;\n",
              "          element.appendChild(docLink);\n",
              "        }\n",
              "      </script>\n",
              "    </div>\n",
              "  </div>\n",
              "  "
            ]
          },
          "metadata": {},
          "execution_count": 112
        }
      ]
    },
    {
      "cell_type": "markdown",
      "source": [
        "# Training"
      ],
      "metadata": {
        "id": "CmiinsFOCBWQ"
      }
    },
    {
      "cell_type": "markdown",
      "source": [
        "Training & Testing Data"
      ],
      "metadata": {
        "id": "OuLGjWjf57jr"
      }
    },
    {
      "cell_type": "code",
      "source": [
        "train = math.ceil(l * (percentage / 100)) # no of training data\n",
        "test = l - train # no of testing data\n",
        "print(train, test)"
      ],
      "metadata": {
        "colab": {
          "base_uri": "https://localhost:8080/"
        },
        "id": "klfszET459q2",
        "outputId": "dc1f4fa5-54e3-431e-c538-0f6fc6efb817"
      },
      "execution_count": null,
      "outputs": [
        {
          "output_type": "stream",
          "name": "stdout",
          "text": [
            "20 12\n"
          ]
        }
      ]
    },
    {
      "cell_type": "markdown",
      "source": [
        "Learning"
      ],
      "metadata": {
        "id": "w72BN3CXndUm"
      }
    },
    {
      "cell_type": "code",
      "source": [
        "n = 50 # no of times loop will run\n",
        "act_y = [0] * (n + 1)\n",
        "it = 0 # no of iteration\n",
        "i = 0 # loop iterator\n",
        "\n",
        "while True:\n",
        "  it = it + 1\n",
        "  if i >= train:    # iterate through only train data\n",
        "    i = 0\n",
        "\n",
        "  sop = 0\n",
        "  for k in range(b):\n",
        "    sop = sop + (df.iloc[i, b - 1 - k] * w[k])\n",
        "  \n",
        "\n",
        "  # actual output according to the thresholding function\n",
        "  if sop >= T:\n",
        "    act_y[i] = 1\n",
        "  else:\n",
        "    act_y[i] = 0 \n",
        "\n",
        "  # actual and desired output comparison\n",
        "  if act_y[i] == df.loc[i, 'y']:  # desired and actual matched\n",
        "    i = i + 1                     # no change in weight\n",
        "  else:\n",
        "    if df.loc[i, 'y'] == 1 and act_y[i] == 0:     # desired 1, actual 0\n",
        "      for j in range(0, len(w)):                  \n",
        "        w[j] = w[j] + df.iloc[i, len(w) - 1 - j]  # add input to weight\n",
        "      i = 0                                       # startover\n",
        "    else:                                         # desired 0, actual 1\n",
        "      for j in range(0, len(w)):\n",
        "        w[j] = w[j] - df.iloc[i, len(w) - 1 - j]  # subtract input from weight\n",
        "      i = 0                                       # startover\n",
        "\n",
        "  if it > n : # loop runs n + 1 times\n",
        "    break\n",
        "\n",
        "print('Adapted weight:', w)\n",
        "print('no of iterations: ', it)"
      ],
      "metadata": {
        "colab": {
          "base_uri": "https://localhost:8080/"
        },
        "id": "EQZx3FGvnAQF",
        "outputId": "153df0f8-5e20-4e10-dec4-6233f14582f7"
      },
      "execution_count": null,
      "outputs": [
        {
          "output_type": "stream",
          "name": "stdout",
          "text": [
            "Adapted weight: [0.1, -0.7, -0.8, 0.3, 1.4]\n",
            "no of iterations:  51\n"
          ]
        }
      ]
    },
    {
      "cell_type": "markdown",
      "source": [
        "# Testing"
      ],
      "metadata": {
        "id": "gNb2kOrM5EXm"
      }
    },
    {
      "cell_type": "code",
      "source": [
        "# desired output\n",
        "origin = df.loc[train:, 'y'].values.tolist()\n",
        "print(origin)"
      ],
      "metadata": {
        "colab": {
          "base_uri": "https://localhost:8080/"
        },
        "id": "9o8GICPDt3l0",
        "outputId": "97520ee5-c73e-42b4-a629-fd4f6ea701da"
      },
      "execution_count": null,
      "outputs": [
        {
          "output_type": "stream",
          "name": "stdout",
          "text": [
            "[1, 1, 1, 1, 1, 1, 1, 1, 1, 1, 1, 1]\n"
          ]
        }
      ]
    },
    {
      "cell_type": "code",
      "source": [
        "# actual output \n",
        "result = []\n",
        "for i in range(train, len(df)):\n",
        "\n",
        "  sop = 0\n",
        "  for k in range(b):\n",
        "    sop = sop + (df.iloc[i, b - 1 - k] * w[k])\n",
        "  \n",
        "  if sop >= T:\n",
        "    result.append(1)\n",
        "  else:\n",
        "    result.append(0)\n",
        "print(result)"
      ],
      "metadata": {
        "colab": {
          "base_uri": "https://localhost:8080/"
        },
        "id": "oKr6shi19UXN",
        "outputId": "9ca9b32f-f817-4c7b-a99b-c25966a72824"
      },
      "execution_count": null,
      "outputs": [
        {
          "output_type": "stream",
          "name": "stdout",
          "text": [
            "[1, 1, 0, 0, 1, 1, 1, 1, 1, 1, 0, 0]\n"
          ]
        }
      ]
    },
    {
      "cell_type": "markdown",
      "source": [
        "Accuracy Calculation type1"
      ],
      "metadata": {
        "id": "aEUd5zhIAV5D"
      }
    },
    {
      "cell_type": "code",
      "source": [
        "accuracy(result, origin)"
      ],
      "metadata": {
        "colab": {
          "base_uri": "https://localhost:8080/"
        },
        "id": "8BQHylivANWM",
        "outputId": "bc58eb17-1765-4b5e-d2f5-f67df649adf9"
      },
      "execution_count": null,
      "outputs": [
        {
          "output_type": "stream",
          "name": "stdout",
          "text": [
            "Accuracy:  66.67 %\n"
          ]
        }
      ]
    },
    {
      "cell_type": "markdown",
      "source": [
        "# Type - 2"
      ],
      "metadata": {
        "id": "x8sTx4B_RIOQ"
      }
    },
    {
      "cell_type": "code",
      "source": [
        "n = 50 # no of times loop will run\n",
        "act_y = [0] * (n + 1)\n",
        "it = 0 # no of iteration\n",
        "i = 0 # loop iterator\n",
        "\n",
        "while True:\n",
        "  it = it + 1\n",
        "  if i >= train:    # iterate through only train data\n",
        "    if i > (train / 2):\n",
        "        i = math.ceil(train / 2)\n",
        "    else:\n",
        "        i = 0\n",
        "  for k in range(b):\n",
        "    sop = sop + (df.iloc[i, b - 1 - k] * w[k])\n",
        "\n",
        "  # actual output according to the thresholding function\n",
        "  if sop >= T:\n",
        "    act_y[i] = 1\n",
        "  else:\n",
        "    act_y[i] = 0 \n",
        "\n",
        "  # actual and desired output comparison\n",
        "  if act_y[i] == df2.loc[i, 'y']:  # desired and actual matched\n",
        "    i = i + 1                     # no change in weight\n",
        "  else:\n",
        "    if df2.loc[i, 'y'] == 1 and act_y[i] == 0:     # desired 1, actual 0\n",
        "      for j in range(0, len(w)):                  \n",
        "        w[j] = w[j] + df2.iloc[i, len(w) - 1 - j]  # add input to weight\n",
        "      \n",
        "      if i > (train / 2):\n",
        "        i = math.ceil(train / 2)\n",
        "      else:\n",
        "        i = 0                                       # startover\n",
        "    else:                                         # desired 0, actual 1\n",
        "      for j in range(0, len(w)):\n",
        "        w[j] = w[j] - df2.iloc[i, len(w) - 1 - j]  # subtract input from weight\n",
        "      if i > (train / 2):\n",
        "        i = math.ceil(train / 2)\n",
        "      else:\n",
        "        i = 0                                     # startover\n",
        "\n",
        "  if it > n : # loop runs n + 1 times\n",
        "    break\n",
        "\n",
        "print('Adapted weight:', w)\n",
        "print('no of iterations: ', it)"
      ],
      "metadata": {
        "colab": {
          "base_uri": "https://localhost:8080/"
        },
        "id": "AfVPef7vRLpu",
        "outputId": "a38efda1-a30d-4102-ee0a-31b12deb2e2f"
      },
      "execution_count": null,
      "outputs": [
        {
          "output_type": "stream",
          "name": "stdout",
          "text": [
            "Adapted weight: [0.1, -0.7, -0.8, 0.3, 6.4]\n",
            "no of iterations:  51\n"
          ]
        }
      ]
    },
    {
      "cell_type": "code",
      "source": [
        "# actual output type2 \n",
        "result2 = []\n",
        "for i in range(train, len(df2)):\n",
        "  sop = 0\n",
        "  for k in range(b):\n",
        "    sop = sop + (df.iloc[i, b - 1 - k] * w[k])\n",
        "  if sop >= T:\n",
        "    result2.append(1)\n",
        "  else:\n",
        "    result2.append(0)\n",
        "print(result2)"
      ],
      "metadata": {
        "colab": {
          "base_uri": "https://localhost:8080/"
        },
        "id": "4EWmCFIoxuIL",
        "outputId": "be84a7f5-5802-4ff2-b0b1-3419e202681e"
      },
      "execution_count": null,
      "outputs": [
        {
          "output_type": "stream",
          "name": "stdout",
          "text": [
            "[1, 1, 1, 1, 1, 1, 1, 1, 1, 1, 1, 1]\n"
          ]
        }
      ]
    },
    {
      "cell_type": "markdown",
      "source": [
        "Accuracy calculation type 2"
      ],
      "metadata": {
        "id": "VTU5ZVFMU9fA"
      }
    },
    {
      "cell_type": "code",
      "source": [
        "accuracy(result2, origin)"
      ],
      "metadata": {
        "id": "tmWwVD8xU_hN",
        "colab": {
          "base_uri": "https://localhost:8080/"
        },
        "outputId": "2a44fe71-942c-4ada-b586-bacbad3c008c"
      },
      "execution_count": null,
      "outputs": [
        {
          "output_type": "stream",
          "name": "stdout",
          "text": [
            "Accuracy:  100.0 %\n"
          ]
        }
      ]
    }
  ]
}