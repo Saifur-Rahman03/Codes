{
  "nbformat": 4,
  "nbformat_minor": 0,
  "metadata": {
    "colab": {
      "provenance": [],
      "toc_visible": true
    },
    "kernelspec": {
      "name": "python3",
      "display_name": "Python 3"
    },
    "language_info": {
      "name": "python"
    }
  },
  "cells": [
    {
      "cell_type": "markdown",
      "source": [
        "# Imports"
      ],
      "metadata": {
        "id": "MxlS9xivUjDm"
      }
    },
    {
      "cell_type": "code",
      "execution_count": null,
      "metadata": {
        "id": "uUGnCLSnQ7Ta"
      },
      "outputs": [],
      "source": [
        "import pandas as pd"
      ]
    },
    {
      "cell_type": "markdown",
      "source": [
        "# Input Data"
      ],
      "metadata": {
        "id": "nVUt0IrkUlX_"
      }
    },
    {
      "cell_type": "code",
      "source": [
        "# input\n",
        "x1 = [0, 1, 0, 1, 0, 1, 0, 1]\n",
        "x2 = [0, 0, 1, 1, 0, 0, 1, 1]\n",
        "x3 = [0, 0, 0, 0, 1, 1, 1, 1]\n",
        "# weight\n",
        "w = [0.1, 0.3, 0.2]\n",
        "# output\n",
        "y = [0, 0, 0, 0, 1, 1, 1, 1]\n",
        "# thresholding function\n",
        "T = 0.5"
      ],
      "metadata": {
        "id": "vVdDsB0rUmn3"
      },
      "execution_count": null,
      "outputs": []
    },
    {
      "cell_type": "markdown",
      "source": [
        "Dataframe Definition"
      ],
      "metadata": {
        "id": "OwK4kqzOVKAL"
      }
    },
    {
      "cell_type": "code",
      "source": [
        "df = pd.DataFrame(list(zip(x3, x2, x1, y)), columns = ['x3', 'x2', 'x1', 'y'])\n",
        "test_df = df.copy() # copied dataframe for accuracy calculation\n",
        "l = len(df)\n",
        "df"
      ],
      "metadata": {
        "colab": {
          "base_uri": "https://localhost:8080/",
          "height": 300
        },
        "id": "d1n3yovuVJdd",
        "outputId": "4798f54c-0fcc-4f92-9caf-52b9437333d8"
      },
      "execution_count": null,
      "outputs": [
        {
          "output_type": "execute_result",
          "data": {
            "text/plain": [
              "   x3  x2  x1  y\n",
              "0   0   0   0  0\n",
              "1   0   0   1  0\n",
              "2   0   1   0  0\n",
              "3   0   1   1  0\n",
              "4   1   0   0  1\n",
              "5   1   0   1  1\n",
              "6   1   1   0  1\n",
              "7   1   1   1  1"
            ],
            "text/html": [
              "\n",
              "  <div id=\"df-a6601515-8489-4b16-a29c-6782f2caf4e3\">\n",
              "    <div class=\"colab-df-container\">\n",
              "      <div>\n",
              "<style scoped>\n",
              "    .dataframe tbody tr th:only-of-type {\n",
              "        vertical-align: middle;\n",
              "    }\n",
              "\n",
              "    .dataframe tbody tr th {\n",
              "        vertical-align: top;\n",
              "    }\n",
              "\n",
              "    .dataframe thead th {\n",
              "        text-align: right;\n",
              "    }\n",
              "</style>\n",
              "<table border=\"1\" class=\"dataframe\">\n",
              "  <thead>\n",
              "    <tr style=\"text-align: right;\">\n",
              "      <th></th>\n",
              "      <th>x3</th>\n",
              "      <th>x2</th>\n",
              "      <th>x1</th>\n",
              "      <th>y</th>\n",
              "    </tr>\n",
              "  </thead>\n",
              "  <tbody>\n",
              "    <tr>\n",
              "      <th>0</th>\n",
              "      <td>0</td>\n",
              "      <td>0</td>\n",
              "      <td>0</td>\n",
              "      <td>0</td>\n",
              "    </tr>\n",
              "    <tr>\n",
              "      <th>1</th>\n",
              "      <td>0</td>\n",
              "      <td>0</td>\n",
              "      <td>1</td>\n",
              "      <td>0</td>\n",
              "    </tr>\n",
              "    <tr>\n",
              "      <th>2</th>\n",
              "      <td>0</td>\n",
              "      <td>1</td>\n",
              "      <td>0</td>\n",
              "      <td>0</td>\n",
              "    </tr>\n",
              "    <tr>\n",
              "      <th>3</th>\n",
              "      <td>0</td>\n",
              "      <td>1</td>\n",
              "      <td>1</td>\n",
              "      <td>0</td>\n",
              "    </tr>\n",
              "    <tr>\n",
              "      <th>4</th>\n",
              "      <td>1</td>\n",
              "      <td>0</td>\n",
              "      <td>0</td>\n",
              "      <td>1</td>\n",
              "    </tr>\n",
              "    <tr>\n",
              "      <th>5</th>\n",
              "      <td>1</td>\n",
              "      <td>0</td>\n",
              "      <td>1</td>\n",
              "      <td>1</td>\n",
              "    </tr>\n",
              "    <tr>\n",
              "      <th>6</th>\n",
              "      <td>1</td>\n",
              "      <td>1</td>\n",
              "      <td>0</td>\n",
              "      <td>1</td>\n",
              "    </tr>\n",
              "    <tr>\n",
              "      <th>7</th>\n",
              "      <td>1</td>\n",
              "      <td>1</td>\n",
              "      <td>1</td>\n",
              "      <td>1</td>\n",
              "    </tr>\n",
              "  </tbody>\n",
              "</table>\n",
              "</div>\n",
              "      <button class=\"colab-df-convert\" onclick=\"convertToInteractive('df-a6601515-8489-4b16-a29c-6782f2caf4e3')\"\n",
              "              title=\"Convert this dataframe to an interactive table.\"\n",
              "              style=\"display:none;\">\n",
              "        \n",
              "  <svg xmlns=\"http://www.w3.org/2000/svg\" height=\"24px\"viewBox=\"0 0 24 24\"\n",
              "       width=\"24px\">\n",
              "    <path d=\"M0 0h24v24H0V0z\" fill=\"none\"/>\n",
              "    <path d=\"M18.56 5.44l.94 2.06.94-2.06 2.06-.94-2.06-.94-.94-2.06-.94 2.06-2.06.94zm-11 1L8.5 8.5l.94-2.06 2.06-.94-2.06-.94L8.5 2.5l-.94 2.06-2.06.94zm10 10l.94 2.06.94-2.06 2.06-.94-2.06-.94-.94-2.06-.94 2.06-2.06.94z\"/><path d=\"M17.41 7.96l-1.37-1.37c-.4-.4-.92-.59-1.43-.59-.52 0-1.04.2-1.43.59L10.3 9.45l-7.72 7.72c-.78.78-.78 2.05 0 2.83L4 21.41c.39.39.9.59 1.41.59.51 0 1.02-.2 1.41-.59l7.78-7.78 2.81-2.81c.8-.78.8-2.07 0-2.86zM5.41 20L4 18.59l7.72-7.72 1.47 1.35L5.41 20z\"/>\n",
              "  </svg>\n",
              "      </button>\n",
              "      \n",
              "  <style>\n",
              "    .colab-df-container {\n",
              "      display:flex;\n",
              "      flex-wrap:wrap;\n",
              "      gap: 12px;\n",
              "    }\n",
              "\n",
              "    .colab-df-convert {\n",
              "      background-color: #E8F0FE;\n",
              "      border: none;\n",
              "      border-radius: 50%;\n",
              "      cursor: pointer;\n",
              "      display: none;\n",
              "      fill: #1967D2;\n",
              "      height: 32px;\n",
              "      padding: 0 0 0 0;\n",
              "      width: 32px;\n",
              "    }\n",
              "\n",
              "    .colab-df-convert:hover {\n",
              "      background-color: #E2EBFA;\n",
              "      box-shadow: 0px 1px 2px rgba(60, 64, 67, 0.3), 0px 1px 3px 1px rgba(60, 64, 67, 0.15);\n",
              "      fill: #174EA6;\n",
              "    }\n",
              "\n",
              "    [theme=dark] .colab-df-convert {\n",
              "      background-color: #3B4455;\n",
              "      fill: #D2E3FC;\n",
              "    }\n",
              "\n",
              "    [theme=dark] .colab-df-convert:hover {\n",
              "      background-color: #434B5C;\n",
              "      box-shadow: 0px 1px 3px 1px rgba(0, 0, 0, 0.15);\n",
              "      filter: drop-shadow(0px 1px 2px rgba(0, 0, 0, 0.3));\n",
              "      fill: #FFFFFF;\n",
              "    }\n",
              "  </style>\n",
              "\n",
              "      <script>\n",
              "        const buttonEl =\n",
              "          document.querySelector('#df-a6601515-8489-4b16-a29c-6782f2caf4e3 button.colab-df-convert');\n",
              "        buttonEl.style.display =\n",
              "          google.colab.kernel.accessAllowed ? 'block' : 'none';\n",
              "\n",
              "        async function convertToInteractive(key) {\n",
              "          const element = document.querySelector('#df-a6601515-8489-4b16-a29c-6782f2caf4e3');\n",
              "          const dataTable =\n",
              "            await google.colab.kernel.invokeFunction('convertToInteractive',\n",
              "                                                     [key], {});\n",
              "          if (!dataTable) return;\n",
              "\n",
              "          const docLinkHtml = 'Like what you see? Visit the ' +\n",
              "            '<a target=\"_blank\" href=https://colab.research.google.com/notebooks/data_table.ipynb>data table notebook</a>'\n",
              "            + ' to learn more about interactive tables.';\n",
              "          element.innerHTML = '';\n",
              "          dataTable['output_type'] = 'display_data';\n",
              "          await google.colab.output.renderOutput(dataTable, element);\n",
              "          const docLink = document.createElement('div');\n",
              "          docLink.innerHTML = docLinkHtml;\n",
              "          element.appendChild(docLink);\n",
              "        }\n",
              "      </script>\n",
              "    </div>\n",
              "  </div>\n",
              "  "
            ]
          },
          "metadata": {},
          "execution_count": 355
        }
      ]
    },
    {
      "cell_type": "markdown",
      "source": [
        "# Training"
      ],
      "metadata": {
        "id": "CmiinsFOCBWQ"
      }
    },
    {
      "cell_type": "markdown",
      "source": [
        "Training & Testing Data"
      ],
      "metadata": {
        "id": "OuLGjWjf57jr"
      }
    },
    {
      "cell_type": "code",
      "source": [
        "train = 5 # no of training data\n",
        "test = len(df) - train # no of testing data\n",
        "print(train, test)"
      ],
      "metadata": {
        "colab": {
          "base_uri": "https://localhost:8080/"
        },
        "id": "klfszET459q2",
        "outputId": "7fcd713e-fec4-4f83-a300-bdd2e83636d4"
      },
      "execution_count": null,
      "outputs": [
        {
          "output_type": "stream",
          "name": "stdout",
          "text": [
            "5 3\n"
          ]
        }
      ]
    },
    {
      "cell_type": "markdown",
      "source": [
        "Learning"
      ],
      "metadata": {
        "id": "w72BN3CXndUm"
      }
    },
    {
      "cell_type": "code",
      "source": [
        "#print(df.loc[:,\"x1\"] * w[0] + df.loc[:,\"x2\"] * w[1] + df.loc[:,\"x3\"] * w[2])"
      ],
      "metadata": {
        "id": "2vRP5S1DzagJ"
      },
      "execution_count": null,
      "outputs": []
    },
    {
      "cell_type": "code",
      "source": [
        "n = 20 # no of times loop will run\n",
        "act_y = [0] * (n + 1)\n",
        "it = 0 # no of iteration\n",
        "i = 0 # loop iterator\n",
        "\n",
        "while True:\n",
        "  it = it + 1\n",
        "  if i >= train:    # iterate through only train data\n",
        "    i = 0\n",
        "  sop = round(df.loc[i,\"x1\"] * w[0] + df.loc[i,\"x2\"] * w[1] + df.loc[i,\"x3\"] * w[2], 2) # sum of product calculation\n",
        "  \n",
        "\n",
        "  # actual output according to the thresholding function\n",
        "  if sop >= T:\n",
        "    act_y[i] = 1\n",
        "  else:\n",
        "    act_y[i] = 0 \n",
        "\n",
        "  # actual and desired output comparison\n",
        "  if act_y[i] == df.loc[i, 'y']:  # desired and actual matched\n",
        "    i = i + 1                     # no change in weight\n",
        "  else:\n",
        "    if df.loc[i, 'y'] == 1 and act_y[i] == 0:     # desired 1, actual 0\n",
        "      for j in range(0, len(w)):                  \n",
        "        w[j] = w[j] + df.iloc[i, len(w) - 1 - j]  # add input to weight\n",
        "      print(w)\n",
        "      i = 0                                       # startover\n",
        "    else:                                         # desired 0, actual 1\n",
        "      for j in range(0, len(w)):\n",
        "        w[j] = w[j] - df.iloc[i, len(w) - 1 - j]  # subtract input from weight\n",
        "      i = 0                                       # startover\n",
        "\n",
        "  if it > n : # loop runs n + 1 times\n",
        "    break\n",
        "\n",
        "print('Adapted weight:', w)\n",
        "print('no of iterations: ', it)"
      ],
      "metadata": {
        "colab": {
          "base_uri": "https://localhost:8080/"
        },
        "id": "EQZx3FGvnAQF",
        "outputId": "2cf4b777-9f03-4a2b-dd14-3fb895926ac5"
      },
      "execution_count": null,
      "outputs": [
        {
          "output_type": "stream",
          "name": "stdout",
          "text": [
            "[0.1, 0.3, 1.2]\n",
            "Adapted weight: [0.1, 0.3, 1.2]\n",
            "no of iterations:  21\n"
          ]
        }
      ]
    },
    {
      "cell_type": "markdown",
      "source": [
        "# Testing"
      ],
      "metadata": {
        "id": "gNb2kOrM5EXm"
      }
    },
    {
      "cell_type": "code",
      "source": [
        "# desired output\n",
        "origin = df.loc[train:, 'y'].values.tolist()\n",
        "print(origin)"
      ],
      "metadata": {
        "colab": {
          "base_uri": "https://localhost:8080/"
        },
        "id": "9o8GICPDt3l0",
        "outputId": "34b8d502-b5de-4c90-c71e-ef4f714fe36b"
      },
      "execution_count": null,
      "outputs": [
        {
          "output_type": "stream",
          "name": "stdout",
          "text": [
            "[1, 1, 1]\n"
          ]
        }
      ]
    },
    {
      "cell_type": "code",
      "source": [
        "# actual output \n",
        "result = []\n",
        "for i in range(train, len(df)):\n",
        "  sop = round(df.loc[i,\"x1\"] * w[0] + df.loc[i,\"x2\"] * w[1] + df.loc[i,\"x3\"] * w[2], 2)\n",
        "  if sop >= T:\n",
        "    result.append(1)\n",
        "  else:\n",
        "    result.append(0)\n",
        "print(result)"
      ],
      "metadata": {
        "colab": {
          "base_uri": "https://localhost:8080/"
        },
        "id": "oKr6shi19UXN",
        "outputId": "4f09a6e1-479d-45dd-d45d-73cd7d8a012e"
      },
      "execution_count": null,
      "outputs": [
        {
          "output_type": "stream",
          "name": "stdout",
          "text": [
            "[1, 1, 1]\n"
          ]
        }
      ]
    },
    {
      "cell_type": "code",
      "source": [
        "matched = 0\n",
        "non_matched = 0\n",
        "for i in range(0, len(result)):\n",
        "  if result[i] == origin[i]:\n",
        "    matched = matched + 1\n",
        "  else:\n",
        "    non_matched = non_matched + 1\n",
        "print(matched, non_matched)"
      ],
      "metadata": {
        "colab": {
          "base_uri": "https://localhost:8080/"
        },
        "id": "8DuonVc1_Z7L",
        "outputId": "94fd191a-7e53-4eed-f37e-108f7c6debe6"
      },
      "execution_count": null,
      "outputs": [
        {
          "output_type": "stream",
          "name": "stdout",
          "text": [
            "3 0\n"
          ]
        }
      ]
    },
    {
      "cell_type": "code",
      "source": [
        "acc = (matched / (matched + non_matched)) * 100\n",
        "print('Accuracy: ', acc, '%')"
      ],
      "metadata": {
        "colab": {
          "base_uri": "https://localhost:8080/"
        },
        "id": "8BQHylivANWM",
        "outputId": "f4820c2c-239e-4035-a77f-2929d6e1ba32"
      },
      "execution_count": null,
      "outputs": [
        {
          "output_type": "stream",
          "name": "stdout",
          "text": [
            "Accuracy:  100.0 %\n"
          ]
        }
      ]
    }
  ]
}